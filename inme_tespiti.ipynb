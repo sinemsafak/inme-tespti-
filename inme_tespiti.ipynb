{
  "nbformat": 4,
  "nbformat_minor": 0,
  "metadata": {
    "colab": {
      "provenance": [],
      "gpuType": "T4"
    },
    "kernelspec": {
      "name": "python3",
      "display_name": "Python 3"
    },
    "language_info": {
      "name": "python"
    },
    "accelerator": "GPU"
  },
  "cells": [
    {
      "cell_type": "code",
      "source": [
        "# Google Drive mount (Colab icin)\n",
        "from google.colab import drive\n",
        "drive.mount('/content/drive')\n"
      ],
      "metadata": {
        "colab": {
          "base_uri": "https://localhost:8080/"
        },
        "id": "1PJVhwgj6ymk",
        "outputId": "27461c78-1986-4e84-cbef-b2df94aac3d3"
      },
      "execution_count": 1,
      "outputs": [
        {
          "output_type": "stream",
          "name": "stdout",
          "text": [
            "Drive already mounted at /content/drive; to attempt to forcibly remount, call drive.mount(\"/content/drive\", force_remount=True).\n"
          ]
        }
      ]
    },
    {
      "cell_type": "code",
      "execution_count": 2,
      "metadata": {
        "colab": {
          "base_uri": "https://localhost:8080/"
        },
        "id": "C__DrqYQ4Rxt",
        "outputId": "3577b408-0f27-4f73-a461-dc8851b73e1a"
      },
      "outputs": [
        {
          "output_type": "stream",
          "name": "stdout",
          "text": [
            "✅ Tüm görüntüler doğru şekilde /content/combined_dataset altına kopyalandı.\n"
          ]
        }
      ],
      "source": [
        "import shutil\n",
        "import os\n",
        "# Hedef klasör\n",
        "combined_dataset_path = \"/content/combined_dataset\"\n",
        "\n",
        "# Kaynak ve hedef klasör eşleşmeleri\n",
        "class_folders = {\n",
        "    \"inme_yok\": \"/content/drive/MyDrive/Colab Notebooks/teknofest/İnme Yok_kronik süreç_diğer Veri Set_PNG\",\n",
        "    \"iskemi\": \"/content/drive/MyDrive/Colab Notebooks/teknofest/İskemi Veri Seti/PNG\",\n",
        "    \"kanama\": \"/content/drive/MyDrive/Colab Notebooks/teknofest/Kanama Veri Seti/PNG\"\n",
        "}\n",
        "\n",
        "# Kopyalama işlemi\n",
        "for class_name, src_path in class_folders.items():\n",
        "    dest_path = os.path.join(combined_dataset_path, class_name)\n",
        "    os.makedirs(dest_path, exist_ok=True)\n",
        "    for file_name in os.listdir(src_path):\n",
        "        src_file = os.path.join(src_path, file_name)\n",
        "        dest_file = os.path.join(dest_path, file_name)\n",
        "        if os.path.isfile(src_file):\n",
        "            shutil.copy(src_file, dest_file)\n",
        "\n",
        "print(\"✅ Tüm görüntüler doğru şekilde /content/combined_dataset altına kopyalandı.\")\n"
      ]
    },
    {
      "cell_type": "code",
      "source": [
        "import os\n",
        "import torch\n",
        "import torch.nn as nn\n",
        "import matplotlib.pyplot as plt\n",
        "import numpy as np\n",
        "from torch.utils.data import DataLoader, random_split\n",
        "from torchvision import datasets, transforms\n",
        "from sklearn.metrics import confusion_matrix, accuracy_score\n",
        "import seaborn as sns\n",
        "\n",
        "from torchvision import datasets, transforms, models\n",
        "from tqdm import tqdm"
      ],
      "metadata": {
        "id": "Ahc5uRqn6wpd"
      },
      "execution_count": 3,
      "outputs": []
    },
    {
      "cell_type": "code",
      "source": [
        "from torchvision import datasets, transforms\n",
        "from torch.utils.data import DataLoader, random_split\n",
        "\n",
        "dataset_path = \"/content/combined_dataset\"\n",
        "\n",
        "transform = transforms.Compose([\n",
        "    transforms.Resize((224, 224)),\n",
        "    transforms.ToTensor(),\n",
        "])\n",
        "\n",
        "full_dataset = datasets.ImageFolder(root=dataset_path, transform=transform)\n",
        "\n",
        "train_size = int(0.8 * len(full_dataset))\n",
        "val_size = len(full_dataset) - train_size\n",
        "train_dataset, val_dataset = random_split(full_dataset, [train_size, val_size])\n",
        "\n",
        "train_loader = DataLoader(train_dataset, batch_size=32, shuffle=True)\n",
        "val_loader = DataLoader(val_dataset, batch_size=32, shuffle=False)\n"
      ],
      "metadata": {
        "id": "Z4FLE_LF_L9m"
      },
      "execution_count": 4,
      "outputs": []
    },
    {
      "cell_type": "code",
      "source": [
        "from torchvision.models import (\n",
        "    vgg16, resnet50, densenet121, efficientnet_b0, mobilenet_v2\n",
        ")\n",
        "import torch.nn as nn\n",
        "\n",
        "def get_model(model_name, num_classes, device):\n",
        "    if model_name == \"vgg16\":\n",
        "        model = vgg16(pretrained=True)\n",
        "        model.classifier[6] = nn.Linear(model.classifier[6].in_features, num_classes)\n",
        "        for param in model.parameters():\n",
        "            param.requires_grad = False\n",
        "        for param in model.classifier[6].parameters():\n",
        "            param.requires_grad = True\n",
        "\n",
        "    elif model_name == \"resnet50\":\n",
        "        model = resnet50(pretrained=True)\n",
        "        model.fc = nn.Linear(model.fc.in_features, num_classes)\n",
        "        for param in model.parameters():\n",
        "            param.requires_grad = False\n",
        "        for param in model.fc.parameters():\n",
        "            param.requires_grad = True\n",
        "\n",
        "    elif model_name == \"densenet121\":\n",
        "        model = densenet121(pretrained=True)\n",
        "        model.classifier = nn.Linear(model.classifier.in_features, num_classes)\n",
        "        for param in model.parameters():\n",
        "            param.requires_grad = False\n",
        "        for param in model.classifier.parameters():\n",
        "            param.requires_grad = True\n",
        "\n",
        "    elif model_name == \"efficientnet_b0\":\n",
        "        model = efficientnet_b0(pretrained=True)\n",
        "        model.classifier[1] = nn.Linear(model.classifier[1].in_features, num_classes)\n",
        "        for param in model.parameters():\n",
        "            param.requires_grad = False\n",
        "        for param in model.classifier[1].parameters():\n",
        "            param.requires_grad = True\n",
        "\n",
        "    elif model_name == \"mobilenet_v2\":\n",
        "        model = mobilenet_v2(pretrained=True)\n",
        "        model.classifier[1] = nn.Linear(model.classifier[1].in_features, num_classes)\n",
        "        for param in model.parameters():\n",
        "            param.requires_grad = False\n",
        "        for param in model.classifier[1].parameters():\n",
        "            param.requires_grad = True\n",
        "\n",
        "    else:\n",
        "        raise ValueError(f\"Unsupported model: {model_name}\")\n",
        "\n",
        "    return model.to(device)\n"
      ],
      "metadata": {
        "id": "uW5C48He_W0R"
      },
      "execution_count": 5,
      "outputs": []
    },
    {
      "cell_type": "code",
      "source": [
        "import os\n",
        "\n",
        "epoch = 100\n",
        "dataset_path = \"resnetdataset\"\n",
        "device = torch.device(\"cuda\" if torch.cuda.is_available() else \"cpu\")\n",
        "num_classes = len(full_dataset.classes)  # ImageFolder ile oluşturulan dataset\n",
        "\n",
        "model_names = [\"vgg16\", \"resnet50\", \"densenet121\", \"efficientnet_b0\", \"mobilenet_v2\"]\n",
        "\n",
        "models = {}\n",
        "\n",
        "for name in model_names:\n",
        "    # Model ismini büyük harfle Model_Name olarak tanımla\n",
        "    Model_Name = f\"SINEM_{name.upper()}\"\n",
        "\n",
        "    # Model kayıt klasörü ve sonuç klasörünü oluştur\n",
        "    model_save_path = f\"Egitilen_Modeller/{dataset_path}/{Model_Name}\"\n",
        "    os.makedirs(model_save_path, exist_ok=True)\n",
        "\n",
        "    result_path = f\"Resut/{dataset_path}/{Model_Name}\"\n",
        "    os.makedirs(result_path, exist_ok=True)\n",
        "\n",
        "    print(f\"🔧 Model: {Model_Name}\")\n",
        "    print(f\"📁 Kayıt klasörü: {model_save_path}\")\n",
        "    print(f\"📁 Sonuç klasörü: {result_path}\")\n",
        "\n",
        "    # Modeli oluştur ve sözlüğe ekle\n",
        "    model = get_model(name, num_classes, device)\n",
        "    models[name] = {\n",
        "        \"model\": model,\n",
        "        \"save_path\": model_save_path,\n",
        "        \"result_path\": result_path\n",
        "    }\n"
      ],
      "metadata": {
        "colab": {
          "base_uri": "https://localhost:8080/"
        },
        "id": "ylnP96v861JV",
        "outputId": "65f61810-b51f-4f7b-8705-3420dd9196c6"
      },
      "execution_count": 6,
      "outputs": [
        {
          "output_type": "stream",
          "name": "stdout",
          "text": [
            "🔧 Model: SINEM_VGG16\n",
            "📁 Kayıt klasörü: Egitilen_Modeller/resnetdataset/SINEM_VGG16\n",
            "📁 Sonuç klasörü: Resut/resnetdataset/SINEM_VGG16\n"
          ]
        },
        {
          "output_type": "stream",
          "name": "stderr",
          "text": [
            "/usr/local/lib/python3.11/dist-packages/torchvision/models/_utils.py:208: UserWarning: The parameter 'pretrained' is deprecated since 0.13 and may be removed in the future, please use 'weights' instead.\n",
            "  warnings.warn(\n",
            "/usr/local/lib/python3.11/dist-packages/torchvision/models/_utils.py:223: UserWarning: Arguments other than a weight enum or `None` for 'weights' are deprecated since 0.13 and may be removed in the future. The current behavior is equivalent to passing `weights=VGG16_Weights.IMAGENET1K_V1`. You can also use `weights=VGG16_Weights.DEFAULT` to get the most up-to-date weights.\n",
            "  warnings.warn(msg)\n",
            "Downloading: \"https://download.pytorch.org/models/vgg16-397923af.pth\" to /root/.cache/torch/hub/checkpoints/vgg16-397923af.pth\n",
            "100%|██████████| 528M/528M [00:06<00:00, 88.9MB/s]\n"
          ]
        },
        {
          "output_type": "stream",
          "name": "stdout",
          "text": [
            "🔧 Model: SINEM_RESNET50\n",
            "📁 Kayıt klasörü: Egitilen_Modeller/resnetdataset/SINEM_RESNET50\n",
            "📁 Sonuç klasörü: Resut/resnetdataset/SINEM_RESNET50\n"
          ]
        },
        {
          "output_type": "stream",
          "name": "stderr",
          "text": [
            "/usr/local/lib/python3.11/dist-packages/torchvision/models/_utils.py:223: UserWarning: Arguments other than a weight enum or `None` for 'weights' are deprecated since 0.13 and may be removed in the future. The current behavior is equivalent to passing `weights=ResNet50_Weights.IMAGENET1K_V1`. You can also use `weights=ResNet50_Weights.DEFAULT` to get the most up-to-date weights.\n",
            "  warnings.warn(msg)\n",
            "Downloading: \"https://download.pytorch.org/models/resnet50-0676ba61.pth\" to /root/.cache/torch/hub/checkpoints/resnet50-0676ba61.pth\n",
            "100%|██████████| 97.8M/97.8M [00:00<00:00, 176MB/s]\n",
            "/usr/local/lib/python3.11/dist-packages/torchvision/models/_utils.py:223: UserWarning: Arguments other than a weight enum or `None` for 'weights' are deprecated since 0.13 and may be removed in the future. The current behavior is equivalent to passing `weights=DenseNet121_Weights.IMAGENET1K_V1`. You can also use `weights=DenseNet121_Weights.DEFAULT` to get the most up-to-date weights.\n",
            "  warnings.warn(msg)\n",
            "Downloading: \"https://download.pytorch.org/models/densenet121-a639ec97.pth\" to /root/.cache/torch/hub/checkpoints/densenet121-a639ec97.pth\n"
          ]
        },
        {
          "output_type": "stream",
          "name": "stdout",
          "text": [
            "🔧 Model: SINEM_DENSENET121\n",
            "📁 Kayıt klasörü: Egitilen_Modeller/resnetdataset/SINEM_DENSENET121\n",
            "📁 Sonuç klasörü: Resut/resnetdataset/SINEM_DENSENET121\n"
          ]
        },
        {
          "output_type": "stream",
          "name": "stderr",
          "text": [
            "100%|██████████| 30.8M/30.8M [00:00<00:00, 70.7MB/s]\n",
            "/usr/local/lib/python3.11/dist-packages/torchvision/models/_utils.py:223: UserWarning: Arguments other than a weight enum or `None` for 'weights' are deprecated since 0.13 and may be removed in the future. The current behavior is equivalent to passing `weights=EfficientNet_B0_Weights.IMAGENET1K_V1`. You can also use `weights=EfficientNet_B0_Weights.DEFAULT` to get the most up-to-date weights.\n",
            "  warnings.warn(msg)\n",
            "Downloading: \"https://download.pytorch.org/models/efficientnet_b0_rwightman-7f5810bc.pth\" to /root/.cache/torch/hub/checkpoints/efficientnet_b0_rwightman-7f5810bc.pth\n"
          ]
        },
        {
          "output_type": "stream",
          "name": "stdout",
          "text": [
            "🔧 Model: SINEM_EFFICIENTNET_B0\n",
            "📁 Kayıt klasörü: Egitilen_Modeller/resnetdataset/SINEM_EFFICIENTNET_B0\n",
            "📁 Sonuç klasörü: Resut/resnetdataset/SINEM_EFFICIENTNET_B0\n"
          ]
        },
        {
          "output_type": "stream",
          "name": "stderr",
          "text": [
            "100%|██████████| 20.5M/20.5M [00:00<00:00, 139MB/s] \n",
            "/usr/local/lib/python3.11/dist-packages/torchvision/models/_utils.py:223: UserWarning: Arguments other than a weight enum or `None` for 'weights' are deprecated since 0.13 and may be removed in the future. The current behavior is equivalent to passing `weights=MobileNet_V2_Weights.IMAGENET1K_V1`. You can also use `weights=MobileNet_V2_Weights.DEFAULT` to get the most up-to-date weights.\n",
            "  warnings.warn(msg)\n",
            "Downloading: \"https://download.pytorch.org/models/mobilenet_v2-b0353104.pth\" to /root/.cache/torch/hub/checkpoints/mobilenet_v2-b0353104.pth\n"
          ]
        },
        {
          "output_type": "stream",
          "name": "stdout",
          "text": [
            "🔧 Model: SINEM_MOBILENET_V2\n",
            "📁 Kayıt klasörü: Egitilen_Modeller/resnetdataset/SINEM_MOBILENET_V2\n",
            "📁 Sonuç klasörü: Resut/resnetdataset/SINEM_MOBILENET_V2\n"
          ]
        },
        {
          "output_type": "stream",
          "name": "stderr",
          "text": [
            "100%|██████████| 13.6M/13.6M [00:00<00:00, 61.1MB/s]\n"
          ]
        }
      ]
    },
    {
      "cell_type": "code",
      "source": [
        "from torchvision import transforms, datasets\n",
        "\n",
        "# Görselleştirme için sadece resize ve tensor\n",
        "transform_visualization = transforms.Compose([\n",
        "    transforms.Resize((224, 224)),\n",
        "    transforms.ToTensor()\n",
        "])\n",
        "\n",
        "# Görsellerin bulunduğu klasör (ImageFolder formatında)\n",
        "visualization_dataset = datasets.ImageFolder(\"/content/combined_dataset\", transform=transform_visualization)\n",
        "class_names = visualization_dataset.classes\n",
        "\n",
        "# Eğitim, doğrulama ve test dönüşümleri\n",
        "transform = transforms.Compose([\n",
        "    transforms.RandomResizedCrop(224),\n",
        "    transforms.RandomHorizontalFlip(),\n",
        "    transforms.RandomRotation(15),\n",
        "    transforms.ColorJitter(brightness=0.2, contrast=0.2, saturation=0.2, hue=0.1),\n",
        "    transforms.ToTensor(),\n",
        "    transforms.Normalize(mean=[0.485, 0.456, 0.406], std=[0.229, 0.224, 0.225])\n",
        "])\n"
      ],
      "metadata": {
        "id": "ZuZ_9A_n629u"
      },
      "execution_count": 7,
      "outputs": []
    },
    {
      "cell_type": "code",
      "source": [
        "# Toplam görüntü sayısını yazdır\n",
        "print(f\"Toplam {len(visualization_dataset)} adet görüntü var.\")\n",
        "# Her sınıf için örnek görsellerin görselleştirilmesi\n",
        "class_names = visualization_dataset.classes  # Sınıf isimlerini alıyoruz\n",
        "print(f\"{len(class_names)} Tane Sınıf var. \\n Sınıf İsimleri : {class_names}\")\n"
      ],
      "metadata": {
        "colab": {
          "base_uri": "https://localhost:8080/"
        },
        "id": "XqKn6dtm65N8",
        "outputId": "afaf5af9-4c51-4ac6-a337-aca166d8e063"
      },
      "execution_count": 8,
      "outputs": [
        {
          "output_type": "stream",
          "name": "stdout",
          "text": [
            "Toplam 2273 adet görüntü var.\n",
            "3 Tane Sınıf var. \n",
            " Sınıf İsimleri : ['inme_yok', 'iskemi', 'kanama']\n"
          ]
        }
      ]
    },
    {
      "cell_type": "code",
      "source": [
        "fig, axes = plt.subplots(1, len(class_names), figsize=(20, 15))  # Sınıf sayısına göre alt grafik oluşturuyoruz\n",
        "\n",
        "for i, class_name in enumerate(class_names):\n",
        "    class_idx = visualization_dataset.class_to_idx[class_name]  # Sınıfın index'ini alıyoruz\n",
        "    class_subset = [idx for idx, (_, target) in enumerate(\n",
        "        visualization_dataset) if target == class_idx]  # O sınıfa ait örneklerin indekslerini alıyoruz\n",
        "    sample_idx = np.random.choice(class_subset, 1)[0]  # Rastgele bir örnek seçiyoruz\n",
        "    img, label = visualization_dataset[sample_idx]  # Görseli ve etiketini alıyoruz\n",
        "    axes[i].imshow(img.permute(1, 2, 0))  # Tensörü görselleştirmeye dönüştürüyoruz\n",
        "    axes[i].set_title(class_name)  # Görselin başlığı sınıf ismi\n",
        "    axes[i].axis('off')  # Ekseni gizliyoruz"
      ],
      "metadata": {
        "colab": {
          "base_uri": "https://localhost:8080/",
          "height": 289
        },
        "id": "BYf2lN0U67AB",
        "outputId": "3ec6d2c6-7455-455c-8684-c897bc8f1bdf"
      },
      "execution_count": 9,
      "outputs": [
        {
          "output_type": "display_data",
          "data": {
            "text/plain": [
              "<Figure size 2000x1500 with 3 Axes>"
            ],
            "image/png": "[encoded data removed]"
          },
          "metadata": {}
        }
      ]
    },
    {
      "cell_type": "code",
      "source": [
        "import matplotlib.pyplot as plt\n",
        "from torchvision import datasets\n",
        "\n",
        "plt.tight_layout()\n",
        "plt.show()\n",
        "\n",
        "# DÜZELTİLDİ: Doğru klasör yolu\n",
        "dataset_path = \"/content/combined_dataset\"\n",
        "\n",
        "# Dataset tanımlama ve bölme\n",
        "full_dataset = datasets.ImageFolder(dataset_path, transform=transform)\n",
        "\n",
        "train_ratio, val_ratio = 0.7, 0.15\n",
        "train_size = int(len(full_dataset) * train_ratio)\n",
        "val_size = int(len(full_dataset) * val_ratio)\n",
        "test_size = len(full_dataset) - train_size - val_size\n",
        "\n",
        "train_dataset, val_dataset, test_dataset = random_split(\n",
        "    full_dataset, [train_size, val_size, test_size]\n",
        ")\n"
      ],
      "metadata": {
        "colab": {
          "base_uri": "https://localhost:8080/",
          "height": 34
        },
        "id": "rLJVLL7e68n7",
        "outputId": "8478199d-fc94-469b-9445-3e940bf84a88"
      },
      "execution_count": 10,
      "outputs": [
        {
          "output_type": "display_data",
          "data": {
            "text/plain": [
              "<Figure size 640x480 with 0 Axes>"
            ]
          },
          "metadata": {}
        }
      ]
    },
    {
      "cell_type": "code",
      "source": [
        "# Ayrıntıları yazdırma\n",
        "print(f\"Toplam veri kümesi: {len(full_dataset)} görüntü\")\n",
        "print(f\"Eğitim seti: {train_size} görüntü (%{train_ratio*100:.1f})\")\n",
        "print(f\"Doğrulama seti: {val_size} görüntü (%{val_ratio*100:.1f})\")\n",
        "print(f\"Test seti: {test_size} görüntü (%{(1 - train_ratio - val_ratio)*100:.1f})\")\n"
      ],
      "metadata": {
        "colab": {
          "base_uri": "https://localhost:8080/"
        },
        "id": "1cjGu_766-iJ",
        "outputId": "bc41a3f3-d66f-4dcf-e2e2-14f600014bcb"
      },
      "execution_count": 11,
      "outputs": [
        {
          "output_type": "stream",
          "name": "stdout",
          "text": [
            "Toplam veri kümesi: 2273 görüntü\n",
            "Eğitim seti: 1591 görüntü (%70.0)\n",
            "Doğrulama seti: 340 görüntü (%15.0)\n",
            "Test seti: 342 görüntü (%15.0)\n"
          ]
        }
      ]
    },
    {
      "cell_type": "code",
      "source": [
        "train_loader = DataLoader(train_dataset, batch_size=32, shuffle=True)\n",
        "val_loader = DataLoader(val_dataset, batch_size=32, shuffle=False)\n",
        "test_loader = DataLoader(test_dataset, batch_size=32, shuffle=False)\n"
      ],
      "metadata": {
        "id": "1Gp8wKeh7AtX"
      },
      "execution_count": 12,
      "outputs": []
    },
    {
      "cell_type": "code",
      "source": [
        "device = torch.device(\"cuda\" if torch.cuda.is_available() else \"cpu\")\n"
      ],
      "metadata": {
        "id": "8LYb8gCR7Ci2"
      },
      "execution_count": 13,
      "outputs": []
    },
    {
      "cell_type": "code",
      "source": [
        "# Cihaz bilgisini yazdırma\n",
        "if device.type == \"cuda\":\n",
        "    print(f\"Kod GPU üzerinde çalışıyor. (Cihaz: {torch.cuda.get_device_name(0)})\")\n",
        "else:\n",
        "    print(\"Kod CPU üzerinde çalışıyor.\")"
      ],
      "metadata": {
        "colab": {
          "base_uri": "https://localhost:8080/"
        },
        "id": "xp7GBU6a7ED7",
        "outputId": "79ae8d19-b71b-4d37-9299-739ff32915cb"
      },
      "execution_count": 14,
      "outputs": [
        {
          "output_type": "stream",
          "name": "stdout",
          "text": [
            "Kod GPU üzerinde çalışıyor. (Cihaz: Tesla T4)\n"
          ]
        }
      ]
    },
    {
      "cell_type": "code",
      "source": [
        "from torchvision import models\n",
        "\n",
        "# Transfer learning için önceden eğitilmiş VGG16 modelini yükleme\n",
        "model = models.vgg16(pretrained=True)\n",
        "\n",
        "\n",
        "num_classes = len(full_dataset.classes)\n",
        "model.classifier[6] = nn.Linear(model.classifier[6].in_features, num_classes)\n",
        "\n",
        "for param in model.parameters():\n",
        "    param.requires_grad = False\n",
        "\n",
        "for param in model.classifier[6].parameters():\n",
        "    param.requires_grad = True\n",
        "\n",
        "model = model.to(device)\n",
        "\n"
      ],
      "metadata": {
        "id": "E8vNpSSf7Fms"
      },
      "execution_count": 15,
      "outputs": []
    },
    {
      "cell_type": "code",
      "source": [
        "model = models.resnet50(pretrained=True)\n",
        "num_classes = len(full_dataset.classes)\n",
        "model.fc = nn.Linear(model.fc.in_features, num_classes)\n",
        "\n",
        "for param in model.parameters():\n",
        "    param.requires_grad = False\n",
        "for param in model.fc.parameters():\n",
        "    param.requires_grad = True\n",
        "\n",
        "model = model.to(device)\n"
      ],
      "metadata": {
        "id": "cMwI4m60A2rB"
      },
      "execution_count": 16,
      "outputs": []
    },
    {
      "cell_type": "code",
      "source": [
        "model = models.densenet121(pretrained=True)\n",
        "num_classes = len(full_dataset.classes)\n",
        "model.classifier = nn.Linear(model.classifier.in_features, num_classes)\n",
        "\n",
        "for param in model.parameters():\n",
        "    param.requires_grad = False\n",
        "for param in model.classifier.parameters():\n",
        "    param.requires_grad = True\n",
        "\n",
        "model = model.to(device)\n"
      ],
      "metadata": {
        "id": "INjemK_UA3uS"
      },
      "execution_count": 17,
      "outputs": []
    },
    {
      "cell_type": "code",
      "source": [
        "model = models.efficientnet_b0(pretrained=True)\n",
        "num_classes = len(full_dataset.classes)\n",
        "model.classifier[1] = nn.Linear(model.classifier[1].in_features, num_classes)\n",
        "\n",
        "for param in model.parameters():\n",
        "    param.requires_grad = False\n",
        "for param in model.classifier[1].parameters():\n",
        "    param.requires_grad = True\n",
        "\n",
        "model = model.to(device)\n"
      ],
      "metadata": {
        "id": "d8gZCQS3A5W8"
      },
      "execution_count": 18,
      "outputs": []
    },
    {
      "cell_type": "code",
      "source": [
        "model = models.mobilenet_v2(pretrained=True)\n",
        "num_classes = len(full_dataset.classes)\n",
        "model.classifier[1] = nn.Linear(model.classifier[1].in_features, num_classes)\n",
        "\n",
        "for param in model.parameters():\n",
        "    param.requires_grad = False\n",
        "for param in model.classifier[1].parameters():\n",
        "    param.requires_grad = True\n",
        "\n",
        "model = model.to(device)\n"
      ],
      "metadata": {
        "id": "c_ccVXKAA8Cj"
      },
      "execution_count": 19,
      "outputs": []
    },
    {
      "cell_type": "code",
      "source": [
        "import torch\n",
        "import torch.nn as nn\n",
        "import torch.optim as optim\n",
        "import os\n",
        "from tqdm import tqdm\n",
        "\n",
        "model_names = [\"vgg16\", \"resnet50\", \"densenet121\", \"efficientnet_b0\", \"mobilenet_v2\"]\n",
        "epoch = 100\n",
        "dataset_tag = os.path.basename(dataset_path.strip(\"/\"))  # örnek: \"combined_dataset\"\n",
        "device = torch.device(\"cuda\" if torch.cuda.is_available() else \"cpu\")\n",
        "num_classes = len(full_dataset.classes)\n",
        "\n",
        "for model_name in model_names:\n",
        "    print(f\"\\n==============================\")\n",
        "    print(f\"🔧 Eğitim Başladı: {model_name.upper()}\")\n",
        "    print(f\"==============================\")\n",
        "\n",
        "    # Model oluştur\n",
        "    model = get_model(model_name, num_classes, device)\n",
        "\n",
        "    # Klasör adları\n",
        "    Model_Name = f\"SINEM_{model_name.upper()}\"\n",
        "    model_save_path = f\"Egitilen_Modeller/{dataset_tag}/{Model_Name}\"\n",
        "    result_path = f\"Resut/{dataset_tag}/{Model_Name}\"\n",
        "    os.makedirs(model_save_path, exist_ok=True)\n",
        "    os.makedirs(result_path, exist_ok=True)\n",
        "\n",
        "    # Kayıp ve optimizasyon\n",
        "    criterion = nn.CrossEntropyLoss()\n",
        "    optimizer = optim.Adam(model.parameters(), lr=0.001)\n",
        "    scheduler = torch.optim.lr_scheduler.ReduceLROnPlateau(optimizer, 'min', patience=5)\n",
        "    patience = 15\n",
        "    best_val_loss = float('inf')\n",
        "    patience_counter = 0\n",
        "\n",
        "    # Kayıt listeleri\n",
        "    train_losses, val_losses = [], []\n",
        "    train_accuracies, val_accuracies = [], []\n",
        "\n",
        "    # Log dosyası\n",
        "    log_file = os.path.join(result_path, f\"Transfer-Learning-{Model_Name}_Epoch_LOG.txt\")\n",
        "    with open(log_file, \"w\") as file:\n",
        "        file.write(\"Epoch\\tTrain Loss\\tVal Loss\\tTrain Acc\\tVal Acc\\tLR\\n\")\n",
        "\n",
        "    for ep in range(epoch):\n",
        "        print(f\"\\nEpoch {ep + 1}/{epoch}\")\n",
        "        model.train()\n",
        "        train_loss, train_correct = 0, 0\n",
        "        for inputs, targets in tqdm(train_loader, desc=f\"Training Epoch {ep + 1}\"):\n",
        "            inputs, targets = inputs.to(device), targets.to(device)\n",
        "            optimizer.zero_grad()\n",
        "            outputs = model(inputs)\n",
        "            loss = criterion(outputs, targets)\n",
        "            loss.backward()\n",
        "            optimizer.step()\n",
        "            train_loss += loss.item()\n",
        "            train_correct += (outputs.argmax(1) == targets).sum().item()\n",
        "        train_acc = train_correct / len(train_loader.dataset)\n",
        "\n",
        "        model.eval()\n",
        "        val_loss, val_correct = 0, 0\n",
        "        with torch.no_grad():\n",
        "            for inputs, targets in tqdm(val_loader, desc=f\"Validating Epoch {ep + 1}\"):\n",
        "                inputs, targets = inputs.to(device), targets.to(device)\n",
        "                outputs = model(inputs)\n",
        "                loss = criterion(outputs, targets)\n",
        "                val_loss += loss.item()\n",
        "                val_correct += (outputs.argmax(1) == targets).sum().item()\n",
        "        val_acc = val_correct / len(val_loader.dataset)\n",
        "\n",
        "        # Kayıtlar\n",
        "        train_losses.append(train_loss / len(train_loader))\n",
        "        val_losses.append(val_loss / len(val_loader))\n",
        "        train_accuracies.append(train_acc)\n",
        "        val_accuracies.append(val_acc)\n",
        "\n",
        "        scheduler.step(val_loss)\n",
        "        current_lr = optimizer.param_groups[0]['lr']\n",
        "\n",
        "        print(f\"Epoch {ep + 1}/{epoch}: Train Loss: {train_loss:.4f}, Val Loss: {val_loss:.4f}, \"\n",
        "              f\"Train Acc: {train_acc:.4f}, Val Acc: {val_acc:.4f}, LR: {current_lr:.9f}\")\n",
        "\n",
        "        with open(log_file, \"a\") as file:\n",
        "            file.write(f\"{ep+1}\\t{train_loss/len(train_loader):.4f}\\t{val_loss/len(val_loader):.4f}\\t\"\n",
        "                       f\"{train_acc:.4f}\\t{val_acc:.4f}\\t{current_lr:.9f}\\n\")\n",
        "\n",
        "        # Early stopping ve model kaydı\n",
        "        if val_loss < best_val_loss:\n",
        "            best_val_loss = val_loss\n",
        "            patience_counter = 0\n",
        "            best_model_path = os.path.join(model_save_path, f\"Best_{Model_Name}-{dataset_tag}.pth\")\n",
        "            torch.save(model.state_dict(), best_model_path)\n",
        "        else:\n",
        "            patience_counter += 1\n",
        "            if patience_counter >= patience:\n",
        "                print(\"⏹️ Early stopping etkin. Doğrulama kaybı iyileşmedi.\")\n",
        "                break\n",
        "\n",
        "    print(f\"\\n✅ {Model_Name} eğitimi tamamlandı. En iyi model: {best_model_path}\")\n"
      ],
      "metadata": {
        "colab": {
          "base_uri": "https://localhost:8080/"
        },
        "id": "-y97cxRv7HNf",
        "outputId": "617fb937-5d14-4e14-aee3-3e096090596c"
      },
      "execution_count": 20,
      "outputs": [
        {
          "output_type": "stream",
          "name": "stdout",
          "text": [
            "\n",
            "==============================\n",
            "🔧 Eğitim Başladı: VGG16\n",
            "==============================\n",
            "\n",
            "Epoch 1/100\n"
          ]
        },
        {
          "output_type": "stream",
          "name": "stderr",
          "text": [
            "Training Epoch 1: 100%|██████████| 50/50 [00:30<00:00,  1.63it/s]\n",
            "Validating Epoch 1: 100%|██████████| 11/11 [00:04<00:00,  2.56it/s]\n"
          ]
        },
        {
          "output_type": "stream",
          "name": "stdout",
          "text": [
            "Epoch 1/100: Train Loss: 42.7067, Val Loss: 8.1652, Train Acc: 0.5600, Val Acc: 0.6147, LR: 0.001000000\n",
            "\n",
            "Epoch 2/100\n"
          ]
        },
        {
          "output_type": "stream",
          "name": "stderr",
          "text": [
            "Training Epoch 2: 100%|██████████| 50/50 [00:21<00:00,  2.32it/s]\n",
            "Validating Epoch 2: 100%|██████████| 11/11 [00:04<00:00,  2.33it/s]\n"
          ]
        },
        {
          "output_type": "stream",
          "name": "stdout",
          "text": [
            "Epoch 2/100: Train Loss: 41.5953, Val Loss: 7.6540, Train Acc: 0.5789, Val Acc: 0.6618, LR: 0.001000000\n",
            "\n",
            "Epoch 3/100\n"
          ]
        },
        {
          "output_type": "stream",
          "name": "stderr",
          "text": [
            "Training Epoch 3: 100%|██████████| 50/50 [00:22<00:00,  2.19it/s]\n",
            "Validating Epoch 3: 100%|██████████| 11/11 [00:05<00:00,  2.09it/s]\n"
          ]
        },
        {
          "output_type": "stream",
          "name": "stdout",
          "text": [
            "Epoch 3/100: Train Loss: 38.7892, Val Loss: 8.1742, Train Acc: 0.6053, Val Acc: 0.6235, LR: 0.001000000\n",
            "\n",
            "Epoch 4/100\n"
          ]
        },
        {
          "output_type": "stream",
          "name": "stderr",
          "text": [
            "Training Epoch 4: 100%|██████████| 50/50 [00:21<00:00,  2.34it/s]\n",
            "Validating Epoch 4: 100%|██████████| 11/11 [00:05<00:00,  2.07it/s]\n"
          ]
        },
        {
          "output_type": "stream",
          "name": "stdout",
          "text": [
            "Epoch 4/100: Train Loss: 39.0795, Val Loss: 8.3132, Train Acc: 0.6141, Val Acc: 0.6265, LR: 0.001000000\n",
            "\n",
            "Epoch 5/100\n"
          ]
        },
        {
          "output_type": "stream",
          "name": "stderr",
          "text": [
            "Training Epoch 5: 100%|██████████| 50/50 [00:21<00:00,  2.34it/s]\n",
            "Validating Epoch 5: 100%|██████████| 11/11 [00:05<00:00,  2.16it/s]\n"
          ]
        },
        {
          "output_type": "stream",
          "name": "stdout",
          "text": [
            "Epoch 5/100: Train Loss: 40.5220, Val Loss: 7.6287, Train Acc: 0.5946, Val Acc: 0.6647, LR: 0.001000000\n",
            "\n",
            "Epoch 6/100\n"
          ]
        },
        {
          "output_type": "stream",
          "name": "stderr",
          "text": [
            "Training Epoch 6: 100%|██████████| 50/50 [00:21<00:00,  2.31it/s]\n",
            "Validating Epoch 6: 100%|██████████| 11/11 [00:05<00:00,  2.05it/s]\n"
          ]
        },
        {
          "output_type": "stream",
          "name": "stdout",
          "text": [
            "Epoch 6/100: Train Loss: 39.1716, Val Loss: 7.7947, Train Acc: 0.5971, Val Acc: 0.6647, LR: 0.001000000\n",
            "\n",
            "Epoch 7/100\n"
          ]
        },
        {
          "output_type": "stream",
          "name": "stderr",
          "text": [
            "Training Epoch 7: 100%|██████████| 50/50 [00:21<00:00,  2.31it/s]\n",
            "Validating Epoch 7: 100%|██████████| 11/11 [00:05<00:00,  2.06it/s]\n"
          ]
        },
        {
          "output_type": "stream",
          "name": "stdout",
          "text": [
            "Epoch 7/100: Train Loss: 37.9097, Val Loss: 7.4068, Train Acc: 0.6223, Val Acc: 0.6735, LR: 0.001000000\n",
            "\n",
            "Epoch 8/100\n"
          ]
        },
        {
          "output_type": "stream",
          "name": "stderr",
          "text": [
            "Training Epoch 8: 100%|██████████| 50/50 [00:21<00:00,  2.31it/s]\n",
            "Validating Epoch 8: 100%|██████████| 11/11 [00:05<00:00,  2.11it/s]\n"
          ]
        },
        {
          "output_type": "stream",
          "name": "stdout",
          "text": [
            "Epoch 8/100: Train Loss: 40.9139, Val Loss: 7.8380, Train Acc: 0.5889, Val Acc: 0.6206, LR: 0.001000000\n",
            "\n",
            "Epoch 9/100\n"
          ]
        },
        {
          "output_type": "stream",
          "name": "stderr",
          "text": [
            "Training Epoch 9: 100%|██████████| 50/50 [00:21<00:00,  2.33it/s]\n",
            "Validating Epoch 9: 100%|██████████| 11/11 [00:05<00:00,  2.10it/s]\n"
          ]
        },
        {
          "output_type": "stream",
          "name": "stdout",
          "text": [
            "Epoch 9/100: Train Loss: 39.3094, Val Loss: 7.4959, Train Acc: 0.6166, Val Acc: 0.6706, LR: 0.001000000\n",
            "\n",
            "Epoch 10/100\n"
          ]
        },
        {
          "output_type": "stream",
          "name": "stderr",
          "text": [
            "Training Epoch 10: 100%|██████████| 50/50 [00:21<00:00,  2.31it/s]\n",
            "Validating Epoch 10: 100%|██████████| 11/11 [00:05<00:00,  2.04it/s]\n"
          ]
        },
        {
          "output_type": "stream",
          "name": "stdout",
          "text": [
            "Epoch 10/100: Train Loss: 38.0965, Val Loss: 7.5319, Train Acc: 0.6254, Val Acc: 0.6706, LR: 0.001000000\n",
            "\n",
            "Epoch 11/100\n"
          ]
        },
        {
          "output_type": "stream",
          "name": "stderr",
          "text": [
            "Training Epoch 11: 100%|██████████| 50/50 [00:21<00:00,  2.31it/s]\n",
            "Validating Epoch 11: 100%|██████████| 11/11 [00:05<00:00,  2.07it/s]\n"
          ]
        },
        {
          "output_type": "stream",
          "name": "stdout",
          "text": [
            "Epoch 11/100: Train Loss: 38.6269, Val Loss: 8.1779, Train Acc: 0.6241, Val Acc: 0.5853, LR: 0.001000000\n",
            "\n",
            "Epoch 12/100\n"
          ]
        },
        {
          "output_type": "stream",
          "name": "stderr",
          "text": [
            "Training Epoch 12: 100%|██████████| 50/50 [00:21<00:00,  2.30it/s]\n",
            "Validating Epoch 12: 100%|██████████| 11/11 [00:05<00:00,  2.04it/s]\n"
          ]
        },
        {
          "output_type": "stream",
          "name": "stdout",
          "text": [
            "Epoch 12/100: Train Loss: 37.3923, Val Loss: 8.2244, Train Acc: 0.6417, Val Acc: 0.6176, LR: 0.001000000\n",
            "\n",
            "Epoch 13/100\n"
          ]
        },
        {
          "output_type": "stream",
          "name": "stderr",
          "text": [
            "Training Epoch 13: 100%|██████████| 50/50 [00:21<00:00,  2.33it/s]\n",
            "Validating Epoch 13: 100%|██████████| 11/11 [00:05<00:00,  2.06it/s]\n"
          ]
        },
        {
          "output_type": "stream",
          "name": "stdout",
          "text": [
            "Epoch 13/100: Train Loss: 39.0629, Val Loss: 7.7065, Train Acc: 0.6285, Val Acc: 0.6824, LR: 0.000100000\n",
            "\n",
            "Epoch 14/100\n"
          ]
        },
        {
          "output_type": "stream",
          "name": "stderr",
          "text": [
            "Training Epoch 14: 100%|██████████| 50/50 [00:21<00:00,  2.30it/s]\n",
            "Validating Epoch 14: 100%|██████████| 11/11 [00:05<00:00,  2.05it/s]\n"
          ]
        },
        {
          "output_type": "stream",
          "name": "stdout",
          "text": [
            "Epoch 14/100: Train Loss: 37.5414, Val Loss: 7.5556, Train Acc: 0.6210, Val Acc: 0.6412, LR: 0.000100000\n",
            "\n",
            "Epoch 15/100\n"
          ]
        },
        {
          "output_type": "stream",
          "name": "stderr",
          "text": [
            "Training Epoch 15: 100%|██████████| 50/50 [00:21<00:00,  2.31it/s]\n",
            "Validating Epoch 15: 100%|██████████| 11/11 [00:05<00:00,  2.07it/s]\n"
          ]
        },
        {
          "output_type": "stream",
          "name": "stdout",
          "text": [
            "Epoch 15/100: Train Loss: 38.1157, Val Loss: 7.6867, Train Acc: 0.6285, Val Acc: 0.6765, LR: 0.000100000\n",
            "\n",
            "Epoch 16/100\n"
          ]
        },
        {
          "output_type": "stream",
          "name": "stderr",
          "text": [
            "Training Epoch 16: 100%|██████████| 50/50 [00:21<00:00,  2.31it/s]\n",
            "Validating Epoch 16: 100%|██████████| 11/11 [00:05<00:00,  2.05it/s]\n"
          ]
        },
        {
          "output_type": "stream",
          "name": "stdout",
          "text": [
            "Epoch 16/100: Train Loss: 37.1760, Val Loss: 7.6371, Train Acc: 0.6361, Val Acc: 0.6353, LR: 0.000100000\n",
            "\n",
            "Epoch 17/100\n"
          ]
        },
        {
          "output_type": "stream",
          "name": "stderr",
          "text": [
            "Training Epoch 17: 100%|██████████| 50/50 [00:21<00:00,  2.32it/s]\n",
            "Validating Epoch 17: 100%|██████████| 11/11 [00:05<00:00,  2.10it/s]\n"
          ]
        },
        {
          "output_type": "stream",
          "name": "stdout",
          "text": [
            "Epoch 17/100: Train Loss: 35.6544, Val Loss: 8.0217, Train Acc: 0.6505, Val Acc: 0.6412, LR: 0.000100000\n",
            "\n",
            "Epoch 18/100\n"
          ]
        },
        {
          "output_type": "stream",
          "name": "stderr",
          "text": [
            "Training Epoch 18: 100%|██████████| 50/50 [00:21<00:00,  2.30it/s]\n",
            "Validating Epoch 18: 100%|██████████| 11/11 [00:05<00:00,  2.09it/s]\n"
          ]
        },
        {
          "output_type": "stream",
          "name": "stdout",
          "text": [
            "Epoch 18/100: Train Loss: 36.7768, Val Loss: 7.3572, Train Acc: 0.6392, Val Acc: 0.6765, LR: 0.000100000\n",
            "\n",
            "Epoch 19/100\n"
          ]
        },
        {
          "output_type": "stream",
          "name": "stderr",
          "text": [
            "Training Epoch 19: 100%|██████████| 50/50 [00:22<00:00,  2.22it/s]\n",
            "Validating Epoch 19: 100%|██████████| 11/11 [00:04<00:00,  2.42it/s]\n"
          ]
        },
        {
          "output_type": "stream",
          "name": "stdout",
          "text": [
            "Epoch 19/100: Train Loss: 36.8540, Val Loss: 7.4274, Train Acc: 0.6304, Val Acc: 0.6882, LR: 0.000100000\n",
            "\n",
            "Epoch 20/100\n"
          ]
        },
        {
          "output_type": "stream",
          "name": "stderr",
          "text": [
            "Training Epoch 20: 100%|██████████| 50/50 [00:22<00:00,  2.23it/s]\n",
            "Validating Epoch 20: 100%|██████████| 11/11 [00:04<00:00,  2.44it/s]\n"
          ]
        },
        {
          "output_type": "stream",
          "name": "stdout",
          "text": [
            "Epoch 20/100: Train Loss: 37.6553, Val Loss: 7.9042, Train Acc: 0.6398, Val Acc: 0.6441, LR: 0.000100000\n",
            "\n",
            "Epoch 21/100\n"
          ]
        },
        {
          "output_type": "stream",
          "name": "stderr",
          "text": [
            "Training Epoch 21: 100%|██████████| 50/50 [00:22<00:00,  2.27it/s]\n",
            "Validating Epoch 21: 100%|██████████| 11/11 [00:04<00:00,  2.31it/s]\n"
          ]
        },
        {
          "output_type": "stream",
          "name": "stdout",
          "text": [
            "Epoch 21/100: Train Loss: 37.6089, Val Loss: 7.3934, Train Acc: 0.6342, Val Acc: 0.6647, LR: 0.000100000\n",
            "\n",
            "Epoch 22/100\n"
          ]
        },
        {
          "output_type": "stream",
          "name": "stderr",
          "text": [
            "Training Epoch 22: 100%|██████████| 50/50 [00:22<00:00,  2.25it/s]\n",
            "Validating Epoch 22: 100%|██████████| 11/11 [00:04<00:00,  2.28it/s]\n"
          ]
        },
        {
          "output_type": "stream",
          "name": "stdout",
          "text": [
            "Epoch 22/100: Train Loss: 35.4350, Val Loss: 7.8208, Train Acc: 0.6587, Val Acc: 0.6706, LR: 0.000100000\n",
            "\n",
            "Epoch 23/100\n"
          ]
        },
        {
          "output_type": "stream",
          "name": "stderr",
          "text": [
            "Training Epoch 23: 100%|██████████| 50/50 [00:22<00:00,  2.26it/s]\n",
            "Validating Epoch 23: 100%|██████████| 11/11 [00:04<00:00,  2.26it/s]\n"
          ]
        },
        {
          "output_type": "stream",
          "name": "stdout",
          "text": [
            "Epoch 23/100: Train Loss: 36.6269, Val Loss: 7.7605, Train Acc: 0.6380, Val Acc: 0.6647, LR: 0.000100000\n",
            "\n",
            "Epoch 24/100\n"
          ]
        },
        {
          "output_type": "stream",
          "name": "stderr",
          "text": [
            "Training Epoch 24: 100%|██████████| 50/50 [00:22<00:00,  2.26it/s]\n",
            "Validating Epoch 24: 100%|██████████| 11/11 [00:04<00:00,  2.24it/s]\n"
          ]
        },
        {
          "output_type": "stream",
          "name": "stdout",
          "text": [
            "Epoch 24/100: Train Loss: 35.9573, Val Loss: 7.6408, Train Acc: 0.6593, Val Acc: 0.6706, LR: 0.000010000\n",
            "\n",
            "Epoch 25/100\n"
          ]
        },
        {
          "output_type": "stream",
          "name": "stderr",
          "text": [
            "Training Epoch 25: 100%|██████████| 50/50 [00:21<00:00,  2.29it/s]\n",
            "Validating Epoch 25: 100%|██████████| 11/11 [00:05<00:00,  2.19it/s]\n"
          ]
        },
        {
          "output_type": "stream",
          "name": "stdout",
          "text": [
            "Epoch 25/100: Train Loss: 37.2104, Val Loss: 7.6024, Train Acc: 0.6354, Val Acc: 0.6676, LR: 0.000010000\n",
            "\n",
            "Epoch 26/100\n"
          ]
        },
        {
          "output_type": "stream",
          "name": "stderr",
          "text": [
            "Training Epoch 26: 100%|██████████| 50/50 [00:21<00:00,  2.28it/s]\n",
            "Validating Epoch 26: 100%|██████████| 11/11 [00:05<00:00,  2.15it/s]\n"
          ]
        },
        {
          "output_type": "stream",
          "name": "stdout",
          "text": [
            "Epoch 26/100: Train Loss: 36.6267, Val Loss: 7.7029, Train Acc: 0.6260, Val Acc: 0.6412, LR: 0.000010000\n",
            "\n",
            "Epoch 27/100\n"
          ]
        },
        {
          "output_type": "stream",
          "name": "stderr",
          "text": [
            "Training Epoch 27: 100%|██████████| 50/50 [00:22<00:00,  2.26it/s]\n",
            "Validating Epoch 27: 100%|██████████| 11/11 [00:05<00:00,  2.14it/s]\n"
          ]
        },
        {
          "output_type": "stream",
          "name": "stdout",
          "text": [
            "Epoch 27/100: Train Loss: 35.7064, Val Loss: 7.6379, Train Acc: 0.6424, Val Acc: 0.6500, LR: 0.000010000\n",
            "\n",
            "Epoch 28/100\n"
          ]
        },
        {
          "output_type": "stream",
          "name": "stderr",
          "text": [
            "Training Epoch 28: 100%|██████████| 50/50 [00:21<00:00,  2.29it/s]\n",
            "Validating Epoch 28: 100%|██████████| 11/11 [00:05<00:00,  2.11it/s]\n"
          ]
        },
        {
          "output_type": "stream",
          "name": "stdout",
          "text": [
            "Epoch 28/100: Train Loss: 36.4309, Val Loss: 7.1575, Train Acc: 0.6493, Val Acc: 0.6853, LR: 0.000010000\n",
            "\n",
            "Epoch 29/100\n"
          ]
        },
        {
          "output_type": "stream",
          "name": "stderr",
          "text": [
            "Training Epoch 29: 100%|██████████| 50/50 [00:21<00:00,  2.31it/s]\n",
            "Validating Epoch 29: 100%|██████████| 11/11 [00:05<00:00,  2.04it/s]\n"
          ]
        },
        {
          "output_type": "stream",
          "name": "stdout",
          "text": [
            "Epoch 29/100: Train Loss: 35.7136, Val Loss: 7.2380, Train Acc: 0.6461, Val Acc: 0.6794, LR: 0.000010000\n",
            "\n",
            "Epoch 30/100\n"
          ]
        },
        {
          "output_type": "stream",
          "name": "stderr",
          "text": [
            "Training Epoch 30: 100%|██████████| 50/50 [00:21<00:00,  2.28it/s]\n",
            "Validating Epoch 30: 100%|██████████| 11/11 [00:05<00:00,  2.06it/s]\n"
          ]
        },
        {
          "output_type": "stream",
          "name": "stdout",
          "text": [
            "Epoch 30/100: Train Loss: 37.9504, Val Loss: 7.5254, Train Acc: 0.6248, Val Acc: 0.6971, LR: 0.000010000\n",
            "\n",
            "Epoch 31/100\n"
          ]
        },
        {
          "output_type": "stream",
          "name": "stderr",
          "text": [
            "Training Epoch 31: 100%|██████████| 50/50 [00:21<00:00,  2.31it/s]\n",
            "Validating Epoch 31: 100%|██████████| 11/11 [00:05<00:00,  2.06it/s]\n"
          ]
        },
        {
          "output_type": "stream",
          "name": "stdout",
          "text": [
            "Epoch 31/100: Train Loss: 36.9138, Val Loss: 7.3896, Train Acc: 0.6392, Val Acc: 0.7147, LR: 0.000010000\n",
            "\n",
            "Epoch 32/100\n"
          ]
        },
        {
          "output_type": "stream",
          "name": "stderr",
          "text": [
            "Training Epoch 32: 100%|██████████| 50/50 [00:21<00:00,  2.30it/s]\n",
            "Validating Epoch 32: 100%|██████████| 11/11 [00:05<00:00,  2.06it/s]\n"
          ]
        },
        {
          "output_type": "stream",
          "name": "stdout",
          "text": [
            "Epoch 32/100: Train Loss: 35.5520, Val Loss: 7.4636, Train Acc: 0.6562, Val Acc: 0.6882, LR: 0.000010000\n",
            "\n",
            "Epoch 33/100\n"
          ]
        },
        {
          "output_type": "stream",
          "name": "stderr",
          "text": [
            "Training Epoch 33: 100%|██████████| 50/50 [00:21<00:00,  2.31it/s]\n",
            "Validating Epoch 33: 100%|██████████| 11/11 [00:05<00:00,  2.07it/s]\n"
          ]
        },
        {
          "output_type": "stream",
          "name": "stdout",
          "text": [
            "Epoch 33/100: Train Loss: 37.7002, Val Loss: 7.3856, Train Acc: 0.6304, Val Acc: 0.6765, LR: 0.000010000\n",
            "\n",
            "Epoch 34/100\n"
          ]
        },
        {
          "output_type": "stream",
          "name": "stderr",
          "text": [
            "Training Epoch 34: 100%|██████████| 50/50 [00:21<00:00,  2.33it/s]\n",
            "Validating Epoch 34: 100%|██████████| 11/11 [00:05<00:00,  2.09it/s]\n"
          ]
        },
        {
          "output_type": "stream",
          "name": "stdout",
          "text": [
            "Epoch 34/100: Train Loss: 36.0445, Val Loss: 7.2858, Train Acc: 0.6392, Val Acc: 0.6941, LR: 0.000001000\n",
            "\n",
            "Epoch 35/100\n"
          ]
        },
        {
          "output_type": "stream",
          "name": "stderr",
          "text": [
            "Training Epoch 35: 100%|██████████| 50/50 [00:21<00:00,  2.33it/s]\n",
            "Validating Epoch 35: 100%|██████████| 11/11 [00:05<00:00,  2.08it/s]\n"
          ]
        },
        {
          "output_type": "stream",
          "name": "stdout",
          "text": [
            "Epoch 35/100: Train Loss: 36.1729, Val Loss: 7.1451, Train Acc: 0.6373, Val Acc: 0.6941, LR: 0.000001000\n",
            "\n",
            "Epoch 36/100\n"
          ]
        },
        {
          "output_type": "stream",
          "name": "stderr",
          "text": [
            "Training Epoch 36: 100%|██████████| 50/50 [00:21<00:00,  2.30it/s]\n",
            "Validating Epoch 36: 100%|██████████| 11/11 [00:05<00:00,  2.07it/s]\n"
          ]
        },
        {
          "output_type": "stream",
          "name": "stdout",
          "text": [
            "Epoch 36/100: Train Loss: 36.0739, Val Loss: 7.4792, Train Acc: 0.6499, Val Acc: 0.6471, LR: 0.000001000\n",
            "\n",
            "Epoch 37/100\n"
          ]
        },
        {
          "output_type": "stream",
          "name": "stderr",
          "text": [
            "Training Epoch 37: 100%|██████████| 50/50 [00:21<00:00,  2.32it/s]\n",
            "Validating Epoch 37: 100%|██████████| 11/11 [00:05<00:00,  2.05it/s]\n"
          ]
        },
        {
          "output_type": "stream",
          "name": "stdout",
          "text": [
            "Epoch 37/100: Train Loss: 35.9974, Val Loss: 7.7001, Train Acc: 0.6549, Val Acc: 0.6500, LR: 0.000001000\n",
            "\n",
            "Epoch 38/100\n"
          ]
        },
        {
          "output_type": "stream",
          "name": "stderr",
          "text": [
            "Training Epoch 38: 100%|██████████| 50/50 [00:21<00:00,  2.31it/s]\n",
            "Validating Epoch 38: 100%|██████████| 11/11 [00:05<00:00,  2.11it/s]\n"
          ]
        },
        {
          "output_type": "stream",
          "name": "stdout",
          "text": [
            "Epoch 38/100: Train Loss: 35.6560, Val Loss: 7.5684, Train Acc: 0.6499, Val Acc: 0.6912, LR: 0.000001000\n",
            "\n",
            "Epoch 39/100\n"
          ]
        },
        {
          "output_type": "stream",
          "name": "stderr",
          "text": [
            "Training Epoch 39: 100%|██████████| 50/50 [00:21<00:00,  2.30it/s]\n",
            "Validating Epoch 39: 100%|██████████| 11/11 [00:05<00:00,  2.10it/s]\n"
          ]
        },
        {
          "output_type": "stream",
          "name": "stdout",
          "text": [
            "Epoch 39/100: Train Loss: 37.0692, Val Loss: 7.5748, Train Acc: 0.6248, Val Acc: 0.6441, LR: 0.000001000\n",
            "\n",
            "Epoch 40/100\n"
          ]
        },
        {
          "output_type": "stream",
          "name": "stderr",
          "text": [
            "Training Epoch 40: 100%|██████████| 50/50 [00:21<00:00,  2.30it/s]\n",
            "Validating Epoch 40: 100%|██████████| 11/11 [00:05<00:00,  2.15it/s]\n"
          ]
        },
        {
          "output_type": "stream",
          "name": "stdout",
          "text": [
            "Epoch 40/100: Train Loss: 35.6972, Val Loss: 7.5522, Train Acc: 0.6474, Val Acc: 0.6735, LR: 0.000001000\n",
            "\n",
            "Epoch 41/100\n"
          ]
        },
        {
          "output_type": "stream",
          "name": "stderr",
          "text": [
            "Training Epoch 41: 100%|██████████| 50/50 [00:21<00:00,  2.28it/s]\n",
            "Validating Epoch 41: 100%|██████████| 11/11 [00:04<00:00,  2.20it/s]\n"
          ]
        },
        {
          "output_type": "stream",
          "name": "stdout",
          "text": [
            "Epoch 41/100: Train Loss: 36.3034, Val Loss: 7.6290, Train Acc: 0.6336, Val Acc: 0.6765, LR: 0.000000100\n",
            "\n",
            "Epoch 42/100\n"
          ]
        },
        {
          "output_type": "stream",
          "name": "stderr",
          "text": [
            "Training Epoch 42: 100%|██████████| 50/50 [00:21<00:00,  2.28it/s]\n",
            "Validating Epoch 42: 100%|██████████| 11/11 [00:05<00:00,  2.16it/s]\n"
          ]
        },
        {
          "output_type": "stream",
          "name": "stdout",
          "text": [
            "Epoch 42/100: Train Loss: 34.8776, Val Loss: 7.5836, Train Acc: 0.6530, Val Acc: 0.6471, LR: 0.000000100\n",
            "\n",
            "Epoch 43/100\n"
          ]
        },
        {
          "output_type": "stream",
          "name": "stderr",
          "text": [
            "Training Epoch 43: 100%|██████████| 50/50 [00:21<00:00,  2.28it/s]\n",
            "Validating Epoch 43: 100%|██████████| 11/11 [00:04<00:00,  2.22it/s]\n"
          ]
        },
        {
          "output_type": "stream",
          "name": "stdout",
          "text": [
            "Epoch 43/100: Train Loss: 36.5666, Val Loss: 7.4009, Train Acc: 0.6424, Val Acc: 0.6647, LR: 0.000000100\n",
            "\n",
            "Epoch 44/100\n"
          ]
        },
        {
          "output_type": "stream",
          "name": "stderr",
          "text": [
            "Training Epoch 44: 100%|██████████| 50/50 [00:21<00:00,  2.28it/s]\n",
            "Validating Epoch 44: 100%|██████████| 11/11 [00:04<00:00,  2.26it/s]\n"
          ]
        },
        {
          "output_type": "stream",
          "name": "stdout",
          "text": [
            "Epoch 44/100: Train Loss: 36.4678, Val Loss: 7.5454, Train Acc: 0.6398, Val Acc: 0.6765, LR: 0.000000100\n",
            "\n",
            "Epoch 45/100\n"
          ]
        },
        {
          "output_type": "stream",
          "name": "stderr",
          "text": [
            "Training Epoch 45: 100%|██████████| 50/50 [00:22<00:00,  2.26it/s]\n",
            "Validating Epoch 45: 100%|██████████| 11/11 [00:04<00:00,  2.31it/s]\n"
          ]
        },
        {
          "output_type": "stream",
          "name": "stdout",
          "text": [
            "Epoch 45/100: Train Loss: 36.4153, Val Loss: 7.6137, Train Acc: 0.6436, Val Acc: 0.6676, LR: 0.000000100\n",
            "\n",
            "Epoch 46/100\n"
          ]
        },
        {
          "output_type": "stream",
          "name": "stderr",
          "text": [
            "Training Epoch 46: 100%|██████████| 50/50 [00:22<00:00,  2.26it/s]\n",
            "Validating Epoch 46: 100%|██████████| 11/11 [00:04<00:00,  2.33it/s]\n"
          ]
        },
        {
          "output_type": "stream",
          "name": "stdout",
          "text": [
            "Epoch 46/100: Train Loss: 35.5275, Val Loss: 7.5571, Train Acc: 0.6537, Val Acc: 0.6676, LR: 0.000000100\n",
            "\n",
            "Epoch 47/100\n"
          ]
        },
        {
          "output_type": "stream",
          "name": "stderr",
          "text": [
            "Training Epoch 47: 100%|██████████| 50/50 [00:22<00:00,  2.25it/s]\n",
            "Validating Epoch 47: 100%|██████████| 11/11 [00:04<00:00,  2.36it/s]\n"
          ]
        },
        {
          "output_type": "stream",
          "name": "stdout",
          "text": [
            "Epoch 47/100: Train Loss: 35.9036, Val Loss: 7.5982, Train Acc: 0.6505, Val Acc: 0.6471, LR: 0.000000010\n",
            "\n",
            "Epoch 48/100\n"
          ]
        },
        {
          "output_type": "stream",
          "name": "stderr",
          "text": [
            "Training Epoch 48: 100%|██████████| 50/50 [00:22<00:00,  2.25it/s]\n",
            "Validating Epoch 48: 100%|██████████| 11/11 [00:04<00:00,  2.39it/s]\n"
          ]
        },
        {
          "output_type": "stream",
          "name": "stdout",
          "text": [
            "Epoch 48/100: Train Loss: 35.5840, Val Loss: 7.4427, Train Acc: 0.6574, Val Acc: 0.6941, LR: 0.000000010\n",
            "\n",
            "Epoch 49/100\n"
          ]
        },
        {
          "output_type": "stream",
          "name": "stderr",
          "text": [
            "Training Epoch 49: 100%|██████████| 50/50 [00:22<00:00,  2.24it/s]\n",
            "Validating Epoch 49: 100%|██████████| 11/11 [00:04<00:00,  2.47it/s]\n"
          ]
        },
        {
          "output_type": "stream",
          "name": "stdout",
          "text": [
            "Epoch 49/100: Train Loss: 36.3617, Val Loss: 7.6455, Train Acc: 0.6310, Val Acc: 0.6559, LR: 0.000000010\n",
            "\n",
            "Epoch 50/100\n"
          ]
        },
        {
          "output_type": "stream",
          "name": "stderr",
          "text": [
            "Training Epoch 50: 100%|██████████| 50/50 [00:22<00:00,  2.24it/s]\n",
            "Validating Epoch 50: 100%|██████████| 11/11 [00:04<00:00,  2.45it/s]\n"
          ]
        },
        {
          "output_type": "stream",
          "name": "stdout",
          "text": [
            "Epoch 50/100: Train Loss: 35.7667, Val Loss: 7.5295, Train Acc: 0.6424, Val Acc: 0.6794, LR: 0.000000010\n",
            "⏹️ Early stopping etkin. Doğrulama kaybı iyileşmedi.\n",
            "\n",
            "✅ SINEM_VGG16 eğitimi tamamlandı. En iyi model: Egitilen_Modeller/combined_dataset/SINEM_VGG16/Best_SINEM_VGG16-combined_dataset.pth\n",
            "\n",
            "==============================\n",
            "🔧 Eğitim Başladı: RESNET50\n",
            "==============================\n",
            "\n",
            "Epoch 1/100\n"
          ]
        },
        {
          "output_type": "stream",
          "name": "stderr",
          "text": [
            "Training Epoch 1: 100%|██████████| 50/50 [00:18<00:00,  2.75it/s]\n",
            "Validating Epoch 1: 100%|██████████| 11/11 [00:04<00:00,  2.38it/s]\n"
          ]
        },
        {
          "output_type": "stream",
          "name": "stdout",
          "text": [
            "Epoch 1/100: Train Loss: 39.8972, Val Loss: 8.2257, Train Acc: 0.5720, Val Acc: 0.5853, LR: 0.001000000\n",
            "\n",
            "Epoch 2/100\n"
          ]
        },
        {
          "output_type": "stream",
          "name": "stderr",
          "text": [
            "Training Epoch 2: 100%|██████████| 50/50 [00:18<00:00,  2.75it/s]\n",
            "Validating Epoch 2: 100%|██████████| 11/11 [00:03<00:00,  3.06it/s]\n"
          ]
        },
        {
          "output_type": "stream",
          "name": "stdout",
          "text": [
            "Epoch 2/100: Train Loss: 35.6201, Val Loss: 7.7963, Train Acc: 0.6512, Val Acc: 0.6529, LR: 0.001000000\n",
            "\n",
            "Epoch 3/100\n"
          ]
        },
        {
          "output_type": "stream",
          "name": "stderr",
          "text": [
            "Training Epoch 3: 100%|██████████| 50/50 [00:19<00:00,  2.61it/s]\n",
            "Validating Epoch 3: 100%|██████████| 11/11 [00:03<00:00,  3.04it/s]\n"
          ]
        },
        {
          "output_type": "stream",
          "name": "stdout",
          "text": [
            "Epoch 3/100: Train Loss: 35.1935, Val Loss: 7.8142, Train Acc: 0.6512, Val Acc: 0.6324, LR: 0.001000000\n",
            "\n",
            "Epoch 4/100\n"
          ]
        },
        {
          "output_type": "stream",
          "name": "stderr",
          "text": [
            "Training Epoch 4: 100%|██████████| 50/50 [00:18<00:00,  2.71it/s]\n",
            "Validating Epoch 4: 100%|██████████| 11/11 [00:04<00:00,  2.56it/s]\n"
          ]
        },
        {
          "output_type": "stream",
          "name": "stdout",
          "text": [
            "Epoch 4/100: Train Loss: 34.0442, Val Loss: 7.6851, Train Acc: 0.6882, Val Acc: 0.6235, LR: 0.001000000\n",
            "\n",
            "Epoch 5/100\n"
          ]
        },
        {
          "output_type": "stream",
          "name": "stderr",
          "text": [
            "Training Epoch 5: 100%|██████████| 50/50 [00:17<00:00,  2.78it/s]\n",
            "Validating Epoch 5: 100%|██████████| 11/11 [00:03<00:00,  2.96it/s]\n"
          ]
        },
        {
          "output_type": "stream",
          "name": "stdout",
          "text": [
            "Epoch 5/100: Train Loss: 34.3283, Val Loss: 7.6227, Train Acc: 0.6782, Val Acc: 0.6235, LR: 0.001000000\n",
            "\n",
            "Epoch 6/100\n"
          ]
        },
        {
          "output_type": "stream",
          "name": "stderr",
          "text": [
            "Training Epoch 6: 100%|██████████| 50/50 [00:18<00:00,  2.66it/s]\n",
            "Validating Epoch 6: 100%|██████████| 11/11 [00:03<00:00,  3.06it/s]\n"
          ]
        },
        {
          "output_type": "stream",
          "name": "stdout",
          "text": [
            "Epoch 6/100: Train Loss: 33.5943, Val Loss: 7.1758, Train Acc: 0.6681, Val Acc: 0.6794, LR: 0.001000000\n",
            "\n",
            "Epoch 7/100\n"
          ]
        },
        {
          "output_type": "stream",
          "name": "stderr",
          "text": [
            "Training Epoch 7: 100%|██████████| 50/50 [00:18<00:00,  2.71it/s]\n",
            "Validating Epoch 7: 100%|██████████| 11/11 [00:04<00:00,  2.70it/s]\n"
          ]
        },
        {
          "output_type": "stream",
          "name": "stdout",
          "text": [
            "Epoch 7/100: Train Loss: 33.7946, Val Loss: 7.3152, Train Acc: 0.6688, Val Acc: 0.6471, LR: 0.001000000\n",
            "\n",
            "Epoch 8/100\n"
          ]
        },
        {
          "output_type": "stream",
          "name": "stderr",
          "text": [
            "Training Epoch 8: 100%|██████████| 50/50 [00:18<00:00,  2.77it/s]\n",
            "Validating Epoch 8: 100%|██████████| 11/11 [00:03<00:00,  2.85it/s]\n"
          ]
        },
        {
          "output_type": "stream",
          "name": "stdout",
          "text": [
            "Epoch 8/100: Train Loss: 33.9817, Val Loss: 7.3321, Train Acc: 0.6757, Val Acc: 0.6588, LR: 0.001000000\n",
            "\n",
            "Epoch 9/100\n"
          ]
        },
        {
          "output_type": "stream",
          "name": "stderr",
          "text": [
            "Training Epoch 9: 100%|██████████| 50/50 [00:18<00:00,  2.66it/s]\n",
            "Validating Epoch 9: 100%|██████████| 11/11 [00:03<00:00,  3.08it/s]\n"
          ]
        },
        {
          "output_type": "stream",
          "name": "stdout",
          "text": [
            "Epoch 9/100: Train Loss: 32.2452, Val Loss: 7.8885, Train Acc: 0.6989, Val Acc: 0.6559, LR: 0.001000000\n",
            "\n",
            "Epoch 10/100\n"
          ]
        },
        {
          "output_type": "stream",
          "name": "stderr",
          "text": [
            "Training Epoch 10: 100%|██████████| 50/50 [00:18<00:00,  2.67it/s]\n",
            "Validating Epoch 10: 100%|██████████| 11/11 [00:04<00:00,  2.74it/s]\n"
          ]
        },
        {
          "output_type": "stream",
          "name": "stdout",
          "text": [
            "Epoch 10/100: Train Loss: 32.3734, Val Loss: 7.1254, Train Acc: 0.6832, Val Acc: 0.6971, LR: 0.001000000\n",
            "\n",
            "Epoch 11/100\n"
          ]
        },
        {
          "output_type": "stream",
          "name": "stderr",
          "text": [
            "Training Epoch 11: 100%|██████████| 50/50 [00:17<00:00,  2.78it/s]\n",
            "Validating Epoch 11: 100%|██████████| 11/11 [00:04<00:00,  2.63it/s]\n"
          ]
        },
        {
          "output_type": "stream",
          "name": "stdout",
          "text": [
            "Epoch 11/100: Train Loss: 32.1918, Val Loss: 10.0049, Train Acc: 0.6939, Val Acc: 0.5529, LR: 0.001000000\n",
            "\n",
            "Epoch 12/100\n"
          ]
        },
        {
          "output_type": "stream",
          "name": "stderr",
          "text": [
            "Training Epoch 12: 100%|██████████| 50/50 [00:18<00:00,  2.69it/s]\n",
            "Validating Epoch 12: 100%|██████████| 11/11 [00:03<00:00,  3.08it/s]\n"
          ]
        },
        {
          "output_type": "stream",
          "name": "stdout",
          "text": [
            "Epoch 12/100: Train Loss: 34.1705, Val Loss: 7.3875, Train Acc: 0.6656, Val Acc: 0.6853, LR: 0.001000000\n",
            "\n",
            "Epoch 13/100\n"
          ]
        },
        {
          "output_type": "stream",
          "name": "stderr",
          "text": [
            "Training Epoch 13: 100%|██████████| 50/50 [00:18<00:00,  2.66it/s]\n",
            "Validating Epoch 13: 100%|██████████| 11/11 [00:03<00:00,  2.84it/s]\n"
          ]
        },
        {
          "output_type": "stream",
          "name": "stdout",
          "text": [
            "Epoch 13/100: Train Loss: 32.1773, Val Loss: 7.0650, Train Acc: 0.6914, Val Acc: 0.6794, LR: 0.001000000\n",
            "\n",
            "Epoch 14/100\n"
          ]
        },
        {
          "output_type": "stream",
          "name": "stderr",
          "text": [
            "Training Epoch 14: 100%|██████████| 50/50 [00:18<00:00,  2.77it/s]\n",
            "Validating Epoch 14: 100%|██████████| 11/11 [00:04<00:00,  2.58it/s]\n"
          ]
        },
        {
          "output_type": "stream",
          "name": "stdout",
          "text": [
            "Epoch 14/100: Train Loss: 30.8842, Val Loss: 6.8083, Train Acc: 0.7058, Val Acc: 0.6941, LR: 0.001000000\n",
            "\n",
            "Epoch 15/100\n"
          ]
        },
        {
          "output_type": "stream",
          "name": "stderr",
          "text": [
            "Training Epoch 15: 100%|██████████| 50/50 [00:18<00:00,  2.73it/s]\n",
            "Validating Epoch 15: 100%|██████████| 11/11 [00:03<00:00,  3.03it/s]\n"
          ]
        },
        {
          "output_type": "stream",
          "name": "stdout",
          "text": [
            "Epoch 15/100: Train Loss: 32.2828, Val Loss: 6.9960, Train Acc: 0.6920, Val Acc: 0.7206, LR: 0.001000000\n",
            "\n",
            "Epoch 16/100\n"
          ]
        },
        {
          "output_type": "stream",
          "name": "stderr",
          "text": [
            "Training Epoch 16: 100%|██████████| 50/50 [00:19<00:00,  2.63it/s]\n",
            "Validating Epoch 16: 100%|██████████| 11/11 [00:03<00:00,  3.00it/s]\n"
          ]
        },
        {
          "output_type": "stream",
          "name": "stdout",
          "text": [
            "Epoch 16/100: Train Loss: 32.6912, Val Loss: 7.9760, Train Acc: 0.6901, Val Acc: 0.6441, LR: 0.001000000\n",
            "\n",
            "Epoch 17/100\n"
          ]
        },
        {
          "output_type": "stream",
          "name": "stderr",
          "text": [
            "Training Epoch 17: 100%|██████████| 50/50 [00:17<00:00,  2.78it/s]\n",
            "Validating Epoch 17: 100%|██████████| 11/11 [00:04<00:00,  2.51it/s]\n"
          ]
        },
        {
          "output_type": "stream",
          "name": "stdout",
          "text": [
            "Epoch 17/100: Train Loss: 33.4485, Val Loss: 7.4360, Train Acc: 0.6813, Val Acc: 0.6647, LR: 0.001000000\n",
            "\n",
            "Epoch 18/100\n"
          ]
        },
        {
          "output_type": "stream",
          "name": "stderr",
          "text": [
            "Training Epoch 18: 100%|██████████| 50/50 [00:18<00:00,  2.75it/s]\n",
            "Validating Epoch 18: 100%|██████████| 11/11 [00:03<00:00,  3.08it/s]\n"
          ]
        },
        {
          "output_type": "stream",
          "name": "stdout",
          "text": [
            "Epoch 18/100: Train Loss: 32.0995, Val Loss: 7.1031, Train Acc: 0.6845, Val Acc: 0.6676, LR: 0.001000000\n",
            "\n",
            "Epoch 19/100\n"
          ]
        },
        {
          "output_type": "stream",
          "name": "stderr",
          "text": [
            "Training Epoch 19: 100%|██████████| 50/50 [00:18<00:00,  2.65it/s]\n",
            "Validating Epoch 19: 100%|██████████| 11/11 [00:03<00:00,  3.01it/s]\n"
          ]
        },
        {
          "output_type": "stream",
          "name": "stdout",
          "text": [
            "Epoch 19/100: Train Loss: 33.5657, Val Loss: 7.6421, Train Acc: 0.6644, Val Acc: 0.6412, LR: 0.001000000\n",
            "\n",
            "Epoch 20/100\n"
          ]
        },
        {
          "output_type": "stream",
          "name": "stderr",
          "text": [
            "Training Epoch 20: 100%|██████████| 50/50 [00:17<00:00,  2.79it/s]\n",
            "Validating Epoch 20: 100%|██████████| 11/11 [00:04<00:00,  2.56it/s]\n"
          ]
        },
        {
          "output_type": "stream",
          "name": "stdout",
          "text": [
            "Epoch 20/100: Train Loss: 32.7526, Val Loss: 7.2778, Train Acc: 0.6845, Val Acc: 0.7147, LR: 0.000100000\n",
            "\n",
            "Epoch 21/100\n"
          ]
        },
        {
          "output_type": "stream",
          "name": "stderr",
          "text": [
            "Training Epoch 21: 100%|██████████| 50/50 [00:18<00:00,  2.73it/s]\n",
            "Validating Epoch 21: 100%|██████████| 11/11 [00:03<00:00,  3.04it/s]\n"
          ]
        },
        {
          "output_type": "stream",
          "name": "stdout",
          "text": [
            "Epoch 21/100: Train Loss: 30.4492, Val Loss: 7.1502, Train Acc: 0.7272, Val Acc: 0.7118, LR: 0.000100000\n",
            "\n",
            "Epoch 22/100\n"
          ]
        },
        {
          "output_type": "stream",
          "name": "stderr",
          "text": [
            "Training Epoch 22: 100%|██████████| 50/50 [00:18<00:00,  2.67it/s]\n",
            "Validating Epoch 22: 100%|██████████| 11/11 [00:03<00:00,  2.91it/s]\n"
          ]
        },
        {
          "output_type": "stream",
          "name": "stdout",
          "text": [
            "Epoch 22/100: Train Loss: 30.9310, Val Loss: 7.2537, Train Acc: 0.7002, Val Acc: 0.6706, LR: 0.000100000\n",
            "\n",
            "Epoch 23/100\n"
          ]
        },
        {
          "output_type": "stream",
          "name": "stderr",
          "text": [
            "Training Epoch 23: 100%|██████████| 50/50 [00:18<00:00,  2.76it/s]\n",
            "Validating Epoch 23: 100%|██████████| 11/11 [00:04<00:00,  2.58it/s]\n"
          ]
        },
        {
          "output_type": "stream",
          "name": "stdout",
          "text": [
            "Epoch 23/100: Train Loss: 30.8074, Val Loss: 7.1639, Train Acc: 0.7121, Val Acc: 0.6853, LR: 0.000100000\n",
            "\n",
            "Epoch 24/100\n"
          ]
        },
        {
          "output_type": "stream",
          "name": "stderr",
          "text": [
            "Training Epoch 24: 100%|██████████| 50/50 [00:18<00:00,  2.74it/s]\n",
            "Validating Epoch 24: 100%|██████████| 11/11 [00:03<00:00,  3.04it/s]\n"
          ]
        },
        {
          "output_type": "stream",
          "name": "stdout",
          "text": [
            "Epoch 24/100: Train Loss: 30.6606, Val Loss: 6.9415, Train Acc: 0.6996, Val Acc: 0.7059, LR: 0.000100000\n",
            "\n",
            "Epoch 25/100\n"
          ]
        },
        {
          "output_type": "stream",
          "name": "stderr",
          "text": [
            "Training Epoch 25: 100%|██████████| 50/50 [00:19<00:00,  2.63it/s]\n",
            "Validating Epoch 25: 100%|██████████| 11/11 [00:03<00:00,  3.04it/s]\n"
          ]
        },
        {
          "output_type": "stream",
          "name": "stdout",
          "text": [
            "Epoch 25/100: Train Loss: 30.4872, Val Loss: 7.3998, Train Acc: 0.6983, Val Acc: 0.6647, LR: 0.000100000\n",
            "\n",
            "Epoch 26/100\n"
          ]
        },
        {
          "output_type": "stream",
          "name": "stderr",
          "text": [
            "Training Epoch 26: 100%|██████████| 50/50 [00:17<00:00,  2.80it/s]\n",
            "Validating Epoch 26: 100%|██████████| 11/11 [00:04<00:00,  2.53it/s]\n"
          ]
        },
        {
          "output_type": "stream",
          "name": "stdout",
          "text": [
            "Epoch 26/100: Train Loss: 29.7633, Val Loss: 7.3091, Train Acc: 0.7209, Val Acc: 0.6676, LR: 0.000010000\n",
            "\n",
            "Epoch 27/100\n"
          ]
        },
        {
          "output_type": "stream",
          "name": "stderr",
          "text": [
            "Training Epoch 27: 100%|██████████| 50/50 [00:18<00:00,  2.74it/s]\n",
            "Validating Epoch 27: 100%|██████████| 11/11 [00:03<00:00,  3.05it/s]\n"
          ]
        },
        {
          "output_type": "stream",
          "name": "stdout",
          "text": [
            "Epoch 27/100: Train Loss: 29.7865, Val Loss: 7.1509, Train Acc: 0.7335, Val Acc: 0.7265, LR: 0.000010000\n",
            "\n",
            "Epoch 28/100\n"
          ]
        },
        {
          "output_type": "stream",
          "name": "stderr",
          "text": [
            "Training Epoch 28: 100%|██████████| 50/50 [00:18<00:00,  2.64it/s]\n",
            "Validating Epoch 28: 100%|██████████| 11/11 [00:03<00:00,  3.09it/s]\n"
          ]
        },
        {
          "output_type": "stream",
          "name": "stdout",
          "text": [
            "Epoch 28/100: Train Loss: 30.2152, Val Loss: 6.7385, Train Acc: 0.7121, Val Acc: 0.7088, LR: 0.000010000\n",
            "\n",
            "Epoch 29/100\n"
          ]
        },
        {
          "output_type": "stream",
          "name": "stderr",
          "text": [
            "Training Epoch 29: 100%|██████████| 50/50 [00:18<00:00,  2.77it/s]\n",
            "Validating Epoch 29: 100%|██████████| 11/11 [00:04<00:00,  2.50it/s]\n"
          ]
        },
        {
          "output_type": "stream",
          "name": "stdout",
          "text": [
            "Epoch 29/100: Train Loss: 30.0092, Val Loss: 7.1109, Train Acc: 0.7027, Val Acc: 0.6882, LR: 0.000010000\n",
            "\n",
            "Epoch 30/100\n"
          ]
        },
        {
          "output_type": "stream",
          "name": "stderr",
          "text": [
            "Training Epoch 30: 100%|██████████| 50/50 [00:18<00:00,  2.76it/s]\n",
            "Validating Epoch 30: 100%|██████████| 11/11 [00:03<00:00,  3.05it/s]\n"
          ]
        },
        {
          "output_type": "stream",
          "name": "stdout",
          "text": [
            "Epoch 30/100: Train Loss: 30.0277, Val Loss: 6.9344, Train Acc: 0.7216, Val Acc: 0.7147, LR: 0.000010000\n",
            "\n",
            "Epoch 31/100\n"
          ]
        },
        {
          "output_type": "stream",
          "name": "stderr",
          "text": [
            "Training Epoch 31: 100%|██████████| 50/50 [00:19<00:00,  2.62it/s]\n",
            "Validating Epoch 31: 100%|██████████| 11/11 [00:03<00:00,  3.05it/s]\n"
          ]
        },
        {
          "output_type": "stream",
          "name": "stdout",
          "text": [
            "Epoch 31/100: Train Loss: 29.2715, Val Loss: 7.0943, Train Acc: 0.7335, Val Acc: 0.7029, LR: 0.000010000\n",
            "\n",
            "Epoch 32/100\n"
          ]
        },
        {
          "output_type": "stream",
          "name": "stderr",
          "text": [
            "Training Epoch 32: 100%|██████████| 50/50 [00:18<00:00,  2.76it/s]\n",
            "Validating Epoch 32: 100%|██████████| 11/11 [00:04<00:00,  2.53it/s]\n"
          ]
        },
        {
          "output_type": "stream",
          "name": "stdout",
          "text": [
            "Epoch 32/100: Train Loss: 29.3343, Val Loss: 6.8427, Train Acc: 0.7115, Val Acc: 0.7029, LR: 0.000010000\n",
            "\n",
            "Epoch 33/100\n"
          ]
        },
        {
          "output_type": "stream",
          "name": "stderr",
          "text": [
            "Training Epoch 33: 100%|██████████| 50/50 [00:18<00:00,  2.75it/s]\n",
            "Validating Epoch 33: 100%|██████████| 11/11 [00:03<00:00,  3.11it/s]\n"
          ]
        },
        {
          "output_type": "stream",
          "name": "stdout",
          "text": [
            "Epoch 33/100: Train Loss: 29.7194, Val Loss: 7.1093, Train Acc: 0.7322, Val Acc: 0.6941, LR: 0.000010000\n",
            "\n",
            "Epoch 34/100\n"
          ]
        },
        {
          "output_type": "stream",
          "name": "stderr",
          "text": [
            "Training Epoch 34: 100%|██████████| 50/50 [00:19<00:00,  2.63it/s]\n",
            "Validating Epoch 34: 100%|██████████| 11/11 [00:03<00:00,  3.04it/s]\n"
          ]
        },
        {
          "output_type": "stream",
          "name": "stdout",
          "text": [
            "Epoch 34/100: Train Loss: 29.6383, Val Loss: 7.4145, Train Acc: 0.7253, Val Acc: 0.6735, LR: 0.000001000\n",
            "\n",
            "Epoch 35/100\n"
          ]
        },
        {
          "output_type": "stream",
          "name": "stderr",
          "text": [
            "Training Epoch 35: 100%|██████████| 50/50 [00:18<00:00,  2.76it/s]\n",
            "Validating Epoch 35: 100%|██████████| 11/11 [00:04<00:00,  2.48it/s]\n"
          ]
        },
        {
          "output_type": "stream",
          "name": "stdout",
          "text": [
            "Epoch 35/100: Train Loss: 30.8826, Val Loss: 6.7926, Train Acc: 0.6996, Val Acc: 0.7147, LR: 0.000001000\n",
            "\n",
            "Epoch 36/100\n"
          ]
        },
        {
          "output_type": "stream",
          "name": "stderr",
          "text": [
            "Training Epoch 36: 100%|██████████| 50/50 [00:18<00:00,  2.76it/s]\n",
            "Validating Epoch 36: 100%|██████████| 11/11 [00:03<00:00,  3.10it/s]\n"
          ]
        },
        {
          "output_type": "stream",
          "name": "stdout",
          "text": [
            "Epoch 36/100: Train Loss: 29.5609, Val Loss: 6.7050, Train Acc: 0.7247, Val Acc: 0.7147, LR: 0.000001000\n",
            "\n",
            "Epoch 37/100\n"
          ]
        },
        {
          "output_type": "stream",
          "name": "stderr",
          "text": [
            "Training Epoch 37: 100%|██████████| 50/50 [00:19<00:00,  2.63it/s]\n",
            "Validating Epoch 37: 100%|██████████| 11/11 [00:03<00:00,  3.09it/s]\n"
          ]
        },
        {
          "output_type": "stream",
          "name": "stdout",
          "text": [
            "Epoch 37/100: Train Loss: 30.3196, Val Loss: 7.0057, Train Acc: 0.6989, Val Acc: 0.7059, LR: 0.000001000\n",
            "\n",
            "Epoch 38/100\n"
          ]
        },
        {
          "output_type": "stream",
          "name": "stderr",
          "text": [
            "Training Epoch 38: 100%|██████████| 50/50 [00:17<00:00,  2.79it/s]\n",
            "Validating Epoch 38: 100%|██████████| 11/11 [00:04<00:00,  2.54it/s]\n"
          ]
        },
        {
          "output_type": "stream",
          "name": "stdout",
          "text": [
            "Epoch 38/100: Train Loss: 30.2817, Val Loss: 6.5903, Train Acc: 0.7222, Val Acc: 0.7529, LR: 0.000001000\n",
            "\n",
            "Epoch 39/100\n"
          ]
        },
        {
          "output_type": "stream",
          "name": "stderr",
          "text": [
            "Training Epoch 39: 100%|██████████| 50/50 [00:18<00:00,  2.76it/s]\n",
            "Validating Epoch 39: 100%|██████████| 11/11 [00:03<00:00,  3.10it/s]\n"
          ]
        },
        {
          "output_type": "stream",
          "name": "stdout",
          "text": [
            "Epoch 39/100: Train Loss: 29.7036, Val Loss: 7.2339, Train Acc: 0.7222, Val Acc: 0.6824, LR: 0.000001000\n",
            "\n",
            "Epoch 40/100\n"
          ]
        },
        {
          "output_type": "stream",
          "name": "stderr",
          "text": [
            "Training Epoch 40: 100%|██████████| 50/50 [00:19<00:00,  2.62it/s]\n",
            "Validating Epoch 40: 100%|██████████| 11/11 [00:03<00:00,  3.06it/s]\n"
          ]
        },
        {
          "output_type": "stream",
          "name": "stdout",
          "text": [
            "Epoch 40/100: Train Loss: 29.7416, Val Loss: 6.4637, Train Acc: 0.7241, Val Acc: 0.7441, LR: 0.000001000\n",
            "\n",
            "Epoch 41/100\n"
          ]
        },
        {
          "output_type": "stream",
          "name": "stderr",
          "text": [
            "Training Epoch 41: 100%|██████████| 50/50 [00:18<00:00,  2.75it/s]\n",
            "Validating Epoch 41: 100%|██████████| 11/11 [00:04<00:00,  2.40it/s]\n"
          ]
        },
        {
          "output_type": "stream",
          "name": "stdout",
          "text": [
            "Epoch 41/100: Train Loss: 30.8948, Val Loss: 6.8226, Train Acc: 0.7071, Val Acc: 0.6912, LR: 0.000001000\n",
            "\n",
            "Epoch 42/100\n"
          ]
        },
        {
          "output_type": "stream",
          "name": "stderr",
          "text": [
            "Training Epoch 42: 100%|██████████| 50/50 [00:18<00:00,  2.77it/s]\n",
            "Validating Epoch 42: 100%|██████████| 11/11 [00:03<00:00,  3.07it/s]\n"
          ]
        },
        {
          "output_type": "stream",
          "name": "stdout",
          "text": [
            "Epoch 42/100: Train Loss: 29.1464, Val Loss: 7.2634, Train Acc: 0.7392, Val Acc: 0.6735, LR: 0.000001000\n",
            "\n",
            "Epoch 43/100\n"
          ]
        },
        {
          "output_type": "stream",
          "name": "stderr",
          "text": [
            "Training Epoch 43: 100%|██████████| 50/50 [00:19<00:00,  2.63it/s]\n",
            "Validating Epoch 43: 100%|██████████| 11/11 [00:03<00:00,  3.05it/s]\n"
          ]
        },
        {
          "output_type": "stream",
          "name": "stdout",
          "text": [
            "Epoch 43/100: Train Loss: 30.0583, Val Loss: 7.2565, Train Acc: 0.7128, Val Acc: 0.6882, LR: 0.000001000\n",
            "\n",
            "Epoch 44/100\n"
          ]
        },
        {
          "output_type": "stream",
          "name": "stderr",
          "text": [
            "Training Epoch 44: 100%|██████████| 50/50 [00:18<00:00,  2.77it/s]\n",
            "Validating Epoch 44: 100%|██████████| 11/11 [00:04<00:00,  2.39it/s]\n"
          ]
        },
        {
          "output_type": "stream",
          "name": "stdout",
          "text": [
            "Epoch 44/100: Train Loss: 30.3089, Val Loss: 6.7778, Train Acc: 0.7121, Val Acc: 0.7176, LR: 0.000001000\n",
            "\n",
            "Epoch 45/100\n"
          ]
        },
        {
          "output_type": "stream",
          "name": "stderr",
          "text": [
            "Training Epoch 45: 100%|██████████| 50/50 [00:18<00:00,  2.76it/s]\n",
            "Validating Epoch 45: 100%|██████████| 11/11 [00:03<00:00,  3.04it/s]\n"
          ]
        },
        {
          "output_type": "stream",
          "name": "stdout",
          "text": [
            "Epoch 45/100: Train Loss: 30.3681, Val Loss: 7.2846, Train Acc: 0.7109, Val Acc: 0.6853, LR: 0.000001000\n",
            "\n",
            "Epoch 46/100\n"
          ]
        },
        {
          "output_type": "stream",
          "name": "stderr",
          "text": [
            "Training Epoch 46: 100%|██████████| 50/50 [00:19<00:00,  2.62it/s]\n",
            "Validating Epoch 46: 100%|██████████| 11/11 [00:03<00:00,  3.07it/s]\n"
          ]
        },
        {
          "output_type": "stream",
          "name": "stdout",
          "text": [
            "Epoch 46/100: Train Loss: 29.5099, Val Loss: 7.1089, Train Acc: 0.7266, Val Acc: 0.6794, LR: 0.000000100\n",
            "\n",
            "Epoch 47/100\n"
          ]
        },
        {
          "output_type": "stream",
          "name": "stderr",
          "text": [
            "Training Epoch 47: 100%|██████████| 50/50 [00:17<00:00,  2.80it/s]\n",
            "Validating Epoch 47: 100%|██████████| 11/11 [00:04<00:00,  2.41it/s]\n"
          ]
        },
        {
          "output_type": "stream",
          "name": "stdout",
          "text": [
            "Epoch 47/100: Train Loss: 30.6490, Val Loss: 6.9845, Train Acc: 0.7096, Val Acc: 0.7176, LR: 0.000000100\n",
            "\n",
            "Epoch 48/100\n"
          ]
        },
        {
          "output_type": "stream",
          "name": "stderr",
          "text": [
            "Training Epoch 48: 100%|██████████| 50/50 [00:18<00:00,  2.77it/s]\n",
            "Validating Epoch 48: 100%|██████████| 11/11 [00:03<00:00,  3.09it/s]\n"
          ]
        },
        {
          "output_type": "stream",
          "name": "stdout",
          "text": [
            "Epoch 48/100: Train Loss: 29.4390, Val Loss: 7.1087, Train Acc: 0.7253, Val Acc: 0.7029, LR: 0.000000100\n",
            "\n",
            "Epoch 49/100\n"
          ]
        },
        {
          "output_type": "stream",
          "name": "stderr",
          "text": [
            "Training Epoch 49: 100%|██████████| 50/50 [00:18<00:00,  2.64it/s]\n",
            "Validating Epoch 49: 100%|██████████| 11/11 [00:03<00:00,  3.02it/s]\n"
          ]
        },
        {
          "output_type": "stream",
          "name": "stdout",
          "text": [
            "Epoch 49/100: Train Loss: 30.4316, Val Loss: 6.8368, Train Acc: 0.7128, Val Acc: 0.7324, LR: 0.000000100\n",
            "\n",
            "Epoch 50/100\n"
          ]
        },
        {
          "output_type": "stream",
          "name": "stderr",
          "text": [
            "Training Epoch 50: 100%|██████████| 50/50 [00:18<00:00,  2.76it/s]\n",
            "Validating Epoch 50: 100%|██████████| 11/11 [00:04<00:00,  2.40it/s]\n"
          ]
        },
        {
          "output_type": "stream",
          "name": "stdout",
          "text": [
            "Epoch 50/100: Train Loss: 29.7476, Val Loss: 7.2156, Train Acc: 0.7140, Val Acc: 0.6912, LR: 0.000000100\n",
            "\n",
            "Epoch 51/100\n"
          ]
        },
        {
          "output_type": "stream",
          "name": "stderr",
          "text": [
            "Training Epoch 51: 100%|██████████| 50/50 [00:18<00:00,  2.75it/s]\n",
            "Validating Epoch 51: 100%|██████████| 11/11 [00:03<00:00,  3.08it/s]\n"
          ]
        },
        {
          "output_type": "stream",
          "name": "stdout",
          "text": [
            "Epoch 51/100: Train Loss: 29.3733, Val Loss: 6.9627, Train Acc: 0.7247, Val Acc: 0.7176, LR: 0.000000100\n",
            "\n",
            "Epoch 52/100\n"
          ]
        },
        {
          "output_type": "stream",
          "name": "stderr",
          "text": [
            "Training Epoch 52: 100%|██████████| 50/50 [00:18<00:00,  2.65it/s]\n",
            "Validating Epoch 52: 100%|██████████| 11/11 [00:03<00:00,  3.07it/s]\n"
          ]
        },
        {
          "output_type": "stream",
          "name": "stdout",
          "text": [
            "Epoch 52/100: Train Loss: 30.4687, Val Loss: 7.0076, Train Acc: 0.6939, Val Acc: 0.7088, LR: 0.000000010\n",
            "\n",
            "Epoch 53/100\n"
          ]
        },
        {
          "output_type": "stream",
          "name": "stderr",
          "text": [
            "Training Epoch 53: 100%|██████████| 50/50 [00:18<00:00,  2.77it/s]\n",
            "Validating Epoch 53: 100%|██████████| 11/11 [00:04<00:00,  2.36it/s]\n"
          ]
        },
        {
          "output_type": "stream",
          "name": "stdout",
          "text": [
            "Epoch 53/100: Train Loss: 30.5935, Val Loss: 6.8293, Train Acc: 0.7084, Val Acc: 0.7029, LR: 0.000000010\n",
            "\n",
            "Epoch 54/100\n"
          ]
        },
        {
          "output_type": "stream",
          "name": "stderr",
          "text": [
            "Training Epoch 54: 100%|██████████| 50/50 [00:17<00:00,  2.80it/s]\n",
            "Validating Epoch 54: 100%|██████████| 11/11 [00:03<00:00,  3.08it/s]\n"
          ]
        },
        {
          "output_type": "stream",
          "name": "stdout",
          "text": [
            "Epoch 54/100: Train Loss: 30.1805, Val Loss: 6.9352, Train Acc: 0.7172, Val Acc: 0.7176, LR: 0.000000010\n",
            "\n",
            "Epoch 55/100\n"
          ]
        },
        {
          "output_type": "stream",
          "name": "stderr",
          "text": [
            "Training Epoch 55: 100%|██████████| 50/50 [00:18<00:00,  2.65it/s]\n",
            "Validating Epoch 55: 100%|██████████| 11/11 [00:03<00:00,  3.06it/s]\n"
          ]
        },
        {
          "output_type": "stream",
          "name": "stdout",
          "text": [
            "Epoch 55/100: Train Loss: 29.0792, Val Loss: 7.2759, Train Acc: 0.7272, Val Acc: 0.6971, LR: 0.000000010\n",
            "⏹️ Early stopping etkin. Doğrulama kaybı iyileşmedi.\n",
            "\n",
            "✅ SINEM_RESNET50 eğitimi tamamlandı. En iyi model: Egitilen_Modeller/combined_dataset/SINEM_RESNET50/Best_SINEM_RESNET50-combined_dataset.pth\n",
            "\n",
            "==============================\n",
            "🔧 Eğitim Başladı: DENSENET121\n",
            "==============================\n",
            "\n",
            "Epoch 1/100\n"
          ]
        },
        {
          "output_type": "stream",
          "name": "stderr",
          "text": [
            "Training Epoch 1: 100%|██████████| 50/50 [00:18<00:00,  2.66it/s]\n",
            "Validating Epoch 1: 100%|██████████| 11/11 [00:04<00:00,  2.36it/s]\n"
          ]
        },
        {
          "output_type": "stream",
          "name": "stdout",
          "text": [
            "Epoch 1/100: Train Loss: 40.3881, Val Loss: 8.2145, Train Acc: 0.5745, Val Acc: 0.6029, LR: 0.001000000\n",
            "\n",
            "Epoch 2/100\n"
          ]
        },
        {
          "output_type": "stream",
          "name": "stderr",
          "text": [
            "Training Epoch 2: 100%|██████████| 50/50 [00:18<00:00,  2.67it/s]\n",
            "Validating Epoch 2: 100%|██████████| 11/11 [00:03<00:00,  2.78it/s]\n"
          ]
        },
        {
          "output_type": "stream",
          "name": "stdout",
          "text": [
            "Epoch 2/100: Train Loss: 35.8892, Val Loss: 7.7170, Train Acc: 0.6329, Val Acc: 0.6588, LR: 0.001000000\n",
            "\n",
            "Epoch 3/100\n"
          ]
        },
        {
          "output_type": "stream",
          "name": "stderr",
          "text": [
            "Training Epoch 3: 100%|██████████| 50/50 [00:19<00:00,  2.58it/s]\n",
            "Validating Epoch 3: 100%|██████████| 11/11 [00:03<00:00,  2.97it/s]\n"
          ]
        },
        {
          "output_type": "stream",
          "name": "stdout",
          "text": [
            "Epoch 3/100: Train Loss: 34.7551, Val Loss: 7.7552, Train Acc: 0.6669, Val Acc: 0.6324, LR: 0.001000000\n",
            "\n",
            "Epoch 4/100\n"
          ]
        },
        {
          "output_type": "stream",
          "name": "stderr",
          "text": [
            "Training Epoch 4: 100%|██████████| 50/50 [00:19<00:00,  2.53it/s]\n",
            "Validating Epoch 4: 100%|██████████| 11/11 [00:03<00:00,  2.97it/s]\n"
          ]
        },
        {
          "output_type": "stream",
          "name": "stdout",
          "text": [
            "Epoch 4/100: Train Loss: 34.0448, Val Loss: 7.6910, Train Acc: 0.6769, Val Acc: 0.6588, LR: 0.001000000\n",
            "\n",
            "Epoch 5/100\n"
          ]
        },
        {
          "output_type": "stream",
          "name": "stderr",
          "text": [
            "Training Epoch 5: 100%|██████████| 50/50 [00:18<00:00,  2.66it/s]\n",
            "Validating Epoch 5: 100%|██████████| 11/11 [00:04<00:00,  2.38it/s]\n"
          ]
        },
        {
          "output_type": "stream",
          "name": "stdout",
          "text": [
            "Epoch 5/100: Train Loss: 33.8778, Val Loss: 7.4798, Train Acc: 0.6732, Val Acc: 0.6824, LR: 0.001000000\n",
            "\n",
            "Epoch 6/100\n"
          ]
        },
        {
          "output_type": "stream",
          "name": "stderr",
          "text": [
            "Training Epoch 6: 100%|██████████| 50/50 [00:18<00:00,  2.67it/s]\n",
            "Validating Epoch 6: 100%|██████████| 11/11 [00:03<00:00,  2.90it/s]\n"
          ]
        },
        {
          "output_type": "stream",
          "name": "stdout",
          "text": [
            "Epoch 6/100: Train Loss: 32.5513, Val Loss: 7.3375, Train Acc: 0.6983, Val Acc: 0.6941, LR: 0.001000000\n",
            "\n",
            "Epoch 7/100\n"
          ]
        },
        {
          "output_type": "stream",
          "name": "stderr",
          "text": [
            "Training Epoch 7: 100%|██████████| 50/50 [00:19<00:00,  2.57it/s]\n",
            "Validating Epoch 7: 100%|██████████| 11/11 [00:03<00:00,  2.99it/s]\n"
          ]
        },
        {
          "output_type": "stream",
          "name": "stdout",
          "text": [
            "Epoch 7/100: Train Loss: 32.1316, Val Loss: 7.0544, Train Acc: 0.7040, Val Acc: 0.7147, LR: 0.001000000\n",
            "\n",
            "Epoch 8/100\n"
          ]
        },
        {
          "output_type": "stream",
          "name": "stderr",
          "text": [
            "Training Epoch 8: 100%|██████████| 50/50 [00:19<00:00,  2.58it/s]\n",
            "Validating Epoch 8: 100%|██████████| 11/11 [00:03<00:00,  2.89it/s]\n"
          ]
        },
        {
          "output_type": "stream",
          "name": "stdout",
          "text": [
            "Epoch 8/100: Train Loss: 32.0070, Val Loss: 7.6620, Train Acc: 0.7096, Val Acc: 0.6588, LR: 0.001000000\n",
            "\n",
            "Epoch 9/100\n"
          ]
        },
        {
          "output_type": "stream",
          "name": "stderr",
          "text": [
            "Training Epoch 9: 100%|██████████| 50/50 [00:18<00:00,  2.66it/s]\n",
            "Validating Epoch 9: 100%|██████████| 11/11 [00:04<00:00,  2.37it/s]\n"
          ]
        },
        {
          "output_type": "stream",
          "name": "stdout",
          "text": [
            "Epoch 9/100: Train Loss: 31.2807, Val Loss: 7.2303, Train Acc: 0.7172, Val Acc: 0.7088, LR: 0.001000000\n",
            "\n",
            "Epoch 10/100\n"
          ]
        },
        {
          "output_type": "stream",
          "name": "stderr",
          "text": [
            "Training Epoch 10: 100%|██████████| 50/50 [00:18<00:00,  2.69it/s]\n",
            "Validating Epoch 10: 100%|██████████| 11/11 [00:03<00:00,  3.02it/s]\n"
          ]
        },
        {
          "output_type": "stream",
          "name": "stdout",
          "text": [
            "Epoch 10/100: Train Loss: 31.5476, Val Loss: 7.4859, Train Acc: 0.6989, Val Acc: 0.6706, LR: 0.001000000\n",
            "\n",
            "Epoch 11/100\n"
          ]
        },
        {
          "output_type": "stream",
          "name": "stderr",
          "text": [
            "Training Epoch 11: 100%|██████████| 50/50 [00:19<00:00,  2.57it/s]\n",
            "Validating Epoch 11: 100%|██████████| 11/11 [00:03<00:00,  3.01it/s]\n"
          ]
        },
        {
          "output_type": "stream",
          "name": "stdout",
          "text": [
            "Epoch 11/100: Train Loss: 31.8657, Val Loss: 7.1209, Train Acc: 0.7071, Val Acc: 0.6971, LR: 0.001000000\n",
            "\n",
            "Epoch 12/100\n"
          ]
        },
        {
          "output_type": "stream",
          "name": "stderr",
          "text": [
            "Training Epoch 12: 100%|██████████| 50/50 [00:18<00:00,  2.64it/s]\n",
            "Validating Epoch 12: 100%|██████████| 11/11 [00:04<00:00,  2.56it/s]\n"
          ]
        },
        {
          "output_type": "stream",
          "name": "stdout",
          "text": [
            "Epoch 12/100: Train Loss: 30.5223, Val Loss: 7.1278, Train Acc: 0.7241, Val Acc: 0.7000, LR: 0.001000000\n",
            "\n",
            "Epoch 13/100\n"
          ]
        },
        {
          "output_type": "stream",
          "name": "stderr",
          "text": [
            "Training Epoch 13: 100%|██████████| 50/50 [00:18<00:00,  2.68it/s]\n",
            "Validating Epoch 13: 100%|██████████| 11/11 [00:03<00:00,  2.76it/s]\n"
          ]
        },
        {
          "output_type": "stream",
          "name": "stdout",
          "text": [
            "Epoch 13/100: Train Loss: 31.0332, Val Loss: 7.0573, Train Acc: 0.7077, Val Acc: 0.7059, LR: 0.000100000\n",
            "\n",
            "Epoch 14/100\n"
          ]
        },
        {
          "output_type": "stream",
          "name": "stderr",
          "text": [
            "Training Epoch 14: 100%|██████████| 50/50 [00:19<00:00,  2.60it/s]\n",
            "Validating Epoch 14: 100%|██████████| 11/11 [00:03<00:00,  3.00it/s]\n"
          ]
        },
        {
          "output_type": "stream",
          "name": "stdout",
          "text": [
            "Epoch 14/100: Train Loss: 30.3310, Val Loss: 6.7661, Train Acc: 0.7159, Val Acc: 0.7324, LR: 0.000100000\n",
            "\n",
            "Epoch 15/100\n"
          ]
        },
        {
          "output_type": "stream",
          "name": "stderr",
          "text": [
            "Training Epoch 15: 100%|██████████| 50/50 [00:19<00:00,  2.56it/s]\n",
            "Validating Epoch 15: 100%|██████████| 11/11 [00:03<00:00,  2.96it/s]\n"
          ]
        },
        {
          "output_type": "stream",
          "name": "stdout",
          "text": [
            "Epoch 15/100: Train Loss: 30.8681, Val Loss: 6.9743, Train Acc: 0.7008, Val Acc: 0.6882, LR: 0.000100000\n",
            "\n",
            "Epoch 16/100\n"
          ]
        },
        {
          "output_type": "stream",
          "name": "stderr",
          "text": [
            "Training Epoch 16: 100%|██████████| 50/50 [00:18<00:00,  2.68it/s]\n",
            "Validating Epoch 16: 100%|██████████| 11/11 [00:04<00:00,  2.37it/s]\n"
          ]
        },
        {
          "output_type": "stream",
          "name": "stdout",
          "text": [
            "Epoch 16/100: Train Loss: 30.2965, Val Loss: 6.8144, Train Acc: 0.7159, Val Acc: 0.7294, LR: 0.000100000\n",
            "\n",
            "Epoch 17/100\n"
          ]
        },
        {
          "output_type": "stream",
          "name": "stderr",
          "text": [
            "Training Epoch 17: 100%|██████████| 50/50 [00:18<00:00,  2.65it/s]\n",
            "Validating Epoch 17: 100%|██████████| 11/11 [00:03<00:00,  2.89it/s]\n"
          ]
        },
        {
          "output_type": "stream",
          "name": "stdout",
          "text": [
            "Epoch 17/100: Train Loss: 29.2797, Val Loss: 7.1604, Train Acc: 0.7398, Val Acc: 0.6706, LR: 0.000100000\n",
            "\n",
            "Epoch 18/100\n"
          ]
        },
        {
          "output_type": "stream",
          "name": "stderr",
          "text": [
            "Training Epoch 18: 100%|██████████| 50/50 [00:19<00:00,  2.58it/s]\n",
            "Validating Epoch 18: 100%|██████████| 11/11 [00:03<00:00,  3.02it/s]\n"
          ]
        },
        {
          "output_type": "stream",
          "name": "stdout",
          "text": [
            "Epoch 18/100: Train Loss: 30.8235, Val Loss: 7.2302, Train Acc: 0.7109, Val Acc: 0.7029, LR: 0.000100000\n",
            "\n",
            "Epoch 19/100\n"
          ]
        },
        {
          "output_type": "stream",
          "name": "stderr",
          "text": [
            "Training Epoch 19: 100%|██████████| 50/50 [00:19<00:00,  2.56it/s]\n",
            "Validating Epoch 19: 100%|██████████| 11/11 [00:03<00:00,  2.88it/s]\n"
          ]
        },
        {
          "output_type": "stream",
          "name": "stdout",
          "text": [
            "Epoch 19/100: Train Loss: 29.7597, Val Loss: 6.9097, Train Acc: 0.7297, Val Acc: 0.7265, LR: 0.000100000\n",
            "\n",
            "Epoch 20/100\n"
          ]
        },
        {
          "output_type": "stream",
          "name": "stderr",
          "text": [
            "Training Epoch 20: 100%|██████████| 50/50 [00:18<00:00,  2.69it/s]\n",
            "Validating Epoch 20: 100%|██████████| 11/11 [00:04<00:00,  2.39it/s]\n"
          ]
        },
        {
          "output_type": "stream",
          "name": "stdout",
          "text": [
            "Epoch 20/100: Train Loss: 29.5644, Val Loss: 7.1555, Train Acc: 0.7310, Val Acc: 0.6706, LR: 0.000010000\n",
            "\n",
            "Epoch 21/100\n"
          ]
        },
        {
          "output_type": "stream",
          "name": "stderr",
          "text": [
            "Training Epoch 21: 100%|██████████| 50/50 [00:18<00:00,  2.68it/s]\n",
            "Validating Epoch 21: 100%|██████████| 11/11 [00:03<00:00,  2.99it/s]\n"
          ]
        },
        {
          "output_type": "stream",
          "name": "stdout",
          "text": [
            "Epoch 21/100: Train Loss: 30.1739, Val Loss: 6.9610, Train Acc: 0.7184, Val Acc: 0.7029, LR: 0.000010000\n",
            "\n",
            "Epoch 22/100\n"
          ]
        },
        {
          "output_type": "stream",
          "name": "stderr",
          "text": [
            "Training Epoch 22: 100%|██████████| 50/50 [00:19<00:00,  2.54it/s]\n",
            "Validating Epoch 22: 100%|██████████| 11/11 [00:03<00:00,  3.00it/s]\n"
          ]
        },
        {
          "output_type": "stream",
          "name": "stdout",
          "text": [
            "Epoch 22/100: Train Loss: 29.9958, Val Loss: 6.9577, Train Acc: 0.7228, Val Acc: 0.7176, LR: 0.000010000\n",
            "\n",
            "Epoch 23/100\n"
          ]
        },
        {
          "output_type": "stream",
          "name": "stderr",
          "text": [
            "Training Epoch 23: 100%|██████████| 50/50 [00:19<00:00,  2.63it/s]\n",
            "Validating Epoch 23: 100%|██████████| 11/11 [00:04<00:00,  2.58it/s]\n"
          ]
        },
        {
          "output_type": "stream",
          "name": "stdout",
          "text": [
            "Epoch 23/100: Train Loss: 29.9958, Val Loss: 7.1415, Train Acc: 0.7190, Val Acc: 0.7029, LR: 0.000010000\n",
            "\n",
            "Epoch 24/100\n"
          ]
        },
        {
          "output_type": "stream",
          "name": "stderr",
          "text": [
            "Training Epoch 24: 100%|██████████| 50/50 [00:18<00:00,  2.69it/s]\n",
            "Validating Epoch 24: 100%|██████████| 11/11 [00:04<00:00,  2.67it/s]\n"
          ]
        },
        {
          "output_type": "stream",
          "name": "stdout",
          "text": [
            "Epoch 24/100: Train Loss: 30.5525, Val Loss: 6.9359, Train Acc: 0.7065, Val Acc: 0.6941, LR: 0.000010000\n",
            "\n",
            "Epoch 25/100\n"
          ]
        },
        {
          "output_type": "stream",
          "name": "stderr",
          "text": [
            "Training Epoch 25: 100%|██████████| 50/50 [00:19<00:00,  2.59it/s]\n",
            "Validating Epoch 25: 100%|██████████| 11/11 [00:03<00:00,  2.95it/s]\n"
          ]
        },
        {
          "output_type": "stream",
          "name": "stdout",
          "text": [
            "Epoch 25/100: Train Loss: 29.2279, Val Loss: 7.2178, Train Acc: 0.7442, Val Acc: 0.7147, LR: 0.000010000\n",
            "\n",
            "Epoch 26/100\n"
          ]
        },
        {
          "output_type": "stream",
          "name": "stderr",
          "text": [
            "Training Epoch 26: 100%|██████████| 50/50 [00:19<00:00,  2.57it/s]\n",
            "Validating Epoch 26: 100%|██████████| 11/11 [00:03<00:00,  3.02it/s]\n"
          ]
        },
        {
          "output_type": "stream",
          "name": "stdout",
          "text": [
            "Epoch 26/100: Train Loss: 29.7884, Val Loss: 6.8886, Train Acc: 0.7341, Val Acc: 0.7118, LR: 0.000001000\n",
            "\n",
            "Epoch 27/100\n"
          ]
        },
        {
          "output_type": "stream",
          "name": "stderr",
          "text": [
            "Training Epoch 27: 100%|██████████| 50/50 [00:18<00:00,  2.70it/s]\n",
            "Validating Epoch 27: 100%|██████████| 11/11 [00:04<00:00,  2.37it/s]\n"
          ]
        },
        {
          "output_type": "stream",
          "name": "stdout",
          "text": [
            "Epoch 27/100: Train Loss: 30.0665, Val Loss: 7.1255, Train Acc: 0.7153, Val Acc: 0.6971, LR: 0.000001000\n",
            "\n",
            "Epoch 28/100\n"
          ]
        },
        {
          "output_type": "stream",
          "name": "stderr",
          "text": [
            "Training Epoch 28: 100%|██████████| 50/50 [00:18<00:00,  2.70it/s]\n",
            "Validating Epoch 28: 100%|██████████| 11/11 [00:03<00:00,  3.02it/s]\n"
          ]
        },
        {
          "output_type": "stream",
          "name": "stdout",
          "text": [
            "Epoch 28/100: Train Loss: 30.0973, Val Loss: 7.3030, Train Acc: 0.7272, Val Acc: 0.6676, LR: 0.000001000\n",
            "\n",
            "Epoch 29/100\n"
          ]
        },
        {
          "output_type": "stream",
          "name": "stderr",
          "text": [
            "Training Epoch 29: 100%|██████████| 50/50 [00:19<00:00,  2.56it/s]\n",
            "Validating Epoch 29: 100%|██████████| 11/11 [00:03<00:00,  3.01it/s]\n"
          ]
        },
        {
          "output_type": "stream",
          "name": "stdout",
          "text": [
            "Epoch 29/100: Train Loss: 29.8611, Val Loss: 6.7940, Train Acc: 0.7285, Val Acc: 0.7059, LR: 0.000001000\n",
            "⏹️ Early stopping etkin. Doğrulama kaybı iyileşmedi.\n",
            "\n",
            "✅ SINEM_DENSENET121 eğitimi tamamlandı. En iyi model: Egitilen_Modeller/combined_dataset/SINEM_DENSENET121/Best_SINEM_DENSENET121-combined_dataset.pth\n",
            "\n",
            "==============================\n",
            "🔧 Eğitim Başladı: EFFICIENTNET_B0\n",
            "==============================\n",
            "\n",
            "Epoch 1/100\n"
          ]
        },
        {
          "output_type": "stream",
          "name": "stderr",
          "text": [
            "Training Epoch 1: 100%|██████████| 50/50 [00:16<00:00,  3.03it/s]\n",
            "Validating Epoch 1: 100%|██████████| 11/11 [00:04<00:00,  2.59it/s]\n"
          ]
        },
        {
          "output_type": "stream",
          "name": "stdout",
          "text": [
            "Epoch 1/100: Train Loss: 38.7515, Val Loss: 7.9490, Train Acc: 0.6128, Val Acc: 0.6324, LR: 0.001000000\n",
            "\n",
            "Epoch 2/100\n"
          ]
        },
        {
          "output_type": "stream",
          "name": "stderr",
          "text": [
            "Training Epoch 2: 100%|██████████| 50/50 [00:16<00:00,  3.08it/s]\n",
            "Validating Epoch 2: 100%|██████████| 11/11 [00:03<00:00,  3.45it/s]\n"
          ]
        },
        {
          "output_type": "stream",
          "name": "stdout",
          "text": [
            "Epoch 2/100: Train Loss: 35.2294, Val Loss: 7.3297, Train Acc: 0.6618, Val Acc: 0.6735, LR: 0.001000000\n",
            "\n",
            "Epoch 3/100\n"
          ]
        },
        {
          "output_type": "stream",
          "name": "stderr",
          "text": [
            "Training Epoch 3: 100%|██████████| 50/50 [00:16<00:00,  3.10it/s]\n",
            "Validating Epoch 3: 100%|██████████| 11/11 [00:04<00:00,  2.59it/s]\n"
          ]
        },
        {
          "output_type": "stream",
          "name": "stdout",
          "text": [
            "Epoch 3/100: Train Loss: 34.2918, Val Loss: 7.5220, Train Acc: 0.6675, Val Acc: 0.6529, LR: 0.001000000\n",
            "\n",
            "Epoch 4/100\n"
          ]
        },
        {
          "output_type": "stream",
          "name": "stderr",
          "text": [
            "Training Epoch 4: 100%|██████████| 50/50 [00:16<00:00,  3.10it/s]\n",
            "Validating Epoch 4: 100%|██████████| 11/11 [00:03<00:00,  3.50it/s]\n"
          ]
        },
        {
          "output_type": "stream",
          "name": "stdout",
          "text": [
            "Epoch 4/100: Train Loss: 33.3050, Val Loss: 7.3356, Train Acc: 0.6706, Val Acc: 0.6735, LR: 0.001000000\n",
            "\n",
            "Epoch 5/100\n"
          ]
        },
        {
          "output_type": "stream",
          "name": "stderr",
          "text": [
            "Training Epoch 5: 100%|██████████| 50/50 [00:16<00:00,  3.11it/s]\n",
            "Validating Epoch 5: 100%|██████████| 11/11 [00:04<00:00,  2.63it/s]\n"
          ]
        },
        {
          "output_type": "stream",
          "name": "stdout",
          "text": [
            "Epoch 5/100: Train Loss: 32.6170, Val Loss: 7.3430, Train Acc: 0.6970, Val Acc: 0.7000, LR: 0.001000000\n",
            "\n",
            "Epoch 6/100\n"
          ]
        },
        {
          "output_type": "stream",
          "name": "stderr",
          "text": [
            "Training Epoch 6: 100%|██████████| 50/50 [00:16<00:00,  3.11it/s]\n",
            "Validating Epoch 6: 100%|██████████| 11/11 [00:03<00:00,  3.48it/s]\n"
          ]
        },
        {
          "output_type": "stream",
          "name": "stdout",
          "text": [
            "Epoch 6/100: Train Loss: 32.6798, Val Loss: 7.4355, Train Acc: 0.7084, Val Acc: 0.6382, LR: 0.001000000\n",
            "\n",
            "Epoch 7/100\n"
          ]
        },
        {
          "output_type": "stream",
          "name": "stderr",
          "text": [
            "Training Epoch 7: 100%|██████████| 50/50 [00:16<00:00,  3.08it/s]\n",
            "Validating Epoch 7: 100%|██████████| 11/11 [00:03<00:00,  2.75it/s]\n"
          ]
        },
        {
          "output_type": "stream",
          "name": "stdout",
          "text": [
            "Epoch 7/100: Train Loss: 32.4408, Val Loss: 6.6750, Train Acc: 0.6989, Val Acc: 0.6941, LR: 0.001000000\n",
            "\n",
            "Epoch 8/100\n"
          ]
        },
        {
          "output_type": "stream",
          "name": "stderr",
          "text": [
            "Training Epoch 8: 100%|██████████| 50/50 [00:16<00:00,  3.08it/s]\n",
            "Validating Epoch 8: 100%|██████████| 11/11 [00:03<00:00,  3.49it/s]\n"
          ]
        },
        {
          "output_type": "stream",
          "name": "stdout",
          "text": [
            "Epoch 8/100: Train Loss: 31.1891, Val Loss: 7.0200, Train Acc: 0.7153, Val Acc: 0.7088, LR: 0.001000000\n",
            "\n",
            "Epoch 9/100\n"
          ]
        },
        {
          "output_type": "stream",
          "name": "stderr",
          "text": [
            "Training Epoch 9: 100%|██████████| 50/50 [00:16<00:00,  3.11it/s]\n",
            "Validating Epoch 9: 100%|██████████| 11/11 [00:03<00:00,  2.94it/s]\n"
          ]
        },
        {
          "output_type": "stream",
          "name": "stdout",
          "text": [
            "Epoch 9/100: Train Loss: 32.7179, Val Loss: 7.2121, Train Acc: 0.6845, Val Acc: 0.6706, LR: 0.001000000\n",
            "\n",
            "Epoch 10/100\n"
          ]
        },
        {
          "output_type": "stream",
          "name": "stderr",
          "text": [
            "Training Epoch 10: 100%|██████████| 50/50 [00:16<00:00,  3.02it/s]\n",
            "Validating Epoch 10: 100%|██████████| 11/11 [00:03<00:00,  3.48it/s]\n"
          ]
        },
        {
          "output_type": "stream",
          "name": "stdout",
          "text": [
            "Epoch 10/100: Train Loss: 32.2857, Val Loss: 7.0770, Train Acc: 0.6914, Val Acc: 0.6941, LR: 0.001000000\n",
            "\n",
            "Epoch 11/100\n"
          ]
        },
        {
          "output_type": "stream",
          "name": "stderr",
          "text": [
            "Training Epoch 11: 100%|██████████| 50/50 [00:15<00:00,  3.14it/s]\n",
            "Validating Epoch 11: 100%|██████████| 11/11 [00:03<00:00,  3.08it/s]\n"
          ]
        },
        {
          "output_type": "stream",
          "name": "stdout",
          "text": [
            "Epoch 11/100: Train Loss: 30.3683, Val Loss: 6.9265, Train Acc: 0.7146, Val Acc: 0.7324, LR: 0.001000000\n",
            "\n",
            "Epoch 12/100\n"
          ]
        },
        {
          "output_type": "stream",
          "name": "stderr",
          "text": [
            "Training Epoch 12: 100%|██████████| 50/50 [00:16<00:00,  2.99it/s]\n",
            "Validating Epoch 12: 100%|██████████| 11/11 [00:03<00:00,  3.47it/s]\n"
          ]
        },
        {
          "output_type": "stream",
          "name": "stdout",
          "text": [
            "Epoch 12/100: Train Loss: 32.4892, Val Loss: 6.9679, Train Acc: 0.6901, Val Acc: 0.7000, LR: 0.001000000\n",
            "\n",
            "Epoch 13/100\n"
          ]
        },
        {
          "output_type": "stream",
          "name": "stderr",
          "text": [
            "Training Epoch 13: 100%|██████████| 50/50 [00:16<00:00,  3.11it/s]\n",
            "Validating Epoch 13: 100%|██████████| 11/11 [00:03<00:00,  3.24it/s]\n"
          ]
        },
        {
          "output_type": "stream",
          "name": "stdout",
          "text": [
            "Epoch 13/100: Train Loss: 32.6654, Val Loss: 7.2597, Train Acc: 0.6794, Val Acc: 0.6735, LR: 0.000100000\n",
            "\n",
            "Epoch 14/100\n"
          ]
        },
        {
          "output_type": "stream",
          "name": "stderr",
          "text": [
            "Training Epoch 14: 100%|██████████| 50/50 [00:16<00:00,  2.97it/s]\n",
            "Validating Epoch 14: 100%|██████████| 11/11 [00:03<00:00,  3.47it/s]\n"
          ]
        },
        {
          "output_type": "stream",
          "name": "stdout",
          "text": [
            "Epoch 14/100: Train Loss: 31.1344, Val Loss: 6.7661, Train Acc: 0.6964, Val Acc: 0.7206, LR: 0.000100000\n",
            "\n",
            "Epoch 15/100\n"
          ]
        },
        {
          "output_type": "stream",
          "name": "stderr",
          "text": [
            "Training Epoch 15: 100%|██████████| 50/50 [00:16<00:00,  3.09it/s]\n",
            "Validating Epoch 15: 100%|██████████| 11/11 [00:03<00:00,  3.49it/s]\n"
          ]
        },
        {
          "output_type": "stream",
          "name": "stdout",
          "text": [
            "Epoch 15/100: Train Loss: 31.8110, Val Loss: 6.8160, Train Acc: 0.6864, Val Acc: 0.6941, LR: 0.000100000\n",
            "\n",
            "Epoch 16/100\n"
          ]
        },
        {
          "output_type": "stream",
          "name": "stderr",
          "text": [
            "Training Epoch 16: 100%|██████████| 50/50 [00:17<00:00,  2.90it/s]\n",
            "Validating Epoch 16: 100%|██████████| 11/11 [00:03<00:00,  3.46it/s]\n"
          ]
        },
        {
          "output_type": "stream",
          "name": "stdout",
          "text": [
            "Epoch 16/100: Train Loss: 31.6711, Val Loss: 6.8545, Train Acc: 0.6964, Val Acc: 0.7324, LR: 0.000100000\n",
            "\n",
            "Epoch 17/100\n"
          ]
        },
        {
          "output_type": "stream",
          "name": "stderr",
          "text": [
            "Training Epoch 17: 100%|██████████| 50/50 [00:15<00:00,  3.13it/s]\n",
            "Validating Epoch 17: 100%|██████████| 11/11 [00:03<00:00,  3.47it/s]\n"
          ]
        },
        {
          "output_type": "stream",
          "name": "stdout",
          "text": [
            "Epoch 17/100: Train Loss: 30.4043, Val Loss: 6.5376, Train Acc: 0.7165, Val Acc: 0.7353, LR: 0.000100000\n",
            "\n",
            "Epoch 18/100\n"
          ]
        },
        {
          "output_type": "stream",
          "name": "stderr",
          "text": [
            "Training Epoch 18: 100%|██████████| 50/50 [00:17<00:00,  2.92it/s]\n",
            "Validating Epoch 18: 100%|██████████| 11/11 [00:03<00:00,  3.41it/s]\n"
          ]
        },
        {
          "output_type": "stream",
          "name": "stdout",
          "text": [
            "Epoch 18/100: Train Loss: 30.5748, Val Loss: 6.4876, Train Acc: 0.7190, Val Acc: 0.7118, LR: 0.000100000\n",
            "\n",
            "Epoch 19/100\n"
          ]
        },
        {
          "output_type": "stream",
          "name": "stderr",
          "text": [
            "Training Epoch 19: 100%|██████████| 50/50 [00:16<00:00,  3.09it/s]\n",
            "Validating Epoch 19: 100%|██████████| 11/11 [00:03<00:00,  3.52it/s]\n"
          ]
        },
        {
          "output_type": "stream",
          "name": "stdout",
          "text": [
            "Epoch 19/100: Train Loss: 31.0736, Val Loss: 6.6181, Train Acc: 0.7115, Val Acc: 0.7235, LR: 0.000100000\n",
            "\n",
            "Epoch 20/100\n"
          ]
        },
        {
          "output_type": "stream",
          "name": "stderr",
          "text": [
            "Training Epoch 20: 100%|██████████| 50/50 [00:16<00:00,  2.97it/s]\n",
            "Validating Epoch 20: 100%|██████████| 11/11 [00:03<00:00,  3.31it/s]\n"
          ]
        },
        {
          "output_type": "stream",
          "name": "stdout",
          "text": [
            "Epoch 20/100: Train Loss: 30.7046, Val Loss: 6.7625, Train Acc: 0.7190, Val Acc: 0.7206, LR: 0.000100000\n",
            "\n",
            "Epoch 21/100\n"
          ]
        },
        {
          "output_type": "stream",
          "name": "stderr",
          "text": [
            "Training Epoch 21: 100%|██████████| 50/50 [00:16<00:00,  3.10it/s]\n",
            "Validating Epoch 21: 100%|██████████| 11/11 [00:03<00:00,  3.50it/s]\n"
          ]
        },
        {
          "output_type": "stream",
          "name": "stdout",
          "text": [
            "Epoch 21/100: Train Loss: 30.5215, Val Loss: 6.8766, Train Acc: 0.7178, Val Acc: 0.7000, LR: 0.000100000\n",
            "\n",
            "Epoch 22/100\n"
          ]
        },
        {
          "output_type": "stream",
          "name": "stderr",
          "text": [
            "Training Epoch 22: 100%|██████████| 50/50 [00:16<00:00,  2.98it/s]\n",
            "Validating Epoch 22: 100%|██████████| 11/11 [00:03<00:00,  3.10it/s]\n"
          ]
        },
        {
          "output_type": "stream",
          "name": "stdout",
          "text": [
            "Epoch 22/100: Train Loss: 30.5520, Val Loss: 6.7927, Train Acc: 0.7197, Val Acc: 0.7353, LR: 0.000100000\n",
            "\n",
            "Epoch 23/100\n"
          ]
        },
        {
          "output_type": "stream",
          "name": "stderr",
          "text": [
            "Training Epoch 23: 100%|██████████| 50/50 [00:16<00:00,  3.07it/s]\n",
            "Validating Epoch 23: 100%|██████████| 11/11 [00:03<00:00,  3.44it/s]\n"
          ]
        },
        {
          "output_type": "stream",
          "name": "stdout",
          "text": [
            "Epoch 23/100: Train Loss: 30.7081, Val Loss: 6.6459, Train Acc: 0.7040, Val Acc: 0.7294, LR: 0.000100000\n",
            "\n",
            "Epoch 24/100\n"
          ]
        },
        {
          "output_type": "stream",
          "name": "stderr",
          "text": [
            "Training Epoch 24: 100%|██████████| 50/50 [00:16<00:00,  2.98it/s]\n",
            "Validating Epoch 24: 100%|██████████| 11/11 [00:03<00:00,  3.01it/s]\n"
          ]
        },
        {
          "output_type": "stream",
          "name": "stdout",
          "text": [
            "Epoch 24/100: Train Loss: 30.8166, Val Loss: 6.7319, Train Acc: 0.7140, Val Acc: 0.7235, LR: 0.000010000\n",
            "\n",
            "Epoch 25/100\n"
          ]
        },
        {
          "output_type": "stream",
          "name": "stderr",
          "text": [
            "Training Epoch 25: 100%|██████████| 50/50 [00:16<00:00,  3.06it/s]\n",
            "Validating Epoch 25: 100%|██████████| 11/11 [00:03<00:00,  3.45it/s]\n"
          ]
        },
        {
          "output_type": "stream",
          "name": "stdout",
          "text": [
            "Epoch 25/100: Train Loss: 30.3826, Val Loss: 6.5510, Train Acc: 0.7304, Val Acc: 0.7382, LR: 0.000010000\n",
            "\n",
            "Epoch 26/100\n"
          ]
        },
        {
          "output_type": "stream",
          "name": "stderr",
          "text": [
            "Training Epoch 26: 100%|██████████| 50/50 [00:16<00:00,  2.95it/s]\n",
            "Validating Epoch 26: 100%|██████████| 11/11 [00:03<00:00,  3.06it/s]\n"
          ]
        },
        {
          "output_type": "stream",
          "name": "stdout",
          "text": [
            "Epoch 26/100: Train Loss: 30.9730, Val Loss: 7.0483, Train Acc: 0.7033, Val Acc: 0.7118, LR: 0.000010000\n",
            "\n",
            "Epoch 27/100\n"
          ]
        },
        {
          "output_type": "stream",
          "name": "stderr",
          "text": [
            "Training Epoch 27: 100%|██████████| 50/50 [00:16<00:00,  3.09it/s]\n",
            "Validating Epoch 27: 100%|██████████| 11/11 [00:03<00:00,  3.49it/s]\n"
          ]
        },
        {
          "output_type": "stream",
          "name": "stdout",
          "text": [
            "Epoch 27/100: Train Loss: 31.2805, Val Loss: 6.9324, Train Acc: 0.6983, Val Acc: 0.7059, LR: 0.000010000\n",
            "\n",
            "Epoch 28/100\n"
          ]
        },
        {
          "output_type": "stream",
          "name": "stderr",
          "text": [
            "Training Epoch 28: 100%|██████████| 50/50 [00:16<00:00,  2.98it/s]\n",
            "Validating Epoch 28: 100%|██████████| 11/11 [00:03<00:00,  2.97it/s]\n"
          ]
        },
        {
          "output_type": "stream",
          "name": "stdout",
          "text": [
            "Epoch 28/100: Train Loss: 31.1924, Val Loss: 6.8536, Train Acc: 0.7021, Val Acc: 0.6971, LR: 0.000010000\n",
            "\n",
            "Epoch 29/100\n"
          ]
        },
        {
          "output_type": "stream",
          "name": "stderr",
          "text": [
            "Training Epoch 29: 100%|██████████| 50/50 [00:16<00:00,  3.09it/s]\n",
            "Validating Epoch 29: 100%|██████████| 11/11 [00:03<00:00,  3.46it/s]\n"
          ]
        },
        {
          "output_type": "stream",
          "name": "stdout",
          "text": [
            "Epoch 29/100: Train Loss: 31.5974, Val Loss: 6.8607, Train Acc: 0.7021, Val Acc: 0.7029, LR: 0.000010000\n",
            "\n",
            "Epoch 30/100\n"
          ]
        },
        {
          "output_type": "stream",
          "name": "stderr",
          "text": [
            "Training Epoch 30: 100%|██████████| 50/50 [00:16<00:00,  3.00it/s]\n",
            "Validating Epoch 30: 100%|██████████| 11/11 [00:03<00:00,  2.89it/s]\n"
          ]
        },
        {
          "output_type": "stream",
          "name": "stdout",
          "text": [
            "Epoch 30/100: Train Loss: 30.3193, Val Loss: 6.7648, Train Acc: 0.7165, Val Acc: 0.7294, LR: 0.000001000\n",
            "\n",
            "Epoch 31/100\n"
          ]
        },
        {
          "output_type": "stream",
          "name": "stderr",
          "text": [
            "Training Epoch 31: 100%|██████████| 50/50 [00:16<00:00,  3.09it/s]\n",
            "Validating Epoch 31: 100%|██████████| 11/11 [00:03<00:00,  3.42it/s]\n"
          ]
        },
        {
          "output_type": "stream",
          "name": "stdout",
          "text": [
            "Epoch 31/100: Train Loss: 29.2452, Val Loss: 6.9023, Train Acc: 0.7322, Val Acc: 0.7206, LR: 0.000001000\n",
            "\n",
            "Epoch 32/100\n"
          ]
        },
        {
          "output_type": "stream",
          "name": "stderr",
          "text": [
            "Training Epoch 32: 100%|██████████| 50/50 [00:16<00:00,  3.01it/s]\n",
            "Validating Epoch 32: 100%|██████████| 11/11 [00:03<00:00,  2.78it/s]\n"
          ]
        },
        {
          "output_type": "stream",
          "name": "stdout",
          "text": [
            "Epoch 32/100: Train Loss: 31.8863, Val Loss: 6.5825, Train Acc: 0.6744, Val Acc: 0.7118, LR: 0.000001000\n",
            "\n",
            "Epoch 33/100\n"
          ]
        },
        {
          "output_type": "stream",
          "name": "stderr",
          "text": [
            "Training Epoch 33: 100%|██████████| 50/50 [00:16<00:00,  3.09it/s]\n",
            "Validating Epoch 33: 100%|██████████| 11/11 [00:03<00:00,  3.46it/s]\n"
          ]
        },
        {
          "output_type": "stream",
          "name": "stdout",
          "text": [
            "Epoch 33/100: Train Loss: 30.9200, Val Loss: 6.9674, Train Acc: 0.7033, Val Acc: 0.7088, LR: 0.000001000\n",
            "⏹️ Early stopping etkin. Doğrulama kaybı iyileşmedi.\n",
            "\n",
            "✅ SINEM_EFFICIENTNET_B0 eğitimi tamamlandı. En iyi model: Egitilen_Modeller/combined_dataset/SINEM_EFFICIENTNET_B0/Best_SINEM_EFFICIENTNET_B0-combined_dataset.pth\n",
            "\n",
            "==============================\n",
            "🔧 Eğitim Başladı: MOBILENET_V2\n",
            "==============================\n",
            "\n",
            "Epoch 1/100\n"
          ]
        },
        {
          "output_type": "stream",
          "name": "stderr",
          "text": [
            "Training Epoch 1: 100%|██████████| 50/50 [00:15<00:00,  3.17it/s]\n",
            "Validating Epoch 1: 100%|██████████| 11/11 [00:04<00:00,  2.65it/s]\n"
          ]
        },
        {
          "output_type": "stream",
          "name": "stdout",
          "text": [
            "Epoch 1/100: Train Loss: 38.8195, Val Loss: 8.0804, Train Acc: 0.5889, Val Acc: 0.6294, LR: 0.001000000\n",
            "\n",
            "Epoch 2/100\n"
          ]
        },
        {
          "output_type": "stream",
          "name": "stderr",
          "text": [
            "Training Epoch 2: 100%|██████████| 50/50 [00:15<00:00,  3.20it/s]\n",
            "Validating Epoch 2: 100%|██████████| 11/11 [00:03<00:00,  3.60it/s]\n"
          ]
        },
        {
          "output_type": "stream",
          "name": "stdout",
          "text": [
            "Epoch 2/100: Train Loss: 35.1326, Val Loss: 7.5198, Train Acc: 0.6593, Val Acc: 0.6941, LR: 0.001000000\n",
            "\n",
            "Epoch 3/100\n"
          ]
        },
        {
          "output_type": "stream",
          "name": "stderr",
          "text": [
            "Training Epoch 3: 100%|██████████| 50/50 [00:15<00:00,  3.16it/s]\n",
            "Validating Epoch 3: 100%|██████████| 11/11 [00:04<00:00,  2.71it/s]\n"
          ]
        },
        {
          "output_type": "stream",
          "name": "stdout",
          "text": [
            "Epoch 3/100: Train Loss: 33.4481, Val Loss: 7.2403, Train Acc: 0.6945, Val Acc: 0.6882, LR: 0.001000000\n",
            "\n",
            "Epoch 4/100\n"
          ]
        },
        {
          "output_type": "stream",
          "name": "stderr",
          "text": [
            "Training Epoch 4: 100%|██████████| 50/50 [00:15<00:00,  3.15it/s]\n",
            "Validating Epoch 4: 100%|██████████| 11/11 [00:03<00:00,  3.56it/s]\n"
          ]
        },
        {
          "output_type": "stream",
          "name": "stdout",
          "text": [
            "Epoch 4/100: Train Loss: 33.2367, Val Loss: 7.8783, Train Acc: 0.6807, Val Acc: 0.6235, LR: 0.001000000\n",
            "\n",
            "Epoch 5/100\n"
          ]
        },
        {
          "output_type": "stream",
          "name": "stderr",
          "text": [
            "Training Epoch 5: 100%|██████████| 50/50 [00:15<00:00,  3.17it/s]\n",
            "Validating Epoch 5: 100%|██████████| 11/11 [00:03<00:00,  3.34it/s]\n"
          ]
        },
        {
          "output_type": "stream",
          "name": "stdout",
          "text": [
            "Epoch 5/100: Train Loss: 33.4954, Val Loss: 7.3165, Train Acc: 0.6738, Val Acc: 0.6706, LR: 0.001000000\n",
            "\n",
            "Epoch 6/100\n"
          ]
        },
        {
          "output_type": "stream",
          "name": "stderr",
          "text": [
            "Training Epoch 6: 100%|██████████| 50/50 [00:16<00:00,  3.03it/s]\n",
            "Validating Epoch 6: 100%|██████████| 11/11 [00:03<00:00,  3.53it/s]\n"
          ]
        },
        {
          "output_type": "stream",
          "name": "stdout",
          "text": [
            "Epoch 6/100: Train Loss: 33.1071, Val Loss: 7.8211, Train Acc: 0.6820, Val Acc: 0.6324, LR: 0.001000000\n",
            "\n",
            "Epoch 7/100\n"
          ]
        },
        {
          "output_type": "stream",
          "name": "stderr",
          "text": [
            "Training Epoch 7: 100%|██████████| 50/50 [00:15<00:00,  3.20it/s]\n",
            "Validating Epoch 7: 100%|██████████| 11/11 [00:03<00:00,  3.58it/s]\n"
          ]
        },
        {
          "output_type": "stream",
          "name": "stdout",
          "text": [
            "Epoch 7/100: Train Loss: 34.1443, Val Loss: 6.9575, Train Acc: 0.6524, Val Acc: 0.6765, LR: 0.001000000\n",
            "\n",
            "Epoch 8/100\n"
          ]
        },
        {
          "output_type": "stream",
          "name": "stderr",
          "text": [
            "Training Epoch 8: 100%|██████████| 50/50 [00:16<00:00,  3.05it/s]\n",
            "Validating Epoch 8: 100%|██████████| 11/11 [00:03<00:00,  3.11it/s]\n"
          ]
        },
        {
          "output_type": "stream",
          "name": "stdout",
          "text": [
            "Epoch 8/100: Train Loss: 31.1958, Val Loss: 6.6779, Train Acc: 0.7058, Val Acc: 0.7559, LR: 0.001000000\n",
            "\n",
            "Epoch 9/100\n"
          ]
        },
        {
          "output_type": "stream",
          "name": "stderr",
          "text": [
            "Training Epoch 9: 100%|██████████| 50/50 [00:15<00:00,  3.19it/s]\n",
            "Validating Epoch 9: 100%|██████████| 11/11 [00:03<00:00,  3.57it/s]\n"
          ]
        },
        {
          "output_type": "stream",
          "name": "stdout",
          "text": [
            "Epoch 9/100: Train Loss: 32.6160, Val Loss: 7.4532, Train Acc: 0.6782, Val Acc: 0.6735, LR: 0.001000000\n",
            "\n",
            "Epoch 10/100\n"
          ]
        },
        {
          "output_type": "stream",
          "name": "stderr",
          "text": [
            "Training Epoch 10: 100%|██████████| 50/50 [00:15<00:00,  3.18it/s]\n",
            "Validating Epoch 10: 100%|██████████| 11/11 [00:04<00:00,  2.62it/s]\n"
          ]
        },
        {
          "output_type": "stream",
          "name": "stdout",
          "text": [
            "Epoch 10/100: Train Loss: 31.5305, Val Loss: 7.0917, Train Acc: 0.7090, Val Acc: 0.6912, LR: 0.001000000\n",
            "\n",
            "Epoch 11/100\n"
          ]
        },
        {
          "output_type": "stream",
          "name": "stderr",
          "text": [
            "Training Epoch 11: 100%|██████████| 50/50 [00:15<00:00,  3.18it/s]\n",
            "Validating Epoch 11: 100%|██████████| 11/11 [00:03<00:00,  3.61it/s]\n"
          ]
        },
        {
          "output_type": "stream",
          "name": "stdout",
          "text": [
            "Epoch 11/100: Train Loss: 31.7392, Val Loss: 6.8972, Train Acc: 0.6926, Val Acc: 0.7324, LR: 0.001000000\n",
            "\n",
            "Epoch 12/100\n"
          ]
        },
        {
          "output_type": "stream",
          "name": "stderr",
          "text": [
            "Training Epoch 12: 100%|██████████| 50/50 [00:15<00:00,  3.19it/s]\n",
            "Validating Epoch 12: 100%|██████████| 11/11 [00:03<00:00,  2.90it/s]\n"
          ]
        },
        {
          "output_type": "stream",
          "name": "stdout",
          "text": [
            "Epoch 12/100: Train Loss: 31.9753, Val Loss: 7.1483, Train Acc: 0.7002, Val Acc: 0.7000, LR: 0.001000000\n",
            "\n",
            "Epoch 13/100\n"
          ]
        },
        {
          "output_type": "stream",
          "name": "stderr",
          "text": [
            "Training Epoch 13: 100%|██████████| 50/50 [00:15<00:00,  3.16it/s]\n",
            "Validating Epoch 13: 100%|██████████| 11/11 [00:03<00:00,  3.57it/s]\n"
          ]
        },
        {
          "output_type": "stream",
          "name": "stdout",
          "text": [
            "Epoch 13/100: Train Loss: 32.6064, Val Loss: 6.8423, Train Acc: 0.6864, Val Acc: 0.7206, LR: 0.001000000\n",
            "\n",
            "Epoch 14/100\n"
          ]
        },
        {
          "output_type": "stream",
          "name": "stderr",
          "text": [
            "Training Epoch 14: 100%|██████████| 50/50 [00:15<00:00,  3.21it/s]\n",
            "Validating Epoch 14: 100%|██████████| 11/11 [00:03<00:00,  3.63it/s]\n"
          ]
        },
        {
          "output_type": "stream",
          "name": "stdout",
          "text": [
            "Epoch 14/100: Train Loss: 30.3864, Val Loss: 6.6284, Train Acc: 0.7128, Val Acc: 0.7118, LR: 0.001000000\n",
            "\n",
            "Epoch 15/100\n"
          ]
        },
        {
          "output_type": "stream",
          "name": "stderr",
          "text": [
            "Training Epoch 15: 100%|██████████| 50/50 [00:16<00:00,  3.02it/s]\n",
            "Validating Epoch 15: 100%|██████████| 11/11 [00:03<00:00,  3.47it/s]\n"
          ]
        },
        {
          "output_type": "stream",
          "name": "stdout",
          "text": [
            "Epoch 15/100: Train Loss: 31.7810, Val Loss: 7.3784, Train Acc: 0.6920, Val Acc: 0.6735, LR: 0.001000000\n",
            "\n",
            "Epoch 16/100\n"
          ]
        },
        {
          "output_type": "stream",
          "name": "stderr",
          "text": [
            "Training Epoch 16: 100%|██████████| 50/50 [00:15<00:00,  3.19it/s]\n",
            "Validating Epoch 16: 100%|██████████| 11/11 [00:03<00:00,  3.58it/s]\n"
          ]
        },
        {
          "output_type": "stream",
          "name": "stdout",
          "text": [
            "Epoch 16/100: Train Loss: 31.1361, Val Loss: 6.9738, Train Acc: 0.7128, Val Acc: 0.6941, LR: 0.001000000\n",
            "\n",
            "Epoch 17/100\n"
          ]
        },
        {
          "output_type": "stream",
          "name": "stderr",
          "text": [
            "Training Epoch 17: 100%|██████████| 50/50 [00:15<00:00,  3.15it/s]\n",
            "Validating Epoch 17: 100%|██████████| 11/11 [00:03<00:00,  2.84it/s]\n"
          ]
        },
        {
          "output_type": "stream",
          "name": "stdout",
          "text": [
            "Epoch 17/100: Train Loss: 32.0221, Val Loss: 8.0892, Train Acc: 0.6914, Val Acc: 0.6588, LR: 0.001000000\n",
            "\n",
            "Epoch 18/100\n"
          ]
        },
        {
          "output_type": "stream",
          "name": "stderr",
          "text": [
            "Training Epoch 18: 100%|██████████| 50/50 [00:15<00:00,  3.20it/s]\n",
            "Validating Epoch 18: 100%|██████████| 11/11 [00:03<00:00,  3.62it/s]\n"
          ]
        },
        {
          "output_type": "stream",
          "name": "stdout",
          "text": [
            "Epoch 18/100: Train Loss: 32.4833, Val Loss: 6.9953, Train Acc: 0.6807, Val Acc: 0.7088, LR: 0.001000000\n",
            "\n",
            "Epoch 19/100\n"
          ]
        },
        {
          "output_type": "stream",
          "name": "stderr",
          "text": [
            "Training Epoch 19: 100%|██████████| 50/50 [00:15<00:00,  3.23it/s]\n",
            "Validating Epoch 19: 100%|██████████| 11/11 [00:03<00:00,  2.79it/s]\n"
          ]
        },
        {
          "output_type": "stream",
          "name": "stdout",
          "text": [
            "Epoch 19/100: Train Loss: 30.9145, Val Loss: 6.8267, Train Acc: 0.7021, Val Acc: 0.6912, LR: 0.001000000\n",
            "\n",
            "Epoch 20/100\n"
          ]
        },
        {
          "output_type": "stream",
          "name": "stderr",
          "text": [
            "Training Epoch 20: 100%|██████████| 50/50 [00:15<00:00,  3.19it/s]\n",
            "Validating Epoch 20: 100%|██████████| 11/11 [00:03<00:00,  3.60it/s]\n"
          ]
        },
        {
          "output_type": "stream",
          "name": "stdout",
          "text": [
            "Epoch 20/100: Train Loss: 30.9939, Val Loss: 6.3302, Train Acc: 0.7040, Val Acc: 0.7412, LR: 0.001000000\n",
            "\n",
            "Epoch 21/100\n"
          ]
        },
        {
          "output_type": "stream",
          "name": "stderr",
          "text": [
            "Training Epoch 21: 100%|██████████| 50/50 [00:15<00:00,  3.22it/s]\n",
            "Validating Epoch 21: 100%|██████████| 11/11 [00:03<00:00,  3.51it/s]\n"
          ]
        },
        {
          "output_type": "stream",
          "name": "stdout",
          "text": [
            "Epoch 21/100: Train Loss: 31.2191, Val Loss: 7.1169, Train Acc: 0.7153, Val Acc: 0.6941, LR: 0.001000000\n",
            "\n",
            "Epoch 22/100\n"
          ]
        },
        {
          "output_type": "stream",
          "name": "stderr",
          "text": [
            "Training Epoch 22: 100%|██████████| 50/50 [00:16<00:00,  2.98it/s]\n",
            "Validating Epoch 22: 100%|██████████| 11/11 [00:03<00:00,  3.62it/s]\n"
          ]
        },
        {
          "output_type": "stream",
          "name": "stdout",
          "text": [
            "Epoch 22/100: Train Loss: 32.6022, Val Loss: 6.9484, Train Acc: 0.6945, Val Acc: 0.6971, LR: 0.001000000\n",
            "\n",
            "Epoch 23/100\n"
          ]
        },
        {
          "output_type": "stream",
          "name": "stderr",
          "text": [
            "Training Epoch 23: 100%|██████████| 50/50 [00:15<00:00,  3.18it/s]\n",
            "Validating Epoch 23: 100%|██████████| 11/11 [00:03<00:00,  3.62it/s]\n"
          ]
        },
        {
          "output_type": "stream",
          "name": "stdout",
          "text": [
            "Epoch 23/100: Train Loss: 30.6476, Val Loss: 6.6316, Train Acc: 0.7197, Val Acc: 0.7000, LR: 0.001000000\n",
            "\n",
            "Epoch 24/100\n"
          ]
        },
        {
          "output_type": "stream",
          "name": "stderr",
          "text": [
            "Training Epoch 24: 100%|██████████| 50/50 [00:16<00:00,  3.12it/s]\n",
            "Validating Epoch 24: 100%|██████████| 11/11 [00:03<00:00,  2.94it/s]\n"
          ]
        },
        {
          "output_type": "stream",
          "name": "stdout",
          "text": [
            "Epoch 24/100: Train Loss: 31.7275, Val Loss: 6.9662, Train Acc: 0.7084, Val Acc: 0.7088, LR: 0.001000000\n",
            "\n",
            "Epoch 25/100\n"
          ]
        },
        {
          "output_type": "stream",
          "name": "stderr",
          "text": [
            "Training Epoch 25: 100%|██████████| 50/50 [00:15<00:00,  3.20it/s]\n",
            "Validating Epoch 25: 100%|██████████| 11/11 [00:03<00:00,  3.64it/s]\n"
          ]
        },
        {
          "output_type": "stream",
          "name": "stdout",
          "text": [
            "Epoch 25/100: Train Loss: 30.0610, Val Loss: 6.4573, Train Acc: 0.7285, Val Acc: 0.7000, LR: 0.001000000\n",
            "\n",
            "Epoch 26/100\n"
          ]
        },
        {
          "output_type": "stream",
          "name": "stderr",
          "text": [
            "Training Epoch 26: 100%|██████████| 50/50 [00:15<00:00,  3.19it/s]\n",
            "Validating Epoch 26: 100%|██████████| 11/11 [00:04<00:00,  2.61it/s]\n"
          ]
        },
        {
          "output_type": "stream",
          "name": "stdout",
          "text": [
            "Epoch 26/100: Train Loss: 29.7832, Val Loss: 7.0837, Train Acc: 0.7310, Val Acc: 0.7000, LR: 0.000100000\n",
            "\n",
            "Epoch 27/100\n"
          ]
        },
        {
          "output_type": "stream",
          "name": "stderr",
          "text": [
            "Training Epoch 27: 100%|██████████| 50/50 [00:15<00:00,  3.19it/s]\n",
            "Validating Epoch 27: 100%|██████████| 11/11 [00:03<00:00,  3.57it/s]\n"
          ]
        },
        {
          "output_type": "stream",
          "name": "stdout",
          "text": [
            "Epoch 27/100: Train Loss: 30.4557, Val Loss: 6.5797, Train Acc: 0.7134, Val Acc: 0.7147, LR: 0.000100000\n",
            "\n",
            "Epoch 28/100\n"
          ]
        },
        {
          "output_type": "stream",
          "name": "stderr",
          "text": [
            "Training Epoch 28: 100%|██████████| 50/50 [00:15<00:00,  3.18it/s]\n",
            "Validating Epoch 28: 100%|██████████| 11/11 [00:03<00:00,  3.15it/s]\n"
          ]
        },
        {
          "output_type": "stream",
          "name": "stdout",
          "text": [
            "Epoch 28/100: Train Loss: 30.3190, Val Loss: 6.8420, Train Acc: 0.7247, Val Acc: 0.7147, LR: 0.000100000\n",
            "\n",
            "Epoch 29/100\n"
          ]
        },
        {
          "output_type": "stream",
          "name": "stderr",
          "text": [
            "Training Epoch 29: 100%|██████████| 50/50 [00:16<00:00,  3.09it/s]\n",
            "Validating Epoch 29: 100%|██████████| 11/11 [00:03<00:00,  3.65it/s]\n"
          ]
        },
        {
          "output_type": "stream",
          "name": "stdout",
          "text": [
            "Epoch 29/100: Train Loss: 30.5888, Val Loss: 6.6077, Train Acc: 0.7109, Val Acc: 0.7294, LR: 0.000100000\n",
            "\n",
            "Epoch 30/100\n"
          ]
        },
        {
          "output_type": "stream",
          "name": "stderr",
          "text": [
            "Training Epoch 30: 100%|██████████| 50/50 [00:15<00:00,  3.22it/s]\n",
            "Validating Epoch 30: 100%|██████████| 11/11 [00:03<00:00,  3.66it/s]\n"
          ]
        },
        {
          "output_type": "stream",
          "name": "stdout",
          "text": [
            "Epoch 30/100: Train Loss: 30.2236, Val Loss: 6.8610, Train Acc: 0.7084, Val Acc: 0.7118, LR: 0.000100000\n",
            "\n",
            "Epoch 31/100\n"
          ]
        },
        {
          "output_type": "stream",
          "name": "stderr",
          "text": [
            "Training Epoch 31: 100%|██████████| 50/50 [00:16<00:00,  3.03it/s]\n",
            "Validating Epoch 31: 100%|██████████| 11/11 [00:03<00:00,  3.33it/s]\n"
          ]
        },
        {
          "output_type": "stream",
          "name": "stdout",
          "text": [
            "Epoch 31/100: Train Loss: 30.1747, Val Loss: 6.6738, Train Acc: 0.7040, Val Acc: 0.7382, LR: 0.000100000\n",
            "\n",
            "Epoch 32/100\n"
          ]
        },
        {
          "output_type": "stream",
          "name": "stderr",
          "text": [
            "Training Epoch 32: 100%|██████████| 50/50 [00:15<00:00,  3.21it/s]\n",
            "Validating Epoch 32: 100%|██████████| 11/11 [00:03<00:00,  3.60it/s]\n"
          ]
        },
        {
          "output_type": "stream",
          "name": "stdout",
          "text": [
            "Epoch 32/100: Train Loss: 29.7289, Val Loss: 6.6857, Train Acc: 0.7140, Val Acc: 0.7265, LR: 0.000010000\n",
            "\n",
            "Epoch 33/100\n"
          ]
        },
        {
          "output_type": "stream",
          "name": "stderr",
          "text": [
            "Training Epoch 33: 100%|██████████| 50/50 [00:15<00:00,  3.21it/s]\n",
            "Validating Epoch 33: 100%|██████████| 11/11 [00:04<00:00,  2.68it/s]\n"
          ]
        },
        {
          "output_type": "stream",
          "name": "stdout",
          "text": [
            "Epoch 33/100: Train Loss: 30.2378, Val Loss: 6.8523, Train Acc: 0.7234, Val Acc: 0.6824, LR: 0.000010000\n",
            "\n",
            "Epoch 34/100\n"
          ]
        },
        {
          "output_type": "stream",
          "name": "stderr",
          "text": [
            "Training Epoch 34: 100%|██████████| 50/50 [00:15<00:00,  3.18it/s]\n",
            "Validating Epoch 34: 100%|██████████| 11/11 [00:03<00:00,  3.63it/s]\n"
          ]
        },
        {
          "output_type": "stream",
          "name": "stdout",
          "text": [
            "Epoch 34/100: Train Loss: 30.2271, Val Loss: 6.6506, Train Acc: 0.7178, Val Acc: 0.7353, LR: 0.000010000\n",
            "\n",
            "Epoch 35/100\n"
          ]
        },
        {
          "output_type": "stream",
          "name": "stderr",
          "text": [
            "Training Epoch 35: 100%|██████████| 50/50 [00:15<00:00,  3.19it/s]\n",
            "Validating Epoch 35: 100%|██████████| 11/11 [00:03<00:00,  2.86it/s]"
          ]
        },
        {
          "output_type": "stream",
          "name": "stdout",
          "text": [
            "Epoch 35/100: Train Loss: 28.4894, Val Loss: 7.0573, Train Acc: 0.7517, Val Acc: 0.7206, LR: 0.000010000\n",
            "⏹️ Early stopping etkin. Doğrulama kaybı iyileşmedi.\n",
            "\n",
            "✅ SINEM_MOBILENET_V2 eğitimi tamamlandı. En iyi model: Egitilen_Modeller/combined_dataset/SINEM_MOBILENET_V2/Best_SINEM_MOBILENET_V2-combined_dataset.pth\n"
          ]
        },
        {
          "output_type": "stream",
          "name": "stderr",
          "text": [
            "\n"
          ]
        }
      ]
    },
    {
      "cell_type": "code",
      "source": [
        "import os\n",
        "import numpy as np\n",
        "import matplotlib.pyplot as plt\n",
        "\n",
        "# Aynı model isimleri ve klasör düzeni varsayılıyor\n",
        "model_names = [\"vgg16\", \"resnet50\", \"densenet121\", \"efficientnet_b0\", \"mobilenet_v2\"]\n",
        "dataset_tag = os.path.basename(dataset_path.strip(\"/\"))  # Örn: combined_dataset\n",
        "\n",
        "for model_name in model_names:\n",
        "    Model_Name = f\"SINEM_{model_name.upper()}\"\n",
        "    result_path = f\"Resut/{dataset_tag}/{Model_Name}\"\n",
        "    log_file = os.path.join(result_path, f\"Transfer-Learning-{Model_Name}_Epoch_LOG.txt\")\n",
        "\n",
        "    if not os.path.exists(log_file):\n",
        "        print(f\"❌ Log dosyası bulunamadı: {log_file}\")\n",
        "        continue\n",
        "\n",
        "    # Log dosyasını oku\n",
        "    epochs, train_losses, val_losses, train_accuracies, val_accuracies = [], [], [], [], []\n",
        "    with open(log_file, \"r\") as file:\n",
        "        next(file)  # başlığı atla\n",
        "        for line in file:\n",
        "            parts = line.strip().split(\"\\t\")\n",
        "            epochs.append(int(parts[0]))\n",
        "            train_losses.append(float(parts[1]))\n",
        "            val_losses.append(float(parts[2]))\n",
        "            train_accuracies.append(float(parts[3]))\n",
        "            val_accuracies.append(float(parts[4]))\n",
        "\n",
        "    # Grafik çizimi\n",
        "    plt.figure(figsize=(20, 6))\n",
        "\n",
        "    # Loss grafiği\n",
        "    plt.subplot(1, 2, 1)\n",
        "    plt.plot(epochs, train_losses, label='Train Loss')\n",
        "    plt.plot(epochs, val_losses, label='Validation Loss')\n",
        "    plt.xlabel('Epochs')\n",
        "    plt.ylabel('Loss')\n",
        "    plt.title(f'Loss over Epochs ({Model_Name})')\n",
        "    plt.legend()\n",
        "\n",
        "    # Accuracy grafiği\n",
        "    plt.subplot(1, 2, 2)\n",
        "    plt.plot(epochs, train_accuracies, label='Train Accuracy')\n",
        "    plt.plot(epochs, val_accuracies, label='Validation Accuracy')\n",
        "    plt.xlabel('Epochs')\n",
        "    plt.ylabel('Accuracy')\n",
        "    plt.title(f'Accuracy over Epochs ({Model_Name})')\n",
        "    plt.legend()\n",
        "\n",
        "    # Kaydet\n",
        "    save_path = os.path.join(result_path, f\"training_metrics_{Model_Name}.png\")\n",
        "    plt.tight_layout()\n",
        "    plt.savefig(save_path)\n",
        "    plt.close()\n",
        "\n",
        "    print(f\"✅ Grafik kaydedildi: {save_path}\")\n"
      ],
      "metadata": {
        "id": "pcyDso9W7LGQ",
        "colab": {
          "base_uri": "https://localhost:8080/"
        },
        "outputId": "3ec59e4a-5b0b-4528-9958-e390fb401fb8"
      },
      "execution_count": 21,
      "outputs": [
        {
          "output_type": "stream",
          "name": "stdout",
          "text": [
            "✅ Grafik kaydedildi: Resut/combined_dataset/SINEM_VGG16/training_metrics_SINEM_VGG16.png\n",
            "✅ Grafik kaydedildi: Resut/combined_dataset/SINEM_RESNET50/training_metrics_SINEM_RESNET50.png\n",
            "✅ Grafik kaydedildi: Resut/combined_dataset/SINEM_DENSENET121/training_metrics_SINEM_DENSENET121.png\n",
            "✅ Grafik kaydedildi: Resut/combined_dataset/SINEM_EFFICIENTNET_B0/training_metrics_SINEM_EFFICIENTNET_B0.png\n",
            "✅ Grafik kaydedildi: Resut/combined_dataset/SINEM_MOBILENET_V2/training_metrics_SINEM_MOBILENET_V2.png\n"
          ]
        }
      ]
    },
    {
      "cell_type": "code",
      "source": [
        "y_true, y_pred = [], []\n",
        "model.eval()\n",
        "with torch.no_grad():\n",
        "    for inputs, targets in test_loader:\n",
        "        inputs, targets = inputs.to(device), targets.to(device)\n",
        "        outputs = model(inputs)\n",
        "        _, preds = torch.max(outputs, 1)\n",
        "        y_true.extend(targets.cpu().numpy())\n",
        "        y_pred.extend(preds.cpu().numpy())"
      ],
      "metadata": {
        "id": "1ZuSCSam7NAC"
      },
      "execution_count": 22,
      "outputs": []
    },
    {
      "cell_type": "code",
      "source": [
        "from sklearn.metrics import confusion_matrix, classification_report\n",
        "import seaborn as sns\n",
        "import matplotlib.pyplot as plt\n",
        "import numpy as np\n",
        "import os\n",
        "\n",
        "model_names = [\"vgg16\", \"resnet50\", \"densenet121\", \"efficientnet_b0\", \"mobilenet_v2\"]\n",
        "dataset_tag = os.path.basename(dataset_path.strip(\"/\"))\n",
        "device = torch.device(\"cuda\" if torch.cuda.is_available() else \"cpu\")\n",
        "num_classes = len(full_dataset.classes)\n",
        "\n",
        "for model_name in model_names:\n",
        "    Model_Name = f\"SINEM_{model_name.upper()}\"\n",
        "    model_save_path = f\"Egitilen_Modeller/{dataset_tag}/{Model_Name}\"\n",
        "    result_path = f\"Resut/{dataset_tag}/{Model_Name}\"\n",
        "    os.makedirs(result_path, exist_ok=True)\n",
        "\n",
        "    # Modeli yükle\n",
        "    model = get_model(model_name, num_classes, device)\n",
        "    best_model_path = os.path.join(model_save_path, f\"Best_{Model_Name}-{dataset_tag}.pth\")\n",
        "    model.load_state_dict(torch.load(best_model_path, map_location=device))\n",
        "    model.eval()\n",
        "\n",
        "    y_true, y_pred = [], []\n",
        "    with torch.no_grad():\n",
        "        for inputs, targets in tqdm(test_loader, desc=f\"Testing {Model_Name}\"):\n",
        "            inputs = inputs.to(device)\n",
        "            outputs = model(inputs)\n",
        "            predictions = torch.argmax(outputs, dim=1).cpu().numpy()\n",
        "            y_pred.extend(predictions)\n",
        "            y_true.extend(targets.numpy())\n",
        "\n",
        "    # Confusion matrix\n",
        "    cm = confusion_matrix(y_true, y_pred)\n",
        "    plt.figure(figsize=(10, 10))\n",
        "    sns.heatmap(cm, annot=True, fmt='d', cmap='Blues',\n",
        "                xticklabels=full_dataset.classes,\n",
        "                yticklabels=full_dataset.classes)\n",
        "    plt.xlabel('Predicted')\n",
        "    plt.ylabel('True')\n",
        "    plt.title(f'Confusion Matrix - {Model_Name}')\n",
        "\n",
        "    save_path = os.path.join(result_path, f\"confusion_matrix_{Model_Name}.png\")\n",
        "    plt.tight_layout()\n",
        "    plt.savefig(save_path)\n",
        "    plt.close()\n",
        "    print(f\"✅ {Model_Name} için confusion matrix kaydedildi: {save_path}\")\n",
        "\n",
        "    # Classification raporu (isteğe bağlı)\n",
        "    report_path = os.path.join(result_path, f\"classification_report_{Model_Name}.txt\")\n",
        "    report = classification_report(y_true, y_pred, target_names=full_dataset.classes)\n",
        "    with open(report_path, \"w\") as f:\n",
        "        f.write(report)\n",
        "    print(f\"📄 {Model_Name} için sınıflandırma raporu kaydedildi: {report_path}\")\n"
      ],
      "metadata": {
        "id": "otADuQpg7NwB",
        "colab": {
          "base_uri": "https://localhost:8080/"
        },
        "outputId": "c477cc23-2bb7-4617-d888-8cd00c8552de"
      },
      "execution_count": 23,
      "outputs": [
        {
          "output_type": "stream",
          "name": "stderr",
          "text": [
            "Testing SINEM_VGG16: 100%|██████████| 11/11 [00:04<00:00,  2.40it/s]\n"
          ]
        },
        {
          "output_type": "stream",
          "name": "stdout",
          "text": [
            "✅ SINEM_VGG16 için confusion matrix kaydedildi: Resut/combined_dataset/SINEM_VGG16/confusion_matrix_SINEM_VGG16.png\n",
            "📄 SINEM_VGG16 için sınıflandırma raporu kaydedildi: Resut/combined_dataset/SINEM_VGG16/classification_report_SINEM_VGG16.txt\n"
          ]
        },
        {
          "output_type": "stream",
          "name": "stderr",
          "text": [
            "/usr/local/lib/python3.11/dist-packages/sklearn/metrics/_classification.py:1565: UndefinedMetricWarning: Precision is ill-defined and being set to 0.0 in labels with no predicted samples. Use `zero_division` parameter to control this behavior.\n",
            "  _warn_prf(average, modifier, f\"{metric.capitalize()} is\", len(result))\n",
            "/usr/local/lib/python3.11/dist-packages/sklearn/metrics/_classification.py:1565: UndefinedMetricWarning: Precision is ill-defined and being set to 0.0 in labels with no predicted samples. Use `zero_division` parameter to control this behavior.\n",
            "  _warn_prf(average, modifier, f\"{metric.capitalize()} is\", len(result))\n",
            "/usr/local/lib/python3.11/dist-packages/sklearn/metrics/_classification.py:1565: UndefinedMetricWarning: Precision is ill-defined and being set to 0.0 in labels with no predicted samples. Use `zero_division` parameter to control this behavior.\n",
            "  _warn_prf(average, modifier, f\"{metric.capitalize()} is\", len(result))\n",
            "/usr/local/lib/python3.11/dist-packages/torchvision/models/_utils.py:208: UserWarning: The parameter 'pretrained' is deprecated since 0.13 and may be removed in the future, please use 'weights' instead.\n",
            "  warnings.warn(\n",
            "/usr/local/lib/python3.11/dist-packages/torchvision/models/_utils.py:223: UserWarning: Arguments other than a weight enum or `None` for 'weights' are deprecated since 0.13 and may be removed in the future. The current behavior is equivalent to passing `weights=ResNet50_Weights.IMAGENET1K_V1`. You can also use `weights=ResNet50_Weights.DEFAULT` to get the most up-to-date weights.\n",
            "  warnings.warn(msg)\n",
            "Testing SINEM_RESNET50: 100%|██████████| 11/11 [00:03<00:00,  2.83it/s]\n",
            "/usr/local/lib/python3.11/dist-packages/sklearn/metrics/_classification.py:1565: UndefinedMetricWarning: Precision is ill-defined and being set to 0.0 in labels with no predicted samples. Use `zero_division` parameter to control this behavior.\n",
            "  _warn_prf(average, modifier, f\"{metric.capitalize()} is\", len(result))\n",
            "/usr/local/lib/python3.11/dist-packages/sklearn/metrics/_classification.py:1565: UndefinedMetricWarning: Precision is ill-defined and being set to 0.0 in labels with no predicted samples. Use `zero_division` parameter to control this behavior.\n",
            "  _warn_prf(average, modifier, f\"{metric.capitalize()} is\", len(result))\n",
            "/usr/local/lib/python3.11/dist-packages/sklearn/metrics/_classification.py:1565: UndefinedMetricWarning: Precision is ill-defined and being set to 0.0 in labels with no predicted samples. Use `zero_division` parameter to control this behavior.\n",
            "  _warn_prf(average, modifier, f\"{metric.capitalize()} is\", len(result))\n"
          ]
        },
        {
          "output_type": "stream",
          "name": "stdout",
          "text": [
            "✅ SINEM_RESNET50 için confusion matrix kaydedildi: Resut/combined_dataset/SINEM_RESNET50/confusion_matrix_SINEM_RESNET50.png\n",
            "📄 SINEM_RESNET50 için sınıflandırma raporu kaydedildi: Resut/combined_dataset/SINEM_RESNET50/classification_report_SINEM_RESNET50.txt\n"
          ]
        },
        {
          "output_type": "stream",
          "name": "stderr",
          "text": [
            "/usr/local/lib/python3.11/dist-packages/torchvision/models/_utils.py:208: UserWarning: The parameter 'pretrained' is deprecated since 0.13 and may be removed in the future, please use 'weights' instead.\n",
            "  warnings.warn(\n",
            "/usr/local/lib/python3.11/dist-packages/torchvision/models/_utils.py:223: UserWarning: Arguments other than a weight enum or `None` for 'weights' are deprecated since 0.13 and may be removed in the future. The current behavior is equivalent to passing `weights=DenseNet121_Weights.IMAGENET1K_V1`. You can also use `weights=DenseNet121_Weights.DEFAULT` to get the most up-to-date weights.\n",
            "  warnings.warn(msg)\n",
            "Testing SINEM_DENSENET121: 100%|██████████| 11/11 [00:03<00:00,  3.04it/s]\n",
            "/usr/local/lib/python3.11/dist-packages/sklearn/metrics/_classification.py:1565: UndefinedMetricWarning: Precision is ill-defined and being set to 0.0 in labels with no predicted samples. Use `zero_division` parameter to control this behavior.\n",
            "  _warn_prf(average, modifier, f\"{metric.capitalize()} is\", len(result))\n",
            "/usr/local/lib/python3.11/dist-packages/sklearn/metrics/_classification.py:1565: UndefinedMetricWarning: Precision is ill-defined and being set to 0.0 in labels with no predicted samples. Use `zero_division` parameter to control this behavior.\n",
            "  _warn_prf(average, modifier, f\"{metric.capitalize()} is\", len(result))\n",
            "/usr/local/lib/python3.11/dist-packages/sklearn/metrics/_classification.py:1565: UndefinedMetricWarning: Precision is ill-defined and being set to 0.0 in labels with no predicted samples. Use `zero_division` parameter to control this behavior.\n",
            "  _warn_prf(average, modifier, f\"{metric.capitalize()} is\", len(result))\n",
            "/usr/local/lib/python3.11/dist-packages/torchvision/models/_utils.py:208: UserWarning: The parameter 'pretrained' is deprecated since 0.13 and may be removed in the future, please use 'weights' instead.\n",
            "  warnings.warn(\n",
            "/usr/local/lib/python3.11/dist-packages/torchvision/models/_utils.py:223: UserWarning: Arguments other than a weight enum or `None` for 'weights' are deprecated since 0.13 and may be removed in the future. The current behavior is equivalent to passing `weights=EfficientNet_B0_Weights.IMAGENET1K_V1`. You can also use `weights=EfficientNet_B0_Weights.DEFAULT` to get the most up-to-date weights.\n",
            "  warnings.warn(msg)\n"
          ]
        },
        {
          "output_type": "stream",
          "name": "stdout",
          "text": [
            "✅ SINEM_DENSENET121 için confusion matrix kaydedildi: Resut/combined_dataset/SINEM_DENSENET121/confusion_matrix_SINEM_DENSENET121.png\n",
            "📄 SINEM_DENSENET121 için sınıflandırma raporu kaydedildi: Resut/combined_dataset/SINEM_DENSENET121/classification_report_SINEM_DENSENET121.txt\n"
          ]
        },
        {
          "output_type": "stream",
          "name": "stderr",
          "text": [
            "Testing SINEM_EFFICIENTNET_B0: 100%|██████████| 11/11 [00:03<00:00,  3.39it/s]\n"
          ]
        },
        {
          "output_type": "stream",
          "name": "stdout",
          "text": [
            "✅ SINEM_EFFICIENTNET_B0 için confusion matrix kaydedildi: Resut/combined_dataset/SINEM_EFFICIENTNET_B0/confusion_matrix_SINEM_EFFICIENTNET_B0.png\n",
            "📄 SINEM_EFFICIENTNET_B0 için sınıflandırma raporu kaydedildi: Resut/combined_dataset/SINEM_EFFICIENTNET_B0/classification_report_SINEM_EFFICIENTNET_B0.txt\n"
          ]
        },
        {
          "output_type": "stream",
          "name": "stderr",
          "text": [
            "/usr/local/lib/python3.11/dist-packages/torchvision/models/_utils.py:208: UserWarning: The parameter 'pretrained' is deprecated since 0.13 and may be removed in the future, please use 'weights' instead.\n",
            "  warnings.warn(\n",
            "/usr/local/lib/python3.11/dist-packages/torchvision/models/_utils.py:223: UserWarning: Arguments other than a weight enum or `None` for 'weights' are deprecated since 0.13 and may be removed in the future. The current behavior is equivalent to passing `weights=MobileNet_V2_Weights.IMAGENET1K_V1`. You can also use `weights=MobileNet_V2_Weights.DEFAULT` to get the most up-to-date weights.\n",
            "  warnings.warn(msg)\n",
            "Testing SINEM_MOBILENET_V2: 100%|██████████| 11/11 [00:03<00:00,  2.95it/s]\n",
            "/usr/local/lib/python3.11/dist-packages/sklearn/metrics/_classification.py:1565: UndefinedMetricWarning: Precision is ill-defined and being set to 0.0 in labels with no predicted samples. Use `zero_division` parameter to control this behavior.\n",
            "  _warn_prf(average, modifier, f\"{metric.capitalize()} is\", len(result))\n",
            "/usr/local/lib/python3.11/dist-packages/sklearn/metrics/_classification.py:1565: UndefinedMetricWarning: Precision is ill-defined and being set to 0.0 in labels with no predicted samples. Use `zero_division` parameter to control this behavior.\n",
            "  _warn_prf(average, modifier, f\"{metric.capitalize()} is\", len(result))\n",
            "/usr/local/lib/python3.11/dist-packages/sklearn/metrics/_classification.py:1565: UndefinedMetricWarning: Precision is ill-defined and being set to 0.0 in labels with no predicted samples. Use `zero_division` parameter to control this behavior.\n",
            "  _warn_prf(average, modifier, f\"{metric.capitalize()} is\", len(result))\n"
          ]
        },
        {
          "output_type": "stream",
          "name": "stdout",
          "text": [
            "✅ SINEM_MOBILENET_V2 için confusion matrix kaydedildi: Resut/combined_dataset/SINEM_MOBILENET_V2/confusion_matrix_SINEM_MOBILENET_V2.png\n",
            "📄 SINEM_MOBILENET_V2 için sınıflandırma raporu kaydedildi: Resut/combined_dataset/SINEM_MOBILENET_V2/classification_report_SINEM_MOBILENET_V2.txt\n"
          ]
        }
      ]
    },
    {
      "cell_type": "code",
      "source": [
        "from sklearn.metrics import accuracy_score, precision_score, recall_score, f1_score, classification_report, confusion_matrix\n",
        "import torch\n",
        "import os\n",
        "from tqdm import tqdm\n",
        "import numpy as np\n",
        "import seaborn as sns\n",
        "import matplotlib.pyplot as plt\n",
        "\n",
        "model_names = [\"vgg16\", \"resnet50\", \"densenet121\", \"efficientnet_b0\", \"mobilenet_v2\"]\n",
        "dataset_tag = os.path.basename(dataset_path.strip(\"/\"))\n",
        "device = torch.device(\"cuda\" if torch.cuda.is_available() else \"cpu\")\n",
        "num_classes = len(full_dataset.classes)\n",
        "\n",
        "for model_name in model_names:\n",
        "    Model_Name = f\"SINEM_{model_name.upper()}\"\n",
        "    model_save_path = f\"Egitilen_Modeller/{dataset_tag}/{Model_Name}\"\n",
        "    result_path = f\"Resut/{dataset_tag}/{Model_Name}\"\n",
        "    os.makedirs(result_path, exist_ok=True)\n",
        "\n",
        "    print(f\"\\n==============================\")\n",
        "    print(f\"📊 Değerlendirme Başladı: {Model_Name}\")\n",
        "    print(f\"==============================\")\n",
        "\n",
        "    # Modeli oluştur ve ağırlığı yükle\n",
        "    model = get_model(model_name, num_classes, device)\n",
        "    best_model_path = os.path.join(model_save_path, f\"Best_{Model_Name}-{dataset_tag}.pth\")\n",
        "    model.load_state_dict(torch.load(best_model_path, map_location=device))\n",
        "    model.eval()\n",
        "\n",
        "    y_true, y_pred = [], []\n",
        "    with torch.no_grad():\n",
        "        for inputs, targets in tqdm(test_loader, desc=f\"Testing {Model_Name}\"):\n",
        "            inputs = inputs.to(device)\n",
        "            outputs = model(inputs)\n",
        "            preds = torch.argmax(outputs, dim=1).cpu().numpy()\n",
        "            y_pred.extend(preds)\n",
        "            y_true.extend(targets.numpy())\n",
        "\n",
        "    # Metrikler\n",
        "    acc = accuracy_score(y_true, y_pred)\n",
        "    precision = precision_score(y_true, y_pred, average='macro')\n",
        "    recall = recall_score(y_true, y_pred, average='macro')\n",
        "    f1 = f1_score(y_true, y_pred, average='macro')\n",
        "    report = classification_report(y_true, y_pred, target_names=full_dataset.classes)\n",
        "\n",
        "    print(f\"Test Accuracy : {acc:.4f}\")\n",
        "    print(f\"Test Precision: {precision:.4f}\")\n",
        "    print(f\"Test Recall   : {recall:.4f}\")\n",
        "    print(f\"Test F1-Score : {f1:.4f}\")\n",
        "\n",
        "    # Raporu kaydet\n",
        "    report_path = os.path.join(result_path, f\"{Model_Name}_classification_report.txt\")\n",
        "    with open(report_path, \"w\") as f:\n",
        "        f.write(f\"Test Accuracy : {acc:.4f}\\n\")\n",
        "        f.write(f\"Test Precision: {precision:.4f}\\n\")\n",
        "        f.write(f\"Test Recall   : {recall:.4f}\\n\")\n",
        "        f.write(f\"Test F1-Score : {f1:.4f}\\n\\n\")\n",
        "        f.write(\"Classification Report:\\n\")\n",
        "        f.write(report)\n",
        "    print(f\"📄 Sınıflandırma raporu kaydedildi: {report_path}\")\n",
        "\n",
        "    # Confusion matrix çizimi\n",
        "    cm = confusion_matrix(y_true, y_pred)\n",
        "    plt.figure(figsize=(10, 10))\n",
        "    sns.heatmap(cm, annot=True, fmt='d', cmap='Blues',\n",
        "                xticklabels=full_dataset.classes,\n",
        "                yticklabels=full_dataset.classes)\n",
        "    plt.xlabel('Predicted')\n",
        "    plt.ylabel('True')\n",
        "    plt.title(f'Confusion Matrix - {Model_Name}')\n",
        "    cm_path = os.path.join(result_path, f\"confusion_matrix_{Model_Name}.png\")\n",
        "    plt.tight_layout()\n",
        "    plt.savefig(cm_path)\n",
        "    plt.close()\n",
        "    print(f\"📉 Confusion matrix kaydedildi: {cm_path}\")\n"
      ],
      "metadata": {
        "id": "_rRiz8dJ7Pdo",
        "colab": {
          "base_uri": "https://localhost:8080/"
        },
        "outputId": "4759c761-0a0a-4ddd-ec0a-3d1382095734"
      },
      "execution_count": 24,
      "outputs": [
        {
          "output_type": "stream",
          "name": "stdout",
          "text": [
            "\n",
            "==============================\n",
            "📊 Değerlendirme Başladı: SINEM_VGG16\n",
            "==============================\n"
          ]
        },
        {
          "output_type": "stream",
          "name": "stderr",
          "text": [
            "/usr/local/lib/python3.11/dist-packages/torchvision/models/_utils.py:208: UserWarning: The parameter 'pretrained' is deprecated since 0.13 and may be removed in the future, please use 'weights' instead.\n",
            "  warnings.warn(\n",
            "/usr/local/lib/python3.11/dist-packages/torchvision/models/_utils.py:223: UserWarning: Arguments other than a weight enum or `None` for 'weights' are deprecated since 0.13 and may be removed in the future. The current behavior is equivalent to passing `weights=VGG16_Weights.IMAGENET1K_V1`. You can also use `weights=VGG16_Weights.DEFAULT` to get the most up-to-date weights.\n",
            "  warnings.warn(msg)\n",
            "Testing SINEM_VGG16: 100%|██████████| 11/11 [00:04<00:00,  2.52it/s]\n",
            "/usr/local/lib/python3.11/dist-packages/sklearn/metrics/_classification.py:1565: UndefinedMetricWarning: Precision is ill-defined and being set to 0.0 in labels with no predicted samples. Use `zero_division` parameter to control this behavior.\n",
            "  _warn_prf(average, modifier, f\"{metric.capitalize()} is\", len(result))\n",
            "/usr/local/lib/python3.11/dist-packages/sklearn/metrics/_classification.py:1565: UndefinedMetricWarning: Precision is ill-defined and being set to 0.0 in labels with no predicted samples. Use `zero_division` parameter to control this behavior.\n",
            "  _warn_prf(average, modifier, f\"{metric.capitalize()} is\", len(result))\n",
            "/usr/local/lib/python3.11/dist-packages/sklearn/metrics/_classification.py:1565: UndefinedMetricWarning: Precision is ill-defined and being set to 0.0 in labels with no predicted samples. Use `zero_division` parameter to control this behavior.\n",
            "  _warn_prf(average, modifier, f\"{metric.capitalize()} is\", len(result))\n",
            "/usr/local/lib/python3.11/dist-packages/sklearn/metrics/_classification.py:1565: UndefinedMetricWarning: Precision is ill-defined and being set to 0.0 in labels with no predicted samples. Use `zero_division` parameter to control this behavior.\n",
            "  _warn_prf(average, modifier, f\"{metric.capitalize()} is\", len(result))\n",
            "/usr/local/lib/python3.11/dist-packages/torchvision/models/_utils.py:208: UserWarning: The parameter 'pretrained' is deprecated since 0.13 and may be removed in the future, please use 'weights' instead.\n",
            "  warnings.warn(\n",
            "/usr/local/lib/python3.11/dist-packages/torchvision/models/_utils.py:223: UserWarning: Arguments other than a weight enum or `None` for 'weights' are deprecated since 0.13 and may be removed in the future. The current behavior is equivalent to passing `weights=ResNet50_Weights.IMAGENET1K_V1`. You can also use `weights=ResNet50_Weights.DEFAULT` to get the most up-to-date weights.\n",
            "  warnings.warn(msg)\n"
          ]
        },
        {
          "output_type": "stream",
          "name": "stdout",
          "text": [
            "Test Accuracy : 0.6608\n",
            "Test Precision: 0.4421\n",
            "Test Recall   : 0.4499\n",
            "Test F1-Score : 0.4444\n",
            "📄 Sınıflandırma raporu kaydedildi: Resut/combined_dataset/SINEM_VGG16/SINEM_VGG16_classification_report.txt\n",
            "📉 Confusion matrix kaydedildi: Resut/combined_dataset/SINEM_VGG16/confusion_matrix_SINEM_VGG16.png\n",
            "\n",
            "==============================\n",
            "📊 Değerlendirme Başladı: SINEM_RESNET50\n",
            "==============================\n"
          ]
        },
        {
          "output_type": "stream",
          "name": "stderr",
          "text": [
            "Testing SINEM_RESNET50: 100%|██████████| 11/11 [00:04<00:00,  2.44it/s]\n",
            "/usr/local/lib/python3.11/dist-packages/sklearn/metrics/_classification.py:1565: UndefinedMetricWarning: Precision is ill-defined and being set to 0.0 in labels with no predicted samples. Use `zero_division` parameter to control this behavior.\n",
            "  _warn_prf(average, modifier, f\"{metric.capitalize()} is\", len(result))\n",
            "/usr/local/lib/python3.11/dist-packages/sklearn/metrics/_classification.py:1565: UndefinedMetricWarning: Precision is ill-defined and being set to 0.0 in labels with no predicted samples. Use `zero_division` parameter to control this behavior.\n",
            "  _warn_prf(average, modifier, f\"{metric.capitalize()} is\", len(result))\n",
            "/usr/local/lib/python3.11/dist-packages/sklearn/metrics/_classification.py:1565: UndefinedMetricWarning: Precision is ill-defined and being set to 0.0 in labels with no predicted samples. Use `zero_division` parameter to control this behavior.\n",
            "  _warn_prf(average, modifier, f\"{metric.capitalize()} is\", len(result))\n",
            "/usr/local/lib/python3.11/dist-packages/sklearn/metrics/_classification.py:1565: UndefinedMetricWarning: Precision is ill-defined and being set to 0.0 in labels with no predicted samples. Use `zero_division` parameter to control this behavior.\n",
            "  _warn_prf(average, modifier, f\"{metric.capitalize()} is\", len(result))\n"
          ]
        },
        {
          "output_type": "stream",
          "name": "stdout",
          "text": [
            "Test Accuracy : 0.7339\n",
            "Test Precision: 0.4883\n",
            "Test Recall   : 0.4970\n",
            "Test F1-Score : 0.4926\n",
            "📄 Sınıflandırma raporu kaydedildi: Resut/combined_dataset/SINEM_RESNET50/SINEM_RESNET50_classification_report.txt\n",
            "📉 Confusion matrix kaydedildi: Resut/combined_dataset/SINEM_RESNET50/confusion_matrix_SINEM_RESNET50.png\n",
            "\n",
            "==============================\n",
            "📊 Değerlendirme Başladı: SINEM_DENSENET121\n",
            "==============================\n"
          ]
        },
        {
          "output_type": "stream",
          "name": "stderr",
          "text": [
            "/usr/local/lib/python3.11/dist-packages/torchvision/models/_utils.py:208: UserWarning: The parameter 'pretrained' is deprecated since 0.13 and may be removed in the future, please use 'weights' instead.\n",
            "  warnings.warn(\n",
            "/usr/local/lib/python3.11/dist-packages/torchvision/models/_utils.py:223: UserWarning: Arguments other than a weight enum or `None` for 'weights' are deprecated since 0.13 and may be removed in the future. The current behavior is equivalent to passing `weights=DenseNet121_Weights.IMAGENET1K_V1`. You can also use `weights=DenseNet121_Weights.DEFAULT` to get the most up-to-date weights.\n",
            "  warnings.warn(msg)\n",
            "Testing SINEM_DENSENET121: 100%|██████████| 11/11 [00:03<00:00,  2.96it/s]\n",
            "/usr/local/lib/python3.11/dist-packages/sklearn/metrics/_classification.py:1565: UndefinedMetricWarning: Precision is ill-defined and being set to 0.0 in labels with no predicted samples. Use `zero_division` parameter to control this behavior.\n",
            "  _warn_prf(average, modifier, f\"{metric.capitalize()} is\", len(result))\n",
            "/usr/local/lib/python3.11/dist-packages/sklearn/metrics/_classification.py:1565: UndefinedMetricWarning: Precision is ill-defined and being set to 0.0 in labels with no predicted samples. Use `zero_division` parameter to control this behavior.\n",
            "  _warn_prf(average, modifier, f\"{metric.capitalize()} is\", len(result))\n",
            "/usr/local/lib/python3.11/dist-packages/sklearn/metrics/_classification.py:1565: UndefinedMetricWarning: Precision is ill-defined and being set to 0.0 in labels with no predicted samples. Use `zero_division` parameter to control this behavior.\n",
            "  _warn_prf(average, modifier, f\"{metric.capitalize()} is\", len(result))\n",
            "/usr/local/lib/python3.11/dist-packages/sklearn/metrics/_classification.py:1565: UndefinedMetricWarning: Precision is ill-defined and being set to 0.0 in labels with no predicted samples. Use `zero_division` parameter to control this behavior.\n",
            "  _warn_prf(average, modifier, f\"{metric.capitalize()} is\", len(result))\n"
          ]
        },
        {
          "output_type": "stream",
          "name": "stdout",
          "text": [
            "Test Accuracy : 0.7398\n",
            "Test Precision: 0.4922\n",
            "Test Recall   : 0.5013\n",
            "Test F1-Score : 0.4967\n",
            "📄 Sınıflandırma raporu kaydedildi: Resut/combined_dataset/SINEM_DENSENET121/SINEM_DENSENET121_classification_report.txt\n",
            "📉 Confusion matrix kaydedildi: Resut/combined_dataset/SINEM_DENSENET121/confusion_matrix_SINEM_DENSENET121.png\n",
            "\n",
            "==============================\n",
            "📊 Değerlendirme Başladı: SINEM_EFFICIENTNET_B0\n",
            "==============================\n"
          ]
        },
        {
          "output_type": "stream",
          "name": "stderr",
          "text": [
            "/usr/local/lib/python3.11/dist-packages/torchvision/models/_utils.py:208: UserWarning: The parameter 'pretrained' is deprecated since 0.13 and may be removed in the future, please use 'weights' instead.\n",
            "  warnings.warn(\n",
            "/usr/local/lib/python3.11/dist-packages/torchvision/models/_utils.py:223: UserWarning: Arguments other than a weight enum or `None` for 'weights' are deprecated since 0.13 and may be removed in the future. The current behavior is equivalent to passing `weights=EfficientNet_B0_Weights.IMAGENET1K_V1`. You can also use `weights=EfficientNet_B0_Weights.DEFAULT` to get the most up-to-date weights.\n",
            "  warnings.warn(msg)\n",
            "Testing SINEM_EFFICIENTNET_B0: 100%|██████████| 11/11 [00:03<00:00,  3.52it/s]\n",
            "/usr/local/lib/python3.11/dist-packages/sklearn/metrics/_classification.py:1565: UndefinedMetricWarning: Precision is ill-defined and being set to 0.0 in labels with no predicted samples. Use `zero_division` parameter to control this behavior.\n",
            "  _warn_prf(average, modifier, f\"{metric.capitalize()} is\", len(result))\n",
            "/usr/local/lib/python3.11/dist-packages/sklearn/metrics/_classification.py:1565: UndefinedMetricWarning: Precision is ill-defined and being set to 0.0 in labels with no predicted samples. Use `zero_division` parameter to control this behavior.\n",
            "  _warn_prf(average, modifier, f\"{metric.capitalize()} is\", len(result))\n",
            "/usr/local/lib/python3.11/dist-packages/sklearn/metrics/_classification.py:1565: UndefinedMetricWarning: Precision is ill-defined and being set to 0.0 in labels with no predicted samples. Use `zero_division` parameter to control this behavior.\n",
            "  _warn_prf(average, modifier, f\"{metric.capitalize()} is\", len(result))\n",
            "/usr/local/lib/python3.11/dist-packages/sklearn/metrics/_classification.py:1565: UndefinedMetricWarning: Precision is ill-defined and being set to 0.0 in labels with no predicted samples. Use `zero_division` parameter to control this behavior.\n",
            "  _warn_prf(average, modifier, f\"{metric.capitalize()} is\", len(result))\n"
          ]
        },
        {
          "output_type": "stream",
          "name": "stdout",
          "text": [
            "Test Accuracy : 0.7193\n",
            "Test Precision: 0.4803\n",
            "Test Recall   : 0.4892\n",
            "Test F1-Score : 0.4836\n",
            "📄 Sınıflandırma raporu kaydedildi: Resut/combined_dataset/SINEM_EFFICIENTNET_B0/SINEM_EFFICIENTNET_B0_classification_report.txt\n"
          ]
        },
        {
          "output_type": "stream",
          "name": "stderr",
          "text": [
            "/usr/local/lib/python3.11/dist-packages/torchvision/models/_utils.py:208: UserWarning: The parameter 'pretrained' is deprecated since 0.13 and may be removed in the future, please use 'weights' instead.\n",
            "  warnings.warn(\n",
            "/usr/local/lib/python3.11/dist-packages/torchvision/models/_utils.py:223: UserWarning: Arguments other than a weight enum or `None` for 'weights' are deprecated since 0.13 and may be removed in the future. The current behavior is equivalent to passing `weights=MobileNet_V2_Weights.IMAGENET1K_V1`. You can also use `weights=MobileNet_V2_Weights.DEFAULT` to get the most up-to-date weights.\n",
            "  warnings.warn(msg)\n"
          ]
        },
        {
          "output_type": "stream",
          "name": "stdout",
          "text": [
            "📉 Confusion matrix kaydedildi: Resut/combined_dataset/SINEM_EFFICIENTNET_B0/confusion_matrix_SINEM_EFFICIENTNET_B0.png\n",
            "\n",
            "==============================\n",
            "📊 Değerlendirme Başladı: SINEM_MOBILENET_V2\n",
            "==============================\n"
          ]
        },
        {
          "output_type": "stream",
          "name": "stderr",
          "text": [
            "Testing SINEM_MOBILENET_V2: 100%|██████████| 11/11 [00:03<00:00,  2.85it/s]\n"
          ]
        },
        {
          "output_type": "stream",
          "name": "stdout",
          "text": [
            "Test Accuracy : 0.7515\n",
            "Test Precision: 0.5046\n",
            "Test Recall   : 0.5118\n",
            "Test F1-Score : 0.5061\n",
            "📄 Sınıflandırma raporu kaydedildi: Resut/combined_dataset/SINEM_MOBILENET_V2/SINEM_MOBILENET_V2_classification_report.txt\n",
            "📉 Confusion matrix kaydedildi: Resut/combined_dataset/SINEM_MOBILENET_V2/confusion_matrix_SINEM_MOBILENET_V2.png\n"
          ]
        }
      ]
    },
    {
      "cell_type": "code",
      "source": [
        "\n",
        "from torchvision.models import (\n",
        "    vgg16, resnet50, densenet121, efficientnet_b0, mobilenet_v2\n",
        ")\n",
        "import torch.nn as nn\n",
        "import torch\n",
        "\n",
        "def get_model(model_name, num_classes, device):\n",
        "    if model_name == \"vgg16\":\n",
        "        model = vgg16(pretrained=True)\n",
        "        model.classifier[6] = nn.Linear(model.classifier[6].in_features, num_classes)\n",
        "        for param in model.parameters():\n",
        "            param.requires_grad = False\n",
        "        for param in model.classifier[6].parameters():\n",
        "            param.requires_grad = True\n",
        "    elif model_name == \"resnet50\":\n",
        "        model = resnet50(pretrained=True)\n",
        "        model.fc = nn.Linear(model.fc.in_features, num_classes)\n",
        "        for param in model.parameters():\n",
        "            param.requires_grad = False\n",
        "        for param in model.fc.parameters():\n",
        "            param.requires_grad = True\n",
        "    elif model_name == \"densenet121\":\n",
        "        model = densenet121(pretrained=True)\n",
        "        model.classifier = nn.Linear(model.classifier.in_features, num_classes)\n",
        "        for param in model.parameters():\n",
        "            param.requires_grad = False\n",
        "        for param in model.classifier.parameters():\n",
        "            param.requires_grad = True\n",
        "    elif model_name == \"efficientnet_b0\":\n",
        "        model = efficientnet_b0(pretrained=True)\n",
        "        model.classifier[1] = nn.Linear(model.classifier[1].in_features, num_classes)\n",
        "        for param in model.parameters():\n",
        "            param.requires_grad = False\n",
        "        for param in model.classifier[1].parameters():\n",
        "            param.requires_grad = True\n",
        "    elif model_name == \"mobilenet_v2\":\n",
        "        model = mobilenet_v2(pretrained=True)\n",
        "        model.classifier[1] = nn.Linear(model.classifier[1].in_features, num_classes)\n",
        "        for param in model.parameters():\n",
        "            param.requires_grad = False\n",
        "        for param in model.classifier[1].parameters():\n",
        "            param.requires_grad = True\n",
        "    else:\n",
        "        raise ValueError(f\"Unsupported model: {model_name}\")\n",
        "    return model.to(device)\n"
      ],
      "metadata": {
        "id": "8R-AXSdI7RE4"
      },
      "execution_count": 25,
      "outputs": []
    },
    {
      "cell_type": "code",
      "source": [
        "\n",
        "device = torch.device(\"cuda\" if torch.cuda.is_available() else \"cpu\")\n",
        "num_classes = len(full_dataset.classes)\n",
        "\n",
        "# Model çağırma örnekleri:\n",
        "model_vgg16 = get_model(\"vgg16\", num_classes, device)\n",
        "model_resnet50 = get_model(\"resnet50\", num_classes, device)\n",
        "model_densenet121 = get_model(\"densenet121\", num_classes, device)\n",
        "model_efficientnet_b0 = get_model(\"efficientnet_b0\", num_classes, device)\n",
        "model_mobilenet_v2 = get_model(\"mobilenet_v2\", num_classes, device)\n"
      ],
      "metadata": {
        "id": "Pb0VBmS67TRq",
        "colab": {
          "base_uri": "https://localhost:8080/"
        },
        "outputId": "0cccb68d-52ff-46f3-e266-1c8893fbc01e"
      },
      "execution_count": 26,
      "outputs": [
        {
          "output_type": "stream",
          "name": "stderr",
          "text": [
            "/usr/local/lib/python3.11/dist-packages/torchvision/models/_utils.py:208: UserWarning: The parameter 'pretrained' is deprecated since 0.13 and may be removed in the future, please use 'weights' instead.\n",
            "  warnings.warn(\n",
            "/usr/local/lib/python3.11/dist-packages/torchvision/models/_utils.py:223: UserWarning: Arguments other than a weight enum or `None` for 'weights' are deprecated since 0.13 and may be removed in the future. The current behavior is equivalent to passing `weights=VGG16_Weights.IMAGENET1K_V1`. You can also use `weights=VGG16_Weights.DEFAULT` to get the most up-to-date weights.\n",
            "  warnings.warn(msg)\n",
            "/usr/local/lib/python3.11/dist-packages/torchvision/models/_utils.py:223: UserWarning: Arguments other than a weight enum or `None` for 'weights' are deprecated since 0.13 and may be removed in the future. The current behavior is equivalent to passing `weights=ResNet50_Weights.IMAGENET1K_V1`. You can also use `weights=ResNet50_Weights.DEFAULT` to get the most up-to-date weights.\n",
            "  warnings.warn(msg)\n",
            "/usr/local/lib/python3.11/dist-packages/torchvision/models/_utils.py:223: UserWarning: Arguments other than a weight enum or `None` for 'weights' are deprecated since 0.13 and may be removed in the future. The current behavior is equivalent to passing `weights=DenseNet121_Weights.IMAGENET1K_V1`. You can also use `weights=DenseNet121_Weights.DEFAULT` to get the most up-to-date weights.\n",
            "  warnings.warn(msg)\n",
            "/usr/local/lib/python3.11/dist-packages/torchvision/models/_utils.py:223: UserWarning: Arguments other than a weight enum or `None` for 'weights' are deprecated since 0.13 and may be removed in the future. The current behavior is equivalent to passing `weights=EfficientNet_B0_Weights.IMAGENET1K_V1`. You can also use `weights=EfficientNet_B0_Weights.DEFAULT` to get the most up-to-date weights.\n",
            "  warnings.warn(msg)\n",
            "/usr/local/lib/python3.11/dist-packages/torchvision/models/_utils.py:223: UserWarning: Arguments other than a weight enum or `None` for 'weights' are deprecated since 0.13 and may be removed in the future. The current behavior is equivalent to passing `weights=MobileNet_V2_Weights.IMAGENET1K_V1`. You can also use `weights=MobileNet_V2_Weights.DEFAULT` to get the most up-to-date weights.\n",
            "  warnings.warn(msg)\n"
          ]
        }
      ]
    },
    {
      "cell_type": "code",
      "source": [
        "from google.colab import drive\n",
        "drive.mount('/content/drive')"
      ],
      "metadata": {
        "id": "68l5bXS_VqUl",
        "colab": {
          "base_uri": "https://localhost:8080/"
        },
        "outputId": "d52ef5a5-8e0f-47f8-d7c1-860175578244"
      },
      "execution_count": 27,
      "outputs": [
        {
          "output_type": "stream",
          "name": "stdout",
          "text": [
            "Drive already mounted at /content/drive; to attempt to forcibly remount, call drive.mount(\"/content/drive\", force_remount=True).\n"
          ]
        }
      ]
    }
  ]
}